{
 "cells": [
  {
   "cell_type": "markdown",
   "metadata": {
    "slideshow": {
     "slide_type": "slide"
    }
   },
   "source": [
    "# PCA and LDA\n",
    "\n",
    "This exercise tries to show the basics on how to use PCA and LDA to perform unsupervised (PCA) and supervised (LDA) dimensionality reduction, in order to obtain better classification results.\n",
    "\n",
    "The exercise is based on the [Wine dataset](https://archive.ics.uci.edu/ml/datasets/wine), which is a multinomial classification problem with 13 numerical features and 178 samples."
   ]
  },
  {
   "cell_type": "code",
   "execution_count": 1,
   "metadata": {
    "slideshow": {
     "slide_type": "skip"
    }
   },
   "outputs": [],
   "source": [
    "%run hide_code_in_slideshow.py"
   ]
  },
  {
   "cell_type": "code",
   "execution_count": 2,
   "metadata": {
    "code_folding": [],
    "slideshow": {
     "slide_type": "skip"
    }
   },
   "outputs": [],
   "source": [
    "# Imports\n",
    "import warnings\n",
    "\n",
    "warnings.simplefilter(action='ignore')\n",
    "\n",
    "import pandas as pd\n",
    "import numpy as np\n",
    "from dataset import Dataset\n",
    "from factor_analyzer import FactorAnalyzer\n",
    "import matplotlib.pyplot as plt\n",
    "import scipy.stats as stats\n",
    "import seaborn as sns; sns.set()\n",
    "from sklearn.base import BaseEstimator, ClassifierMixin\n",
    "from sklearn.decomposition import PCA, FactorAnalysis\n",
    "from sklearn.discriminant_analysis import LinearDiscriminantAnalysis\n",
    "from sklearn.model_selection import GridSearchCV, LeaveOneOut, cross_val_score\n",
    "from sklearn.model_selection import train_test_split\n",
    "from sklearn.naive_bayes import GaussianNB\n",
    "from sklearn.neighbors import KernelDensity\n",
    "from sklearn.neighbors import KNeighborsClassifier\n",
    "from sklearn.metrics import roc_curve, roc_auc_score, accuracy_score\n",
    "from matplotlib import pyplot"
   ]
  },
  {
   "cell_type": "markdown",
   "metadata": {
    "slideshow": {
     "slide_type": "slide"
    }
   },
   "source": [
    "Read the Wine dataset"
   ]
  },
  {
   "cell_type": "code",
   "execution_count": 3,
   "metadata": {
    "slideshow": {
     "slide_type": "fragment"
    }
   },
   "outputs": [
    {
     "data": {
      "image/png": "[encoded data removed]",
      "text/plain": [
       "<Figure size 432x288 with 16 Axes>"
      ]
     },
     "metadata": {},
     "output_type": "display_data"
    }
   ],
   "source": [
    "url = 'http://archive.ics.uci.edu/ml/machine-learning-databases/wine/wine.data'\n",
    "wine = Dataset(url, header=None, delimiter=',')\n",
    "wine.set_target('x0').scale().fix_skewness()\n",
    "\n",
    "# Plot the histograms of the features\n",
    "wine.features.hist(sharex=True, sharey=True)\n",
    "plt.show();"
   ]
  },
  {
   "cell_type": "markdown",
   "metadata": {
    "slideshow": {
     "slide_type": "slide"
    }
   },
   "source": [
    "## PCA\n",
    "\n",
    "Applying PCA to the dataset is extremely simple. Let's do it specifying the number of components, and print out the explained variance from each of the components, by accessing the internal property of `pca` called `explained_variance_ratio_` which is an array of `n_components`."
   ]
  },
  {
   "cell_type": "code",
   "execution_count": 4,
   "metadata": {
    "slideshow": {
     "slide_type": "slide"
    }
   },
   "outputs": [],
   "source": [
    "pca = PCA(n_components=3)\n",
    "X = pca.fit(wine.features).transform(wine.features)\n",
    "y = wine.target"
   ]
  },
  {
   "cell_type": "code",
   "execution_count": 5,
   "metadata": {
    "hide_input": true,
    "slideshow": {
     "slide_type": "fragment"
    }
   },
   "outputs": [
    {
     "name": "stdout",
     "output_type": "stream",
     "text": [
      "Explained variance (first 3 components): [0.35141598 0.20861857 0.11324707]\n"
     ]
    }
   ],
   "source": [
    "# Percentage of variance explained for each components\n",
    "explained_variance = pca.explained_variance_ratio_\n",
    "num_components = len(explained_variance)\n",
    "print('Explained variance (first {} components): {}'.format(\n",
    "    len(explained_variance), str(explained_variance)))"
   ]
  },
  {
   "cell_type": "code",
   "execution_count": 6,
   "metadata": {
    "hideCode": true,
    "hide_input": true,
    "slideshow": {
     "slide_type": "fragment"
    }
   },
   "outputs": [
    {
     "data": {
      "text/html": [
       "<div id=\"9f15445b17131439\"></div>\n",
       "    <script type=\"text/javascript\">\n",
       "        $(function(){\n",
       "            var p = $(\"#9f15445b17131439\");\n",
       "            if (p.length==0) return;\n",
       "\n",
       "            while (!p.hasClass(\"cell\")) {\n",
       "                p=p.parent();\n",
       "\n",
       "                if (p.prop(\"tagName\") ==\"body\") return;\n",
       "            }\n",
       "            var cell = p;\n",
       "            cell.find(\".input\").addClass(\"hide-in-slideshow\")\n",
       "        });\n",
       "    </script>"
      ]
     },
     "metadata": {},
     "output_type": "display_data"
    },
    {
     "data": {
      "image/png": "[encoded data removed]",
      "text/plain": [
       "<Figure size 432x288 with 1 Axes>"
      ]
     },
     "metadata": {},
     "output_type": "display_data"
    }
   ],
   "source": [
    "hide_code_in_slideshow()\n",
    "plt.bar(range(num_components), explained_variance)\n",
    "plt.xticks(range(num_components), ('pc1', 'pc2', 'pc3'))\n",
    "plt.title('Explained variance per component in PCA')\n",
    "plt.show();"
   ]
  },
  {
   "cell_type": "markdown",
   "metadata": {
    "slideshow": {
     "slide_type": "slide"
    }
   },
   "source": [
    "Now, the interpretation. We will make three plots\n",
    "\n",
    "  1. PC1 vs. PC2\n",
    "  2. PC1 vs. PC3\n",
    "  3. PC2 vs. PC3\n",
    "  \n",
    "to see which one helps me more in separating the three different classes in the dataset."
   ]
  },
  {
   "cell_type": "code",
   "execution_count": 7,
   "metadata": {
    "hide_input": true,
    "slideshow": {
     "slide_type": "slide"
    }
   },
   "outputs": [],
   "source": [
    "def plot_pc(pc_i, pc_j):\n",
    "    target_names = list(wine.target.unique())\n",
    "    colors = ['navy', 'turquoise', 'darkorange']\n",
    "    lw = 2\n",
    "    for color, i in zip(colors, target_names):\n",
    "        plt.scatter(X[wine.target == i, pc_i], X[wine.target == i, pc_j], \n",
    "                    color=color, alpha=.8, lw=lw,\n",
    "                    label=i)\n",
    "    plt.legend(loc='best', shadow=False, scatterpoints=1)\n",
    "    plt.title('PCA of Wine dataset')\n",
    "    plt.xlabel('PC{}'.format(pc_i+1)); plt.ylabel('PC{}'.format(pc_j+1))"
   ]
  },
  {
   "cell_type": "code",
   "execution_count": 8,
   "metadata": {
    "hideCode": true,
    "hide_input": true,
    "slideshow": {
     "slide_type": "skip"
    }
   },
   "outputs": [
    {
     "data": {
      "text/html": [
       "<div id=\"ce9d1e85d6da9045\"></div>\n",
       "    <script type=\"text/javascript\">\n",
       "        $(function(){\n",
       "            var p = $(\"#ce9d1e85d6da9045\");\n",
       "            if (p.length==0) return;\n",
       "\n",
       "            while (!p.hasClass(\"cell\")) {\n",
       "                p=p.parent();\n",
       "\n",
       "                if (p.prop(\"tagName\") ==\"body\") return;\n",
       "            }\n",
       "            var cell = p;\n",
       "            cell.find(\".input\").addClass(\"hide-in-slideshow\")\n",
       "        });\n",
       "    </script>"
      ]
     },
     "metadata": {},
     "output_type": "display_data"
    },
    {
     "data": {
      "image/png": "[encoded data removed]",
      "text/plain": [
       "<Figure size 720x576 with 3 Axes>"
      ]
     },
     "metadata": {},
     "output_type": "display_data"
    }
   ],
   "source": [
    "hide_code_in_slideshow()\n",
    "plt.figure(figsize=(10,8))\n",
    "plt.subplot(2,2,1)\n",
    "plot_pc(0, 1)\n",
    "plt.subplot(2,2,2)\n",
    "plot_pc(0, 2)\n",
    "plt.subplot(2,2,3)\n",
    "plot_pc(1, 2)\n",
    "plt.tight_layout()\n",
    "plt.show();"
   ]
  },
  {
   "cell_type": "code",
   "execution_count": 9,
   "metadata": {
    "slideshow": {
     "slide_type": "slide"
    }
   },
   "outputs": [
    {
     "data": {
      "image/png": "[encoded data removed]",
      "text/plain": [
       "<Figure size 1008x432 with 2 Axes>"
      ]
     },
     "metadata": {},
     "output_type": "display_data"
    }
   ],
   "source": [
    "ndf = pd.concat((pd.DataFrame(X), y), axis=1)\n",
    "ndf.columns = ['PC1','PC2','PC3','label']\n",
    "\n",
    "fig, axs = plt.subplots(ncols=2)\n",
    "fig.set_figheight(6)\n",
    "fig.set_figwidth(14)\n",
    "ndf.groupby(\"label\").PC1.hist(alpha=0.4, ax=axs[0]);\n",
    "ndf.groupby(\"label\").PC2.hist(alpha=0.4, ax=axs[1]);"
   ]
  },
  {
   "cell_type": "markdown",
   "metadata": {
    "slideshow": {
     "slide_type": "slide"
    }
   },
   "source": [
    "## LDA"
   ]
  },
  {
   "cell_type": "code",
   "execution_count": 10,
   "metadata": {
    "slideshow": {
     "slide_type": "fragment"
    }
   },
   "outputs": [
    {
     "data": {
      "text/plain": [
       "(178, 2)"
      ]
     },
     "execution_count": 10,
     "metadata": {},
     "output_type": "execute_result"
    }
   ],
   "source": [
    "lda = LinearDiscriminantAnalysis(n_components=2)\n",
    "X_lda = lda.fit(wine.features, wine.target).transform(wine.features)\n",
    "\n",
    "X_lda.shape"
   ]
  },
  {
   "cell_type": "markdown",
   "metadata": {
    "slideshow": {
     "slide_type": "slide"
    }
   },
   "source": [
    "Let's take a look to the scaling vectors produced by the LDA. These are the ones you should use to re-scale all your input in order to be translated to a new set of axis where the ratio between-classes by within-classes is maximized. They're inside the `lda` object as a property called `scalings_`."
   ]
  },
  {
   "cell_type": "code",
   "execution_count": 11,
   "metadata": {
    "hide_input": true,
    "slideshow": {
     "slide_type": "fragment"
    }
   },
   "outputs": [
    {
     "name": "stdout",
     "output_type": "stream",
     "text": [
      "  -0.3    0.7 \n",
      "   0.2    0.4 \n",
      "  -0.1    0.5 \n",
      "   0.5   -0.5 \n",
      "  -0.0   -0.0 \n",
      "   0.4   -0.0 \n",
      "  -1.9   -0.4 \n",
      "  -0.2   -0.2 \n",
      "   0.1   -0.2 \n",
      "   1.1    0.8 \n",
      "  -0.2   -0.2 \n",
      "  -0.6    0.2 \n",
      "  -0.8    0.9 \n"
     ]
    }
   ],
   "source": [
    "def printArray(arr):\n",
    "    for row in arr:\n",
    "        for item in row:\n",
    "            print(\"{:6.1f}\".format(item), end = \" \")\n",
    "        print(\"\")\n",
    "\n",
    "printArray(lda.scalings_)"
   ]
  },
  {
   "cell_type": "markdown",
   "metadata": {
    "slideshow": {
     "slide_type": "slide"
    }
   },
   "source": [
    "We can only represent the first two linear discrinant vectors (aka: scaling vectors). We see how weel a 13-dimensional problem can now be easily plotted and solved."
   ]
  },
  {
   "cell_type": "code",
   "execution_count": 12,
   "metadata": {
    "hideCode": false,
    "hide_input": true,
    "slideshow": {
     "slide_type": "fragment"
    }
   },
   "outputs": [],
   "source": [
    "def plot_ld(ld_i, ld_j):\n",
    "    target_names = list(wine.target.unique())\n",
    "    colors = ['navy', 'turquoise', 'darkorange']\n",
    "    lw = 2\n",
    "    for color, i in zip(colors, target_names):\n",
    "        plt.scatter(X_lda[wine.target == i, ld_i], X_lda[wine.target == i, ld_j], \n",
    "                    color=color, alpha=.8, lw=lw,\n",
    "                    label=i)\n",
    "    plt.legend(loc='best', shadow=False, scatterpoints=1)\n",
    "    plt.title('LDA of Wine dataset')\n",
    "    plt.xlabel('LD{}'.format(ld_i+1)); plt.ylabel('LD{}'.format(ld_j+1))"
   ]
  },
  {
   "cell_type": "code",
   "execution_count": 13,
   "metadata": {
    "hideCode": false,
    "hide_input": true,
    "slideshow": {
     "slide_type": "fragment"
    }
   },
   "outputs": [
    {
     "data": {
      "text/html": [
       "<div id=\"e243860e887ccbee\"></div>\n",
       "    <script type=\"text/javascript\">\n",
       "        $(function(){\n",
       "            var p = $(\"#e243860e887ccbee\");\n",
       "            if (p.length==0) return;\n",
       "\n",
       "            while (!p.hasClass(\"cell\")) {\n",
       "                p=p.parent();\n",
       "\n",
       "                if (p.prop(\"tagName\") ==\"body\") return;\n",
       "            }\n",
       "            var cell = p;\n",
       "            cell.find(\".input\").addClass(\"hide-in-slideshow\")\n",
       "        });\n",
       "    </script>"
      ]
     },
     "metadata": {},
     "output_type": "display_data"
    },
    {
     "data": {
      "image/png": "[encoded data removed]",
      "text/plain": [
       "<Figure size 720x432 with 1 Axes>"
      ]
     },
     "metadata": {},
     "output_type": "display_data"
    }
   ],
   "source": [
    "hide_code_in_slideshow()\n",
    "plt.figure(figsize=(10,6))\n",
    "plot_ld(0, 1)\n",
    "plt.show();"
   ]
  },
  {
   "cell_type": "markdown",
   "metadata": {
    "slideshow": {
     "slide_type": "slide"
    }
   },
   "source": [
    "### Predicting with LDA."
   ]
  },
  {
   "cell_type": "code",
   "execution_count": 14,
   "metadata": {
    "slideshow": {
     "slide_type": "fragment"
    }
   },
   "outputs": [
    {
     "name": "stdout",
     "output_type": "stream",
     "text": [
      "Avg. Acc (training): 0.99 +/- 0.02\n",
      "Acc (test): 0.94\n"
     ]
    }
   ],
   "source": [
    "# Split the dataset.\n",
    "X, y = wine.split()\n",
    "lda = LinearDiscriminantAnalysis().fit(X.train, y.train)\n",
    "\n",
    "# Evaluate using cross-validation, what is the performance in training.\n",
    "accuracies = cross_val_score(lda, X=X.train, y=y.train, scoring='accuracy')\n",
    "print('Avg. Acc (training): {:.2f} +/- {:.2f}'.format(\n",
    "    np.mean(accuracies), np.std(accuracies)))\n",
    "\n",
    "# Finally, evaluate my model in test.\n",
    "test_score = accuracy_score(y.test, lda.predict(X.test))\n",
    "print('Acc (test): {:.2f}'.format(test_score))"
   ]
  },
  {
   "cell_type": "markdown",
   "metadata": {
    "slideshow": {
     "slide_type": "slide"
    }
   },
   "source": [
    "# Factor Analysis\n",
    "\n",
    "As you can imagine, factor analysis can lead to controversy if you’re trying to measure quantities such as “intelligence”, “compassion”, “potential” and so forth. Are those quantities that can be measured? Are they responsible for events that we can measure, such as high SAT scores or hours volunteered for community service? The voluminous statistical output of factor analysis does not answer that for you. You need to make those hard decisions. However we can use factor analysis to explore our data and better understand the covariance between our variables.\n",
    "\n",
    "More [here](https://data.library.virginia.edu/getting-started-with-factor-analysis/)"
   ]
  },
  {
   "cell_type": "code",
   "execution_count": 15,
   "metadata": {
    "slideshow": {
     "slide_type": "fragment"
    }
   },
   "outputs": [],
   "source": [
    "X, y = wine.features, wine.target\n",
    "factor = FactorAnalysis(n_components=len(list(wine.features)), \n",
    "                        random_state=101).fit(X)"
   ]
  },
  {
   "cell_type": "markdown",
   "metadata": {
    "slideshow": {
     "slide_type": "slide"
    }
   },
   "source": [
    "At the intersection of each factor and feature, a positive number indicates that a positive proportion exists between the two; a negative number, instead, points out that they diverge and one is the contrary to the other."
   ]
  },
  {
   "cell_type": "code",
   "execution_count": 16,
   "metadata": {
    "hide_input": true,
    "slideshow": {
     "slide_type": "fragment"
    }
   },
   "outputs": [
    {
     "data": {
      "text/html": [
       "<div>\n",
       "<style scoped>\n",
       "    .dataframe tbody tr th:only-of-type {\n",
       "        vertical-align: middle;\n",
       "    }\n",
       "\n",
       "    .dataframe tbody tr th {\n",
       "        vertical-align: top;\n",
       "    }\n",
       "\n",
       "    .dataframe thead th {\n",
       "        text-align: right;\n",
       "    }\n",
       "</style>\n",
       "<table border=\"1\" class=\"dataframe\">\n",
       "  <thead>\n",
       "    <tr style=\"text-align: right;\">\n",
       "      <th></th>\n",
       "      <th>0</th>\n",
       "      <th>1</th>\n",
       "      <th>2</th>\n",
       "      <th>3</th>\n",
       "      <th>4</th>\n",
       "      <th>5</th>\n",
       "      <th>6</th>\n",
       "      <th>7</th>\n",
       "      <th>8</th>\n",
       "      <th>9</th>\n",
       "      <th>10</th>\n",
       "      <th>11</th>\n",
       "      <th>12</th>\n",
       "    </tr>\n",
       "  </thead>\n",
       "  <tbody>\n",
       "    <tr>\n",
       "      <th>x1</th>\n",
       "      <td>-0.318438</td>\n",
       "      <td>-0.689186</td>\n",
       "      <td>-0.141432</td>\n",
       "      <td>0.003511</td>\n",
       "      <td>-0.099282</td>\n",
       "      <td>-0.036469</td>\n",
       "      <td>-0.0</td>\n",
       "      <td>-0.0</td>\n",
       "      <td>0.0</td>\n",
       "      <td>0.0</td>\n",
       "      <td>0.0</td>\n",
       "      <td>-0.0</td>\n",
       "      <td>0.0</td>\n",
       "    </tr>\n",
       "    <tr>\n",
       "      <th>x2</th>\n",
       "      <td>0.416632</td>\n",
       "      <td>-0.360033</td>\n",
       "      <td>0.232937</td>\n",
       "      <td>0.241380</td>\n",
       "      <td>0.010923</td>\n",
       "      <td>-0.090288</td>\n",
       "      <td>0.0</td>\n",
       "      <td>0.0</td>\n",
       "      <td>0.0</td>\n",
       "      <td>-0.0</td>\n",
       "      <td>0.0</td>\n",
       "      <td>0.0</td>\n",
       "      <td>-0.0</td>\n",
       "    </tr>\n",
       "    <tr>\n",
       "      <th>x3</th>\n",
       "      <td>-0.050412</td>\n",
       "      <td>-0.381525</td>\n",
       "      <td>0.582677</td>\n",
       "      <td>-0.191556</td>\n",
       "      <td>-0.004928</td>\n",
       "      <td>-0.015426</td>\n",
       "      <td>-0.0</td>\n",
       "      <td>0.0</td>\n",
       "      <td>-0.0</td>\n",
       "      <td>-0.0</td>\n",
       "      <td>-0.0</td>\n",
       "      <td>-0.0</td>\n",
       "      <td>-0.0</td>\n",
       "    </tr>\n",
       "    <tr>\n",
       "      <th>x4</th>\n",
       "      <td>0.461036</td>\n",
       "      <td>0.073923</td>\n",
       "      <td>0.580783</td>\n",
       "      <td>-0.015236</td>\n",
       "      <td>0.024081</td>\n",
       "      <td>0.017978</td>\n",
       "      <td>-0.0</td>\n",
       "      <td>-0.0</td>\n",
       "      <td>0.0</td>\n",
       "      <td>0.0</td>\n",
       "      <td>0.0</td>\n",
       "      <td>0.0</td>\n",
       "      <td>0.0</td>\n",
       "    </tr>\n",
       "    <tr>\n",
       "      <th>x5</th>\n",
       "      <td>-0.278998</td>\n",
       "      <td>-0.454571</td>\n",
       "      <td>0.087247</td>\n",
       "      <td>-0.164825</td>\n",
       "      <td>0.272954</td>\n",
       "      <td>0.009355</td>\n",
       "      <td>0.0</td>\n",
       "      <td>0.0</td>\n",
       "      <td>0.0</td>\n",
       "      <td>0.0</td>\n",
       "      <td>0.0</td>\n",
       "      <td>0.0</td>\n",
       "      <td>0.0</td>\n",
       "    </tr>\n",
       "    <tr>\n",
       "      <th>x6</th>\n",
       "      <td>-0.847621</td>\n",
       "      <td>-0.039578</td>\n",
       "      <td>0.122078</td>\n",
       "      <td>0.062662</td>\n",
       "      <td>-0.054633</td>\n",
       "      <td>0.022109</td>\n",
       "      <td>-0.0</td>\n",
       "      <td>0.0</td>\n",
       "      <td>0.0</td>\n",
       "      <td>-0.0</td>\n",
       "      <td>0.0</td>\n",
       "      <td>-0.0</td>\n",
       "      <td>-0.0</td>\n",
       "    </tr>\n",
       "    <tr>\n",
       "      <th>x7</th>\n",
       "      <td>-0.893295</td>\n",
       "      <td>0.045547</td>\n",
       "      <td>0.113617</td>\n",
       "      <td>0.045735</td>\n",
       "      <td>-0.030743</td>\n",
       "      <td>0.009170</td>\n",
       "      <td>-0.0</td>\n",
       "      <td>0.0</td>\n",
       "      <td>0.0</td>\n",
       "      <td>-0.0</td>\n",
       "      <td>-0.0</td>\n",
       "      <td>0.0</td>\n",
       "      <td>0.0</td>\n",
       "    </tr>\n",
       "    <tr>\n",
       "      <th>x8</th>\n",
       "      <td>0.574189</td>\n",
       "      <td>-0.043823</td>\n",
       "      <td>0.173044</td>\n",
       "      <td>-0.146178</td>\n",
       "      <td>-0.241212</td>\n",
       "      <td>0.015531</td>\n",
       "      <td>0.0</td>\n",
       "      <td>0.0</td>\n",
       "      <td>-0.0</td>\n",
       "      <td>0.0</td>\n",
       "      <td>0.0</td>\n",
       "      <td>0.0</td>\n",
       "      <td>0.0</td>\n",
       "    </tr>\n",
       "    <tr>\n",
       "      <th>x9</th>\n",
       "      <td>-0.665411</td>\n",
       "      <td>0.012538</td>\n",
       "      <td>0.150161</td>\n",
       "      <td>0.170019</td>\n",
       "      <td>0.015590</td>\n",
       "      <td>0.070860</td>\n",
       "      <td>0.0</td>\n",
       "      <td>-0.0</td>\n",
       "      <td>0.0</td>\n",
       "      <td>0.0</td>\n",
       "      <td>-0.0</td>\n",
       "      <td>-0.0</td>\n",
       "      <td>-0.0</td>\n",
       "    </tr>\n",
       "    <tr>\n",
       "      <th>x10</th>\n",
       "      <td>0.085823</td>\n",
       "      <td>-0.796419</td>\n",
       "      <td>-0.053074</td>\n",
       "      <td>0.063033</td>\n",
       "      <td>-0.043944</td>\n",
       "      <td>0.051125</td>\n",
       "      <td>-0.0</td>\n",
       "      <td>0.0</td>\n",
       "      <td>-0.0</td>\n",
       "      <td>-0.0</td>\n",
       "      <td>-0.0</td>\n",
       "      <td>0.0</td>\n",
       "      <td>-0.0</td>\n",
       "    </tr>\n",
       "    <tr>\n",
       "      <th>x11</th>\n",
       "      <td>-0.571108</td>\n",
       "      <td>0.401147</td>\n",
       "      <td>-0.050780</td>\n",
       "      <td>-0.304070</td>\n",
       "      <td>-0.042013</td>\n",
       "      <td>-0.012049</td>\n",
       "      <td>0.0</td>\n",
       "      <td>-0.0</td>\n",
       "      <td>0.0</td>\n",
       "      <td>-0.0</td>\n",
       "      <td>0.0</td>\n",
       "      <td>0.0</td>\n",
       "      <td>-0.0</td>\n",
       "    </tr>\n",
       "    <tr>\n",
       "      <th>x12</th>\n",
       "      <td>-0.776110</td>\n",
       "      <td>0.244392</td>\n",
       "      <td>0.114480</td>\n",
       "      <td>0.072127</td>\n",
       "      <td>-0.011283</td>\n",
       "      <td>-0.066304</td>\n",
       "      <td>-0.0</td>\n",
       "      <td>-0.0</td>\n",
       "      <td>-0.0</td>\n",
       "      <td>0.0</td>\n",
       "      <td>-0.0</td>\n",
       "      <td>0.0</td>\n",
       "      <td>-0.0</td>\n",
       "    </tr>\n",
       "    <tr>\n",
       "      <th>x13</th>\n",
       "      <td>-0.525874</td>\n",
       "      <td>-0.565173</td>\n",
       "      <td>-0.139453</td>\n",
       "      <td>-0.156611</td>\n",
       "      <td>0.003755</td>\n",
       "      <td>-0.022093</td>\n",
       "      <td>0.0</td>\n",
       "      <td>-0.0</td>\n",
       "      <td>-0.0</td>\n",
       "      <td>-0.0</td>\n",
       "      <td>0.0</td>\n",
       "      <td>-0.0</td>\n",
       "      <td>0.0</td>\n",
       "    </tr>\n",
       "  </tbody>\n",
       "</table>\n",
       "</div>"
      ],
      "text/plain": [
       "            0         1         2         3         4         5    6    7  \\\n",
       "x1  -0.318438 -0.689186 -0.141432  0.003511 -0.099282 -0.036469 -0.0 -0.0   \n",
       "x2   0.416632 -0.360033  0.232937  0.241380  0.010923 -0.090288  0.0  0.0   \n",
       "x3  -0.050412 -0.381525  0.582677 -0.191556 -0.004928 -0.015426 -0.0  0.0   \n",
       "x4   0.461036  0.073923  0.580783 -0.015236  0.024081  0.017978 -0.0 -0.0   \n",
       "x5  -0.278998 -0.454571  0.087247 -0.164825  0.272954  0.009355  0.0  0.0   \n",
       "x6  -0.847621 -0.039578  0.122078  0.062662 -0.054633  0.022109 -0.0  0.0   \n",
       "x7  -0.893295  0.045547  0.113617  0.045735 -0.030743  0.009170 -0.0  0.0   \n",
       "x8   0.574189 -0.043823  0.173044 -0.146178 -0.241212  0.015531  0.0  0.0   \n",
       "x9  -0.665411  0.012538  0.150161  0.170019  0.015590  0.070860  0.0 -0.0   \n",
       "x10  0.085823 -0.796419 -0.053074  0.063033 -0.043944  0.051125 -0.0  0.0   \n",
       "x11 -0.571108  0.401147 -0.050780 -0.304070 -0.042013 -0.012049  0.0 -0.0   \n",
       "x12 -0.776110  0.244392  0.114480  0.072127 -0.011283 -0.066304 -0.0 -0.0   \n",
       "x13 -0.525874 -0.565173 -0.139453 -0.156611  0.003755 -0.022093  0.0 -0.0   \n",
       "\n",
       "       8    9   10   11   12  \n",
       "x1   0.0  0.0  0.0 -0.0  0.0  \n",
       "x2   0.0 -0.0  0.0  0.0 -0.0  \n",
       "x3  -0.0 -0.0 -0.0 -0.0 -0.0  \n",
       "x4   0.0  0.0  0.0  0.0  0.0  \n",
       "x5   0.0  0.0  0.0  0.0  0.0  \n",
       "x6   0.0 -0.0  0.0 -0.0 -0.0  \n",
       "x7   0.0 -0.0 -0.0  0.0  0.0  \n",
       "x8  -0.0  0.0  0.0  0.0  0.0  \n",
       "x9   0.0  0.0 -0.0 -0.0 -0.0  \n",
       "x10 -0.0 -0.0 -0.0  0.0 -0.0  \n",
       "x11  0.0 -0.0  0.0  0.0 -0.0  \n",
       "x12 -0.0  0.0 -0.0  0.0 -0.0  \n",
       "x13 -0.0 -0.0  0.0 -0.0  0.0  "
      ]
     },
     "execution_count": 16,
     "metadata": {},
     "output_type": "execute_result"
    }
   ],
   "source": [
    "factors = pd.DataFrame(factor.components_, columns=wine.names('features')).T\n",
    "factors"
   ]
  },
  {
   "cell_type": "markdown",
   "metadata": {
    "slideshow": {
     "slide_type": "slide"
    }
   },
   "source": [
    "Factor Analysis are probabilistic models. The consequence is that the likelihood of new data can be used for model selection and covariance estimation. Here we plot FA score with cross-validation on the original dataset.-"
   ]
  },
  {
   "cell_type": "code",
   "execution_count": 17,
   "metadata": {
    "hide_input": true,
    "slideshow": {
     "slide_type": "fragment"
    }
   },
   "outputs": [],
   "source": [
    "fa = FactorAnalysis()\n",
    "\n",
    "fa_scores = []\n",
    "for n in range(len(list(wine.features))):\n",
    "    fa.n_components = n\n",
    "    fa_scores.append(np.mean(cross_val_score(fa, X, cv=5)))"
   ]
  },
  {
   "cell_type": "code",
   "execution_count": 18,
   "metadata": {
    "hideCode": false,
    "hide_input": true,
    "slideshow": {
     "slide_type": "fragment"
    }
   },
   "outputs": [
    {
     "data": {
      "text/html": [
       "<div id=\"c95a696265a7d305\"></div>\n",
       "    <script type=\"text/javascript\">\n",
       "        $(function(){\n",
       "            var p = $(\"#c95a696265a7d305\");\n",
       "            if (p.length==0) return;\n",
       "\n",
       "            while (!p.hasClass(\"cell\")) {\n",
       "                p=p.parent();\n",
       "\n",
       "                if (p.prop(\"tagName\") ==\"body\") return;\n",
       "            }\n",
       "            var cell = p;\n",
       "            cell.find(\".input\").addClass(\"hide-in-slideshow\")\n",
       "        });\n",
       "    </script>"
      ]
     },
     "metadata": {},
     "output_type": "display_data"
    },
    {
     "data": {
      "image/png": "[encoded data removed]",
      "text/plain": [
       "<Figure size 432x288 with 1 Axes>"
      ]
     },
     "metadata": {},
     "output_type": "display_data"
    }
   ],
   "source": [
    "hide_code_in_slideshow()\n",
    "plt.plot(range(len(list(wine.features))), fa_scores)\n",
    "plt.title('Model likelihood')\n",
    "plt.xlabel('Number of factors')\n",
    "plt.show();"
   ]
  },
  {
   "cell_type": "markdown",
   "metadata": {
    "slideshow": {
     "slide_type": "slide"
    }
   },
   "source": [
    "Another version with FactorAnalyzer package."
   ]
  },
  {
   "cell_type": "code",
   "execution_count": 35,
   "metadata": {
    "slideshow": {
     "slide_type": "slide"
    }
   },
   "outputs": [
    {
     "data": {
      "text/plain": [
       "array([[ 6.89352335e-02,  7.90735951e-01, -5.55431486e-02],\n",
       "       [-4.54054886e-01,  1.73703746e-01,  3.06273406e-01],\n",
       "       [ 5.71859980e-02,  3.09806255e-01,  7.46195062e-01],\n",
       "       [-2.98712873e-01, -3.21506149e-01,  7.40487599e-01],\n",
       "       [ 1.62889792e-01,  4.84309528e-01,  1.40583795e-01],\n",
       "       [ 8.23666978e-01,  2.90291624e-01,  1.32975145e-02],\n",
       "       [ 9.31358548e-01,  2.25638175e-01, -7.51974982e-04],\n",
       "       [-5.10179390e-01, -1.61383134e-01,  2.44776601e-01],\n",
       "       [ 6.33026589e-01,  1.72292875e-01,  2.49462080e-02],\n",
       "       [-3.48302214e-01,  7.92864556e-01,  1.06336744e-01],\n",
       "       [ 6.46161541e-01, -1.91574419e-01, -1.72846377e-01],\n",
       "       [ 8.32089762e-01, -1.00586075e-02, -3.99538160e-02],\n",
       "       [ 3.19395861e-01,  7.39034481e-01, -8.75886243e-02]])"
      ]
     },
     "execution_count": 35,
     "metadata": {},
     "output_type": "execute_result"
    }
   ],
   "source": [
    "fa = FactorAnalyzer(rotation='varimax')\n",
    "\n",
    "fa.fit(wine.features)\n",
    "fa.loadings_"
   ]
  },
  {
   "cell_type": "code",
   "execution_count": 34,
   "metadata": {},
   "outputs": [
    {
     "data": {
      "text/plain": [
       "array([[ 0.06893523],\n",
       "       [-0.45405489],\n",
       "       [ 0.057186  ],\n",
       "       [-0.29871287],\n",
       "       [ 0.16288979],\n",
       "       [ 0.82366698],\n",
       "       [ 0.93135855],\n",
       "       [-0.51017939],\n",
       "       [ 0.63302659],\n",
       "       [-0.34830221],\n",
       "       [ 0.64616154],\n",
       "       [ 0.83208976],\n",
       "       [ 0.31939586]])"
      ]
     },
     "execution_count": 34,
     "metadata": {},
     "output_type": "execute_result"
    }
   ],
   "source": [
    "fa.loadings_[:, 0:1]"
   ]
  },
  {
   "cell_type": "markdown",
   "metadata": {
    "slideshow": {
     "slide_type": "slide"
    }
   },
   "source": [
    "A way to procced from here is to consider variables with similar (high = close to 1) value for the same loading as representing the same \"latent\" concept. For example, variables $x6$, $x7$, $x9$ and $x12$ present a high value for the first factor, which could be interpreted as an opportunity to represent them as an unique variable in the projected space. Another example could be $x1$, $x13$ and maybe $x10$ too, for the 2nd factor, but no more than that.\n",
    "\n",
    "We could even try to represent these correspondence in a plot to see which features align in those regions with higher value for the loadings of the factors"
   ]
  },
  {
   "cell_type": "code",
   "execution_count": 40,
   "metadata": {
    "code_folding": [],
    "hide_input": true,
    "scrolled": false,
    "slideshow": {
     "slide_type": "fragment"
    }
   },
   "outputs": [
    {
     "ename": "AttributeError",
     "evalue": "'numpy.ndarray' object has no attribute 'index'",
     "output_type": "error",
     "traceback": [
      "\u001b[0;31m---------------------------------------------------------------------------\u001b[0m",
      "\u001b[0;31mAttributeError\u001b[0m                            Traceback (most recent call last)",
      "\u001b[0;32m<ipython-input-40-f21a6ab19d01>\u001b[0m in \u001b[0;36m<module>\u001b[0;34m\u001b[0m\n\u001b[1;32m     15\u001b[0m \u001b[0;32mfor\u001b[0m \u001b[0mi\u001b[0m\u001b[0;34m,\u001b[0m \u001b[0;34m(\u001b[0m\u001b[0mx\u001b[0m\u001b[0;34m,\u001b[0m \u001b[0my\u001b[0m\u001b[0;34m)\u001b[0m \u001b[0;32min\u001b[0m \u001b[0menumerate\u001b[0m\u001b[0;34m(\u001b[0m\u001b[0mzip\u001b[0m\u001b[0;34m(\u001b[0m\u001b[0mfa\u001b[0m\u001b[0;34m.\u001b[0m\u001b[0mloadings_\u001b[0m\u001b[0;34m[\u001b[0m\u001b[0;34m:\u001b[0m\u001b[0;34m,\u001b[0m \u001b[0;36m0\u001b[0m\u001b[0;34m:\u001b[0m\u001b[0;36m1\u001b[0m\u001b[0;34m]\u001b[0m\u001b[0;34m,\u001b[0m \u001b[0mfa\u001b[0m\u001b[0;34m.\u001b[0m\u001b[0mloadings_\u001b[0m\u001b[0;34m[\u001b[0m\u001b[0;34m:\u001b[0m\u001b[0;34m,\u001b[0m \u001b[0;36m1\u001b[0m\u001b[0;34m:\u001b[0m\u001b[0;36m2\u001b[0m\u001b[0;34m]\u001b[0m\u001b[0;34m)\u001b[0m\u001b[0;34m)\u001b[0m\u001b[0;34m:\u001b[0m\u001b[0;34m\u001b[0m\u001b[0;34m\u001b[0m\u001b[0m\n\u001b[1;32m     16\u001b[0m     \u001b[0mplt\u001b[0m\u001b[0;34m.\u001b[0m\u001b[0mplot\u001b[0m\u001b[0;34m(\u001b[0m\u001b[0mx\u001b[0m\u001b[0;34m,\u001b[0m \u001b[0my\u001b[0m\u001b[0;34m,\u001b[0m \u001b[0;34m'ro'\u001b[0m\u001b[0;34m)\u001b[0m\u001b[0;34m\u001b[0m\u001b[0;34m\u001b[0m\u001b[0m\n\u001b[0;32m---> 17\u001b[0;31m     \u001b[0mplt\u001b[0m\u001b[0;34m.\u001b[0m\u001b[0mtext\u001b[0m\u001b[0;34m(\u001b[0m\u001b[0mx\u001b[0m\u001b[0;34m,\u001b[0m \u001b[0my\u001b[0m\u001b[0;34m,\u001b[0m \u001b[0mfa\u001b[0m\u001b[0;34m.\u001b[0m\u001b[0mloadings_\u001b[0m\u001b[0;34m.\u001b[0m\u001b[0mindex\u001b[0m\u001b[0;34m.\u001b[0m\u001b[0mtolist\u001b[0m\u001b[0;34m(\u001b[0m\u001b[0;34m)\u001b[0m\u001b[0;34m[\u001b[0m\u001b[0mi\u001b[0m\u001b[0;34m]\u001b[0m\u001b[0;34m,\u001b[0m \u001b[0mtransform\u001b[0m\u001b[0;34m=\u001b[0m\u001b[0mtrans_offset\u001b[0m\u001b[0;34m)\u001b[0m\u001b[0;34m\u001b[0m\u001b[0;34m\u001b[0m\u001b[0m\n\u001b[0m\u001b[1;32m     18\u001b[0m \u001b[0mplt\u001b[0m\u001b[0;34m.\u001b[0m\u001b[0maxhline\u001b[0m\u001b[0;34m(\u001b[0m\u001b[0mc\u001b[0m\u001b[0;34m=\u001b[0m\u001b[0;34m'k'\u001b[0m\u001b[0;34m,\u001b[0m \u001b[0mlinewidth\u001b[0m\u001b[0;34m=\u001b[0m\u001b[0;36m1\u001b[0m\u001b[0;34m)\u001b[0m\u001b[0;34m;\u001b[0m \u001b[0mplt\u001b[0m\u001b[0;34m.\u001b[0m\u001b[0maxvline\u001b[0m\u001b[0;34m(\u001b[0m\u001b[0mc\u001b[0m\u001b[0;34m=\u001b[0m\u001b[0;34m'k'\u001b[0m\u001b[0;34m,\u001b[0m \u001b[0mlinewidth\u001b[0m\u001b[0;34m=\u001b[0m\u001b[0;36m1\u001b[0m\u001b[0;34m)\u001b[0m\u001b[0;34m\u001b[0m\u001b[0;34m\u001b[0m\u001b[0m\n\u001b[1;32m     19\u001b[0m \u001b[0mplt\u001b[0m\u001b[0;34m.\u001b[0m\u001b[0mxlabel\u001b[0m\u001b[0;34m(\u001b[0m\u001b[0;34m'Factor1'\u001b[0m\u001b[0;34m)\u001b[0m\u001b[0;34m;\u001b[0m \u001b[0mplt\u001b[0m\u001b[0;34m.\u001b[0m\u001b[0mylabel\u001b[0m\u001b[0;34m(\u001b[0m\u001b[0;34m'Factor2'\u001b[0m\u001b[0;34m)\u001b[0m\u001b[0;34m\u001b[0m\u001b[0;34m\u001b[0m\u001b[0m\n",
      "\u001b[0;31mAttributeError\u001b[0m: 'numpy.ndarray' object has no attribute 'index'"
     ]
    },
    {
     "data": {
      "image/png": "[encoded data removed]",
      "text/plain": [
       "<Figure size 1008x360 with 1 Axes>"
      ]
     },
     "metadata": {},
     "output_type": "display_data"
    }
   ],
   "source": [
    "# Plot the loadings\n",
    "import matplotlib.transforms as mtransforms\n",
    "\n",
    "fig = plt.figure(figsize=(14, 5))\n",
    "ax = plt.subplot(1, 2, 1)\n",
    "\n",
    "# If we want the same offset for each text instance,\n",
    "# we only need to make one transform.  To get the\n",
    "# transform argument to offset_copy, we need to make the axes\n",
    "# first; the subplot command above is one way to do this.\n",
    "trans_offset = mtransforms.offset_copy(ax.transData, fig=fig,\n",
    "                                       x=0.05, y=0.10, units='inches')\n",
    "\n",
    "plt.xlim(-1, +1); plt.ylim(-1, +1)\n",
    "for i, (x, y) in enumerate(zip(fa.loadings_[:, 0:1], fa.loadings_[:, 1:2])):\n",
    "    plt.plot(x, y, 'ro')\n",
    "    plt.text(x, y, fa.loadings_.index.tolist()[i], transform=trans_offset)\n",
    "plt.axhline(c='k', linewidth=1); plt.axvline(c='k', linewidth=1)\n",
    "plt.xlabel('Factor1'); plt.ylabel('Factor2')\n",
    "plt.title('Factor Loadings for 1st and 2nd factors')\n",
    "\n",
    "ax = plt.subplot(1, 2, 2)\n",
    "trans_offset = mtransforms.offset_copy(ax.transData, fig=fig,\n",
    "                                       x=0.05, y=0.10, units='inches')\n",
    "\n",
    "plt.xlim(-1, +1); plt.ylim(-1, +1)\n",
    "for i, (x, y) in enumerate(zip(fa.loadings_[:, 2:3], fa.loadings_[:, 3:4])):\n",
    "    plt.plot(x, y, 'ro')\n",
    "    plt.text(x, y, fa.loadings.index.tolist()[i], transform=trans_offset)\n",
    "plt.axhline(c='k', linewidth=1); plt.axvline(c='k', linewidth=1)\n",
    "plt.xlabel('Factor3'); plt.ylabel('Factor4')\n",
    "plt.title('Factor Loadings for 3rd and 4th factors')\n",
    "\n",
    "plt.show();"
   ]
  },
  {
   "cell_type": "markdown",
   "metadata": {
    "slideshow": {
     "slide_type": "slide"
    }
   },
   "source": [
    "### Uniqueness. \n",
    "\n",
    "The way to obtain it is, by calling `fa.get_uniqueness()`.\n",
    "\n",
    "What we’re looking for are high numbers. A high uniqueness for a variable usually means it doesn’t fit neatly into our factors. It seems that $x2$ and $x5$ are the only ones that could not fit into our new factors."
   ]
  },
  {
   "cell_type": "code",
   "execution_count": null,
   "metadata": {
    "hide_input": true,
    "scrolled": false,
    "slideshow": {
     "slide_type": "fragment"
    }
   },
   "outputs": [],
   "source": [
    "fa.get_uniqueness().plot.bar()\n",
    "plt.show();"
   ]
  },
  {
   "cell_type": "markdown",
   "metadata": {
    "slideshow": {
     "slide_type": "fragment"
    }
   },
   "source": [
    "It seems that the only feature with a real high value for _uniqueness_ is $x5$, so we should not include it in our dimensionality reduction exercise, if we find a way to express similar variables through new _latent_ ones."
   ]
  },
  {
   "cell_type": "markdown",
   "metadata": {
    "slideshow": {
     "slide_type": "slide"
    }
   },
   "source": [
    "Let's transform the input dataset through the factors and plot the first two new dimensions to see if it helps to conduct a better classification exercise."
   ]
  },
  {
   "cell_type": "code",
   "execution_count": null,
   "metadata": {
    "hideCode": false,
    "hide_input": true,
    "slideshow": {
     "slide_type": "fragment"
    }
   },
   "outputs": [],
   "source": [
    "hide_code_in_slideshow()\n",
    "X, y = wine.features, wine.target\n",
    "factor = FactorAnalysis(n_components=4, random_state=101).fit(X)\n",
    "X_factor = factor.transform(X)\n",
    "\n",
    "def plot_factor(factor_i, factor_j):\n",
    "    target_names = list(wine.target.unique())\n",
    "    colors = ['navy', 'turquoise', 'darkorange']\n",
    "    lw = 2\n",
    "    for color, i in zip(colors, target_names):\n",
    "        plt.scatter(X_factor[wine.target == i, factor_i], \n",
    "                    X_factor[wine.target == i, factor_j], \n",
    "                    color=color, alpha=.8, lw=lw,\n",
    "                    label=i)\n",
    "    plt.legend(loc='best', shadow=False, scatterpoints=1)\n",
    "    plt.title('FA of Wine dataset')\n",
    "    plt.xlabel('FA{}'.format(factor_i+1)); plt.ylabel('FA{}'.format(factor_j+1))\n",
    "\n",
    "plt.figure(figsize=(10,6))\n",
    "plot_factor(0, 1)\n",
    "plt.show();"
   ]
  }
 ],
 "metadata": {
  "celltoolbar": "Slideshow",
  "kernelspec": {
   "display_name": "Python 3",
   "language": "python",
   "name": "python3"
  },
  "language_info": {
   "codemirror_mode": {
    "name": "ipython",
    "version": 3
   },
   "file_extension": ".py",
   "mimetype": "text/x-python",
   "name": "python",
   "nbconvert_exporter": "python",
   "pygments_lexer": "ipython3",
   "version": "3.8.1"
  },
  "toc": {
   "base_numbering": 1,
   "nav_menu": {},
   "number_sections": false,
   "sideBar": true,
   "skip_h1_title": false,
   "title_cell": "Table of Contents",
   "title_sidebar": "Contents",
   "toc_cell": false,
   "toc_position": {},
   "toc_section_display": true,
   "toc_window_display": false
  }
 },
 "nbformat": 4,
 "nbformat_minor": 2
}
