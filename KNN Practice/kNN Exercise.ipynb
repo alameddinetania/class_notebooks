{
 "cells": [
  {
   "cell_type": "markdown",
   "metadata": {
    "toc": true
   },
   "source": [
    "<h1>Table of Contents<span class=\"tocSkip\"></span></h1>\n",
    "<div class=\"toc\"><ul class=\"toc-item\"><li><span><a href=\"#k-NN\" data-toc-modified-id=\"k-NN-1\"><span class=\"toc-item-num\">1&nbsp;&nbsp;</span>k-NN</a></span><ul class=\"toc-item\"><li><span><a href=\"#Dataset\" data-toc-modified-id=\"Dataset-1.1\"><span class=\"toc-item-num\">1.1&nbsp;&nbsp;</span>Dataset</a></span></li><li><span><a href=\"#k-NN-homemade-implementation\" data-toc-modified-id=\"k-NN-homemade-implementation-1.2\"><span class=\"toc-item-num\">1.2&nbsp;&nbsp;</span>k-NN homemade implementation</a></span></li><li><span><a href=\"#Exercises\" data-toc-modified-id=\"Exercises-1.3\"><span class=\"toc-item-num\">1.3&nbsp;&nbsp;</span>Exercises</a></span><ul class=\"toc-item\"><li><span><a href=\"#Exercise-1.1\" data-toc-modified-id=\"Exercise-1.1-1.3.1\"><span class=\"toc-item-num\">1.3.1&nbsp;&nbsp;</span>Exercise 1.1</a></span></li><li><span><a href=\"#Exercise-1.2\" data-toc-modified-id=\"Exercise-1.2-1.3.2\"><span class=\"toc-item-num\">1.3.2&nbsp;&nbsp;</span>Exercise 1.2</a></span></li><li><span><a href=\"#Exercise-1.3\" data-toc-modified-id=\"Exercise-1.3-1.3.3\"><span class=\"toc-item-num\">1.3.3&nbsp;&nbsp;</span>Exercise 1.3</a></span></li><li><span><a href=\"#Exercise-1.4\" data-toc-modified-id=\"Exercise-1.4-1.3.4\"><span class=\"toc-item-num\">1.3.4&nbsp;&nbsp;</span>Exercise 1.4</a></span></li><li><span><a href=\"#Exercise-1.5\" data-toc-modified-id=\"Exercise-1.5-1.3.5\"><span class=\"toc-item-num\">1.3.5&nbsp;&nbsp;</span>Exercise 1.5</a></span></li></ul></li></ul></li></ul></div>"
   ]
  },
  {
   "cell_type": "markdown",
   "metadata": {},
   "source": [
    "# k-NN\n",
    "\n",
    "This notebook illustrates on how to build your own k-NN classifier and practice with the outcome and the ideas from this nice and simple method!"
   ]
  },
  {
   "cell_type": "code",
   "execution_count": 15,
   "metadata": {},
   "outputs": [],
   "source": [
    "from collections import defaultdict\n",
    "from random import seed\n",
    "from random import randrange\n",
    "from math import sqrt\n",
    "\n",
    "import matplotlib.pyplot as plt\n",
    "import numpy as np\n",
    "import pandas as pd\n",
    "import random\n",
    "\n",
    "from sklearn.metrics import f1_score, accuracy_score\n",
    "from sklearn.model_selection import train_test_split, KFold, cross_val_score\n",
    "from sklearn.neighbors import KNeighborsClassifier\n",
    "from sklearn.preprocessing import RobustScaler\n",
    "from sklearn.tree import DecisionTreeClassifier\n",
    "\n",
    "# These are tricks for better displaying info in notebooks\n",
    "pd.set_option(\"display.max_columns\", 1000)\n",
    "pd.set_option(\"max_seq_items\", 1000)\n",
    "pd.set_option(\"display.width\", 1000)\n",
    "np.set_printoptions(threshold=np.inf)\n",
    "\n",
    "# Set the global random seed to ensure reproducibility\n",
    "np.random.seed(1234)\n",
    "random.seed(1234)"
   ]
  },
  {
   "cell_type": "markdown",
   "metadata": {},
   "source": [
    "## Dataset\n",
    "\n",
    "One of the possibly best datasets to illustrate k-NN is the [prostate cancer dataset in Kaggle](https://www.kaggle.com/sajidsaifi/prostate-cancer). It contains only 100 samples, with a target variable which is categorical (`diagnosis_result`). The goal is to predict whether the result from an examination results in `M` (62%) or `B` (32%).\n",
    "\n",
    "In the next _cell_ I read the CSV file (you must download it first!) and prepare everything to be ready for k-NN:\n",
    "  - all features must be numerical (floats) and scaled.\n",
    "  - target variable is also converted to numerical (B=0.0, M=1.0)."
   ]
  },
  {
   "cell_type": "code",
   "execution_count": 16,
   "metadata": {
    "scrolled": true
   },
   "outputs": [
    {
     "data": {
      "text/html": [
       "<div>\n",
       "<style scoped>\n",
       "    .dataframe tbody tr th:only-of-type {\n",
       "        vertical-align: middle;\n",
       "    }\n",
       "\n",
       "    .dataframe tbody tr th {\n",
       "        vertical-align: top;\n",
       "    }\n",
       "\n",
       "    .dataframe thead th {\n",
       "        text-align: right;\n",
       "    }\n",
       "</style>\n",
       "<table border=\"1\" class=\"dataframe\">\n",
       "  <thead>\n",
       "    <tr style=\"text-align: right;\">\n",
       "      <th></th>\n",
       "      <th>diagnosis_result</th>\n",
       "      <th>radius</th>\n",
       "      <th>texture</th>\n",
       "      <th>perimeter</th>\n",
       "      <th>area</th>\n",
       "      <th>smoothness</th>\n",
       "      <th>compactness</th>\n",
       "      <th>symmetry</th>\n",
       "      <th>fractal_dimension</th>\n",
       "    </tr>\n",
       "    <tr>\n",
       "      <th>id</th>\n",
       "      <th></th>\n",
       "      <th></th>\n",
       "      <th></th>\n",
       "      <th></th>\n",
       "      <th></th>\n",
       "      <th></th>\n",
       "      <th></th>\n",
       "      <th></th>\n",
       "      <th></th>\n",
       "    </tr>\n",
       "  </thead>\n",
       "  <tbody>\n",
       "    <tr>\n",
       "      <th>1</th>\n",
       "      <td>1.0</td>\n",
       "      <td>23.0</td>\n",
       "      <td>12.0</td>\n",
       "      <td>151.0</td>\n",
       "      <td>954.0</td>\n",
       "      <td>0.143</td>\n",
       "      <td>0.278</td>\n",
       "      <td>0.242</td>\n",
       "      <td>0.079</td>\n",
       "    </tr>\n",
       "    <tr>\n",
       "      <th>2</th>\n",
       "      <td>0.0</td>\n",
       "      <td>9.0</td>\n",
       "      <td>13.0</td>\n",
       "      <td>133.0</td>\n",
       "      <td>1326.0</td>\n",
       "      <td>0.143</td>\n",
       "      <td>0.079</td>\n",
       "      <td>0.181</td>\n",
       "      <td>0.057</td>\n",
       "    </tr>\n",
       "    <tr>\n",
       "      <th>3</th>\n",
       "      <td>1.0</td>\n",
       "      <td>21.0</td>\n",
       "      <td>27.0</td>\n",
       "      <td>130.0</td>\n",
       "      <td>1203.0</td>\n",
       "      <td>0.125</td>\n",
       "      <td>0.160</td>\n",
       "      <td>0.207</td>\n",
       "      <td>0.060</td>\n",
       "    </tr>\n",
       "    <tr>\n",
       "      <th>4</th>\n",
       "      <td>1.0</td>\n",
       "      <td>14.0</td>\n",
       "      <td>16.0</td>\n",
       "      <td>78.0</td>\n",
       "      <td>386.0</td>\n",
       "      <td>0.070</td>\n",
       "      <td>0.284</td>\n",
       "      <td>0.260</td>\n",
       "      <td>0.097</td>\n",
       "    </tr>\n",
       "    <tr>\n",
       "      <th>5</th>\n",
       "      <td>1.0</td>\n",
       "      <td>9.0</td>\n",
       "      <td>19.0</td>\n",
       "      <td>135.0</td>\n",
       "      <td>1297.0</td>\n",
       "      <td>0.141</td>\n",
       "      <td>0.133</td>\n",
       "      <td>0.181</td>\n",
       "      <td>0.059</td>\n",
       "    </tr>\n",
       "  </tbody>\n",
       "</table>\n",
       "</div>"
      ],
      "text/plain": [
       "    diagnosis_result  radius  texture  perimeter    area  smoothness  compactness  symmetry  fractal_dimension\n",
       "id                                                                                                            \n",
       "1                1.0    23.0     12.0      151.0   954.0       0.143        0.278     0.242              0.079\n",
       "2                0.0     9.0     13.0      133.0  1326.0       0.143        0.079     0.181              0.057\n",
       "3                1.0    21.0     27.0      130.0  1203.0       0.125        0.160     0.207              0.060\n",
       "4                1.0    14.0     16.0       78.0   386.0       0.070        0.284     0.260              0.097\n",
       "5                1.0     9.0     19.0      135.0  1297.0       0.141        0.133     0.181              0.059"
      ]
     },
     "execution_count": 16,
     "metadata": {},
     "output_type": "execute_result"
    }
   ],
   "source": [
    "data = pd.read_csv(\"Prostate Cancer.csv\")\n",
    "\n",
    "# Convert int to floats for these columns\n",
    "columns_to_convert = [\"radius\", \"texture\", \"perimeter\", \"area\"]\n",
    "data[columns_to_convert] = data[columns_to_convert].astype(float)\n",
    "\n",
    "# Convert target variable into a float\n",
    "data.diagnosis_result = data.diagnosis_result.apply(\n",
    "    lambda value: 0.0 if value == \"B\" else 1.0\n",
    ")\n",
    "# Use column called 'id' as index.\n",
    "data = data.set_index(\"id\")\n",
    "data.head()"
   ]
  },
  {
   "cell_type": "code",
   "execution_count": 17,
   "metadata": {
    "scrolled": true
   },
   "outputs": [
    {
     "name": "stdout",
     "output_type": "stream",
     "text": [
      "The list of columns that represent features is:\n",
      "['perimeter', 'fractal_dimension', 'smoothness', 'area', 'compactness', 'symmetry', 'radius', 'texture']\n",
      "So, we have 8 dimensions in our feature vectors.\n",
      "\n"
     ]
    },
    {
     "data": {
      "text/html": [
       "<div>\n",
       "<style scoped>\n",
       "    .dataframe tbody tr th:only-of-type {\n",
       "        vertical-align: middle;\n",
       "    }\n",
       "\n",
       "    .dataframe tbody tr th {\n",
       "        vertical-align: top;\n",
       "    }\n",
       "\n",
       "    .dataframe thead th {\n",
       "        text-align: right;\n",
       "    }\n",
       "</style>\n",
       "<table border=\"1\" class=\"dataframe\">\n",
       "  <thead>\n",
       "    <tr style=\"text-align: right;\">\n",
       "      <th></th>\n",
       "      <th>diagnosis_result</th>\n",
       "      <th>radius</th>\n",
       "      <th>texture</th>\n",
       "      <th>perimeter</th>\n",
       "      <th>area</th>\n",
       "      <th>smoothness</th>\n",
       "      <th>compactness</th>\n",
       "      <th>symmetry</th>\n",
       "      <th>fractal_dimension</th>\n",
       "    </tr>\n",
       "    <tr>\n",
       "      <th>id</th>\n",
       "      <th></th>\n",
       "      <th></th>\n",
       "      <th></th>\n",
       "      <th></th>\n",
       "      <th></th>\n",
       "      <th></th>\n",
       "      <th></th>\n",
       "      <th></th>\n",
       "      <th></th>\n",
       "    </tr>\n",
       "  </thead>\n",
       "  <tbody>\n",
       "    <tr>\n",
       "      <th>1</th>\n",
       "      <td>1.0</td>\n",
       "      <td>0.6667</td>\n",
       "      <td>-0.6667</td>\n",
       "      <td>1.7953</td>\n",
       "      <td>0.7041</td>\n",
       "      <td>2.2162</td>\n",
       "      <td>2.0850</td>\n",
       "      <td>1.4054</td>\n",
       "      <td>1.6</td>\n",
       "    </tr>\n",
       "    <tr>\n",
       "      <th>2</th>\n",
       "      <td>0.0</td>\n",
       "      <td>-0.8889</td>\n",
       "      <td>-0.5455</td>\n",
       "      <td>1.2283</td>\n",
       "      <td>1.5491</td>\n",
       "      <td>2.2162</td>\n",
       "      <td>-0.5163</td>\n",
       "      <td>-0.2432</td>\n",
       "      <td>-0.6</td>\n",
       "    </tr>\n",
       "    <tr>\n",
       "      <th>3</th>\n",
       "      <td>1.0</td>\n",
       "      <td>0.4444</td>\n",
       "      <td>1.1515</td>\n",
       "      <td>1.1339</td>\n",
       "      <td>1.2697</td>\n",
       "      <td>1.2432</td>\n",
       "      <td>0.5425</td>\n",
       "      <td>0.4595</td>\n",
       "      <td>-0.3</td>\n",
       "    </tr>\n",
       "    <tr>\n",
       "      <th>4</th>\n",
       "      <td>1.0</td>\n",
       "      <td>-0.3333</td>\n",
       "      <td>-0.1818</td>\n",
       "      <td>-0.5039</td>\n",
       "      <td>-0.5860</td>\n",
       "      <td>-1.7297</td>\n",
       "      <td>2.1634</td>\n",
       "      <td>1.8919</td>\n",
       "      <td>3.4</td>\n",
       "    </tr>\n",
       "    <tr>\n",
       "      <th>5</th>\n",
       "      <td>1.0</td>\n",
       "      <td>-0.8889</td>\n",
       "      <td>0.1818</td>\n",
       "      <td>1.2913</td>\n",
       "      <td>1.4832</td>\n",
       "      <td>2.1081</td>\n",
       "      <td>0.1895</td>\n",
       "      <td>-0.2432</td>\n",
       "      <td>-0.4</td>\n",
       "    </tr>\n",
       "  </tbody>\n",
       "</table>\n",
       "</div>"
      ],
      "text/plain": [
       "    diagnosis_result  radius  texture  perimeter    area  smoothness  compactness  symmetry  fractal_dimension\n",
       "id                                                                                                            \n",
       "1                1.0  0.6667  -0.6667     1.7953  0.7041      2.2162       2.0850    1.4054                1.6\n",
       "2                0.0 -0.8889  -0.5455     1.2283  1.5491      2.2162      -0.5163   -0.2432               -0.6\n",
       "3                1.0  0.4444   1.1515     1.1339  1.2697      1.2432       0.5425    0.4595               -0.3\n",
       "4                1.0 -0.3333  -0.1818    -0.5039 -0.5860     -1.7297       2.1634    1.8919                3.4\n",
       "5                1.0 -0.8889   0.1818     1.2913  1.4832      2.1081       0.1895   -0.2432               -0.4"
      ]
     },
     "execution_count": 17,
     "metadata": {},
     "output_type": "execute_result"
    }
   ],
   "source": [
    "# Set a variable (features) with the names of all the features BUT the target variable.\n",
    "target = \"diagnosis_result\"\n",
    "features = list(set(data.columns) - set([target]))\n",
    "print(f\"The list of columns that represent features is:\\n{features}\")\n",
    "print(f\"So, we have {len(features)} dimensions in our feature vectors.\")\n",
    "\n",
    "scaler = RobustScaler().fit(data[features])\n",
    "data[features] = scaler.transform(data[features]).round(4)\n",
    "\n",
    "print()\n",
    "data.head()"
   ]
  },
  {
   "cell_type": "markdown",
   "metadata": {},
   "source": [
    "## k-NN homemade implementation\n",
    "\n",
    "Let's work on our own implementation of k-NN, simply to illustrate how simple is this method. Let's start by the distance function used: _euclidean distance_. For those of you who do not remember the math of the [euclidean distance](https://en.wikipedia.org/wiki/Euclidean_distance) between two points in $p$ dimensions:\n",
    "\n",
    "$$ d(p, q)=d(q, p)=\\sqrt{\\left(q_{1}-p_{1}\\right)^{2}+\\cdots+\\left(q_{n}-p_{n}\\right)^{2}} $$\n",
    "\n",
    "where $n$ is the number of features or dimensions or predictors, and $p, q$ are the two points or vectors. The implementation of this formula is as follows:"
   ]
  },
  {
   "cell_type": "code",
   "execution_count": 18,
   "metadata": {},
   "outputs": [],
   "source": [
    "def euclidean_distance(p, q):\n",
    "    distance = 0.0\n",
    "    for i in range(len(p)):\n",
    "        distance += (p[i] - q[i]) ** 2\n",
    "    return sqrt(distance)"
   ]
  },
  {
   "cell_type": "markdown",
   "metadata": {},
   "source": [
    "The way k-NN works is by pre-computing the distance between every pair of points/vectors in the data, and putting them in a matrix. By doing so, later determining who are the \"k\" nearest neighbors is easily done by taking a look at the matrix.\n",
    "\n",
    "If, for example, we had three points, $a$, $b$ and $c$, the distance matrix $D$ is something like this:\n",
    "\n",
    "$$\n",
    "D=\\left(\\begin{array}{ccc}\n",
    "0 & d(a, b) & d(a, c) \\\\\n",
    "d(b, a) & 0 & d(b(c) \\\\\n",
    "d(c, a) & d(c, b) & 0\n",
    "\\end{array}\\right)\n",
    "$$\n",
    "\n",
    "In our case we have 100 different samples, which means that we have a matrix $D$ shaped $100 \\times 100$."
   ]
  },
  {
   "cell_type": "code",
   "execution_count": 19,
   "metadata": {},
   "outputs": [],
   "source": [
    "def distance_matrix(data):\n",
    "    n_samples = data.shape[0]\n",
    "    D = np.ndarray((n_samples, n_samples))\n",
    "    D_row = np.ndarray((n_samples,))\n",
    "\n",
    "    for i in range(n_samples):\n",
    "        for j in range(n_samples):\n",
    "            D_row[j] = euclidean_distance(data.iloc[i].values, \n",
    "                                          data.iloc[j].values)\n",
    "        D[i] = D_row\n",
    "\n",
    "    return D"
   ]
  },
  {
   "cell_type": "markdown",
   "metadata": {},
   "source": [
    "How to get the $k$ nearest beighbors of a particular sample that is not in training data? Well, instead of computing all the distances between all samples in training set, we only compute the distance between the sample we want to classify and all the data in our tratining set.\n",
    "\n",
    "The method below is doing so. It needs all the training data, the point which needs to be classified, and the number of neighbours you want to return. The result is the index of the closest `num_neighbors` samples in training data, to our point."
   ]
  },
  {
   "cell_type": "code",
   "execution_count": 20,
   "metadata": {},
   "outputs": [],
   "source": [
    "def get_neighbors(data, point, num_neighbors: int):\n",
    "    n_samples = data.shape[0]\n",
    "    distances = list()\n",
    "    for sample_index in range(n_samples):\n",
    "        this_point = data.iloc[sample_index]\n",
    "        distance = euclidean_distance(this_point, point)\n",
    "        distances.append((sample_index, distance))\n",
    "    distances.sort(key=lambda tup: tup[1])\n",
    "    neighbors = list()\n",
    "    for i in range(num_neighbors):\n",
    "        neighbors.append(distances[i][0])\n",
    "\n",
    "    return [d[1] for d in distances[:num_neighbors]], neighbors"
   ]
  },
  {
   "cell_type": "markdown",
   "metadata": {},
   "source": [
    "To illustrate this idea, simply take a random sample with 8 values and call the method. The result is the list of closets neighbours to this samples, according to the euclidena distance."
   ]
  },
  {
   "cell_type": "code",
   "execution_count": 21,
   "metadata": {},
   "outputs": [
    {
     "data": {
      "text/plain": [
       "([4.768526774591918, 5.456166537047784, 5.826941259357262], [78, 0, 12])"
      ]
     },
     "execution_count": 21,
     "metadata": {},
     "output_type": "execute_result"
    }
   ],
   "source": [
    "sample = [1.0, 1.0, 1.0, 1.0, 7.0, 1.0, 1.0, 1.0]\n",
    "get_neighbors(data[features], sample, 3)"
   ]
  },
  {
   "cell_type": "markdown",
   "metadata": {},
   "source": [
    "If we compare our result with what the kNN implementation in Scikit-Learn produces, we can check that we're correct."
   ]
  },
  {
   "cell_type": "code",
   "execution_count": 22,
   "metadata": {},
   "outputs": [
    {
     "data": {
      "text/plain": [
       "(array([[4.76852677, 5.45616654, 5.82694126]]), array([[78,  0, 12]]))"
      ]
     },
     "execution_count": 22,
     "metadata": {},
     "output_type": "execute_result"
    }
   ],
   "source": [
    "from sklearn.neighbors import KNeighborsClassifier\n",
    "\n",
    "knn = KNeighborsClassifier(n_neighbors=3, metric=\"euclidean\")\n",
    "knn.fit(X=data[features], y=data[target])\n",
    "knn.kneighbors(X=[sample])"
   ]
  },
  {
   "cell_type": "markdown",
   "metadata": {},
   "source": [
    "How to make a prediction from this? Simply taking the value of the target variable for the samples selected. The next method implements this Max Voting scheme. Once we have $k$ individuals that are close to the sample we want to classify, we need to determine which is the label of the majority of them. That is what the `max(...)` part inside the method implements."
   ]
  },
  {
   "cell_type": "code",
   "execution_count": 23,
   "metadata": {},
   "outputs": [],
   "source": [
    "# Make a prediction with neighbors\n",
    "def predict_classification(data, features, sample, num_neighbors):\n",
    "    # Obtain the closest neighbours for this sample\n",
    "    neighbors = get_neighbors(data[features], sample, num_neighbors)[1]\n",
    "\n",
    "    # from the list of samples that are closer to it, obtain the value of the\n",
    "    # target variable\n",
    "    output_values = [data.iloc[i][target] for i in neighbors]\n",
    "\n",
    "    # This is simplified Max Voting function that determines what label is\n",
    "    # most commonly present among the \"k\" neighbors\n",
    "    prediction = max(set(output_values), key=output_values.count)\n",
    "\n",
    "    return prediction"
   ]
  },
  {
   "cell_type": "markdown",
   "metadata": {},
   "source": [
    "Finally, we need a method to wrap everything."
   ]
  },
  {
   "cell_type": "code",
   "execution_count": 24,
   "metadata": {},
   "outputs": [],
   "source": [
    "# kNN Algorithm\n",
    "def k_nearest_neighbors(data, features, test, num_neighbors):\n",
    "    predictions = list()\n",
    "    for row in test:\n",
    "        output = predict_classification(data, features, row, num_neighbors)\n",
    "        predictions.append(output)\n",
    "    return predictions"
   ]
  },
  {
   "cell_type": "markdown",
   "metadata": {},
   "source": [
    "The way we call it is by giving the method the data, the names of the features, the sample(s) we want to classify, and the number of neighbours to be used:\n",
    "\n",
    "(we use `[sample]` because the method expects a list of samples to be classified but we only have one... so we create a list with that only sample in it.)"
   ]
  },
  {
   "cell_type": "code",
   "execution_count": 25,
   "metadata": {},
   "outputs": [
    {
     "data": {
      "text/plain": [
       "[1.0]"
      ]
     },
     "execution_count": 25,
     "metadata": {},
     "output_type": "execute_result"
    }
   ],
   "source": [
    "k_nearest_neighbors(data, features, [sample], 3)"
   ]
  },
  {
   "cell_type": "markdown",
   "metadata": {},
   "source": [
    "## Exercises\n",
    "\n",
    "  1. We have presented the $D$ matrix, in the method `distance_matrix`. Can we use it to classify a new sample which is not in the training set?\n",
    "  2. We have a problem with 8-dimensions, which is rather difficult to plot... but, can you make an extreme feature selection to keep only the two most important features, and use them to plot the 100 samples in those two dimensions? Can you use the value of the target variable to plot each point in a different color? Is the distribution showing up a discernible separation boundary?\n",
    "  3. What is the optimal number for $k$ in our original problem? To do this you must split the dataset between training and test in order to evaluate (using cross validation!) what is the performance (what metric do you plan to use?) of the different values of $k$.\n",
    "  4. Can you compare your results in previous point with those produced by the `sklearn` impmlementation of k-NN?\n",
    "  5. **EXTRA** Can you evaluate any other distance function different to `euclidean`?"
   ]
  },
  {
   "cell_type": "markdown",
   "metadata": {},
   "source": [
    "### Exercise 1.1"
   ]
  },
  {
   "cell_type": "markdown",
   "metadata": {},
   "source": [
    "We have presented the $D$ matrix, in the method `distance_matrix`. Can we use it to classify a new sample which is not in the training set?\n",
    "\n",
    "  Well, NO, we cannot. The matrix $D$ only contains the distance to the points/vectors used as reference for the algorithm. These reference points are the equivalent of the _training set_. If we want to _classify a new sample_ (or point, or vector, or feature vector, or entry, or row, or ... you name it) we must know its distance to all the samples in the reference/training set. And since this point is new to the model, we don't have its distance computed in the matrix $D$."
   ]
  },
  {
   "cell_type": "markdown",
   "metadata": {},
   "source": [
    "### Exercise 1.2\n",
    "\n",
    "  _We have a problem with 8-dimensions, which is rather difficult to plot... but, can you make an extreme feature selection to keep only the two most important features, and use them to plot the 100 samples in those two dimensions? Can you use the value of the target variable to plot each point in a different color? Is the distribution showing up a discernible separation boundary?_\n",
    "\n",
    "We will use a decision tree to see what features are more important. Remember that once a tree is _fit_ (or trained) we can recover _feature importances_ by checking out that parameter in `sklearn`. To be sure that the approach works we must use using cross_validation. This is, we cannot rely on the first attemp to fit a decision tree on the entire data. We must select different subsets.\n",
    "\n",
    "So, first of all we need a method that will separate the features from the target variable in a given split."
   ]
  },
  {
   "cell_type": "code",
   "execution_count": 26,
   "metadata": {},
   "outputs": [],
   "source": [
    "def assign_data_to_fold(data, training_fold):\n",
    "    X_train = data.iloc[training_fold][features]\n",
    "    y_train = data.iloc[training_fold][target]\n",
    "    return X_train, y_train"
   ]
  },
  {
   "cell_type": "markdown",
   "metadata": {},
   "source": [
    "We also need a method that will fit a decision tree with the selected training split (X, y) and will extract `feature_importances_`. Since `sklearn` is returning the importance value, and what we need is the index of the features with the two-higher importances, we must work a little bit the indices."
   ]
  },
  {
   "cell_type": "code",
   "execution_count": 27,
   "metadata": {},
   "outputs": [],
   "source": [
    "def two_most_important_features(X_train, y_train):\n",
    "    tree = DecisionTreeClassifier().fit(X_train, y_train)\n",
    "    feat_imp = list(tree.feature_importances_)\n",
    "\n",
    "    # Sort the importances and take only the first two ([:2])\n",
    "    higher_importances = sorted(list(feat_imp), reverse=True)[:2]\n",
    "\n",
    "    # Recover the index of the features with those values, as that is what is\n",
    "    # telling us what features are more important (not the value). We use\n",
    "    #  the method `index()` to do so.\n",
    "    best = feat_imp.index(higher_importances[0])\n",
    "    second_best = feat_imp.index(higher_importances[1])\n",
    "\n",
    "    return best, second_best"
   ]
  },
  {
   "cell_type": "markdown",
   "metadata": {},
   "source": [
    "Once we know what features are the most important in a given split, we upvote for them. If we do so during all the splits generated, we will collect how many times each category result among the first two most important."
   ]
  },
  {
   "cell_type": "code",
   "execution_count": 28,
   "metadata": {},
   "outputs": [],
   "source": [
    "def vote_winner_categories(polling, votes):\n",
    "    polling[votes[0]] += 1\n",
    "    polling[votes[1]] += 1\n",
    "\n",
    "    return polling"
   ]
  },
  {
   "cell_type": "markdown",
   "metadata": {},
   "source": [
    "Finally, a loop to generate the votes for all the splits and collect at the end which categories present more votes. We use the `KFold` ([more info](https://scikit-learn.org/stable/modules/cross_validation.html)) to generate as many folds as required (50). For each on, we take the training portion to fit a tree and extract the most important features, to finally keep track of how many votes each category receives along the process.\n",
    "\n",
    "The final result is the list of the two most important features, at least for the decision tree classifier."
   ]
  },
  {
   "cell_type": "code",
   "execution_count": 29,
   "metadata": {},
   "outputs": [
    {
     "name": "stdout",
     "output_type": "stream",
     "text": [
      "Most important features: [0, 4]\n",
      "Names of the features: perimeter, compactness\n"
     ]
    }
   ],
   "source": [
    "# Generate this number of folds or splits\n",
    "n_splits = 50\n",
    "kfold = KFold(n_splits)\n",
    "# This will collects what features are more important on every fold.\n",
    "polling = defaultdict(int)\n",
    "\n",
    "for training_fold, _ in kfold.split(data):\n",
    "    X_train, y_train = assign_data_to_fold(data, training_fold)\n",
    "    important_features = two_most_important_features(X_train, y_train)\n",
    "    polling = vote_winner_categories(polling, important_features)\n",
    "\n",
    "most_important_features = sorted(polling, key=polling.get, reverse=True)[:2]\n",
    "print(f\"Most important features: {most_important_features}\")\n",
    "\n",
    "feat1 = features[most_important_features[0]]\n",
    "feat2 = features[most_important_features[1]]\n",
    "print(f\"Names of the features: {feat1}, {feat2}\")"
   ]
  },
  {
   "cell_type": "markdown",
   "metadata": {},
   "source": [
    "Now plot only those two features in a 2D chart, using different colors for each category."
   ]
  },
  {
   "cell_type": "code",
   "execution_count": 30,
   "metadata": {
    "jupyter": {
     "source_hidden": true
    }
   },
   "outputs": [
    {
     "data": {
      "image/png": "[encoded data removed]",
      "text/plain": [
       "<Figure size 576x432 with 1 Axes>"
      ]
     },
     "metadata": {
      "needs_background": "light"
     },
     "output_type": "display_data"
    }
   ],
   "source": [
    "x = data[feat1].values\n",
    "y = data[feat2].values\n",
    "color = data[target].astype(int)\n",
    "\n",
    "plt.figure(figsize=(8, 6))\n",
    "plt.scatter(\n",
    "    x, y, marker=\"+\", s=150, linewidths=4, c=color, cmap=plt.cm.coolwarm, alpha=0.5\n",
    ")\n",
    "plt.xlabel(feat1)\n",
    "plt.ylabel(feat2)\n",
    "plt.show()"
   ]
  },
  {
   "cell_type": "markdown",
   "metadata": {},
   "source": [
    "### Exercise 1.3\n",
    "\n",
    "What is the optimal number for $k$ in our original problem? To do this you must split the dataset between training and test in order to evaluate (using cross validation!) what is the performance (what metric do you plan to use?) of the different values of $k$.\n",
    "\n",
    "Reusing our `KFold` function we can generate different splits and evaluate the **accuracy** of our home made implementation, for different values of $k$."
   ]
  },
  {
   "cell_type": "code",
   "execution_count": 35,
   "metadata": {},
   "outputs": [],
   "source": [
    "def evaluate_homemade_knn(data, num_neighbors):\n",
    "    n_splits = 20\n",
    "    kfold = KFold(n_splits)\n",
    "    accuracies = []  #  <- used to store each individual accuracy\n",
    "\n",
    "    for training_fold, test_fold in kfold.split(data):\n",
    "        train = data.iloc[training_fold, :]\n",
    "        test = data.iloc[test_fold, :]\n",
    "        y_true = test[target]\n",
    "        y_pred = k_nearest_neighbors(train, features, \n",
    "                                     test[features].values, \n",
    "                                     num_neighbors)\n",
    "        accuracies.append(accuracy_score(y_true, y_pred))\n",
    "\n",
    "    return np.mean(accuracies)"
   ]
  },
  {
   "cell_type": "markdown",
   "metadata": {},
   "source": [
    "Evaluate for different values of $k$ and keep the score at each evaluation to later plot.\n",
    "\n",
    "As it is a bit slow (the implemenation can clearly improve) uncomment if you're decided to wait for a few seconds."
   ]
  },
  {
   "cell_type": "code",
   "execution_count": 36,
   "metadata": {},
   "outputs": [],
   "source": [
    "score = [evaluate_homemade_knn(data, k) for k in range(3, 20, 2)]"
   ]
  },
  {
   "cell_type": "code",
   "execution_count": 37,
   "metadata": {
    "jupyter": {
     "source_hidden": true
    }
   },
   "outputs": [
    {
     "data": {
      "image/png": "[encoded data removed]",
      "text/plain": [
       "<Figure size 576x360 with 1 Axes>"
      ]
     },
     "metadata": {
      "needs_background": "light"
     },
     "output_type": "display_data"
    }
   ],
   "source": [
    "plt.figure(figsize=(8, 5))\n",
    "plt.plot(range(3, 20, 2), score, \"o-\", alpha=0.8)\n",
    "plt.axvline(\n",
    "    x=(score.index(max(score)) * 2) + 3, c=\"r\", linestyle=\"--\", linewidth=0.7, alpha=0.8\n",
    ")\n",
    "plt.title(\"Parameter $k$ selection for homemade kNN\")\n",
    "plt.xlabel(\"values of $k$\")\n",
    "plt.ylabel(\"Accuracy\")\n",
    "plt.show()"
   ]
  },
  {
   "cell_type": "markdown",
   "metadata": {},
   "source": [
    "### Exercise 1.4\n",
    "\n",
    "Can you compare your results in previous point with those produced by the `sklearn` impmlementation of k-NN?\n",
    "\n",
    "We simply have to create the classifier using the class `KNeighborsClassifier` and passing the desired number of neighbors (default = 5) and the distance method to be used (default=_minkowski_). \n",
    "\n",
    "Using SKLearn is much easier than building the method on your own, so we don't have to use complicated methods to split the dataset. We can easily call the `cross_val_score` which will take care of the entire process for us. You can read more [here](https://scikit-learn.org/stable/modules/cross_validation.html)."
   ]
  },
  {
   "cell_type": "code",
   "execution_count": 40,
   "metadata": {},
   "outputs": [],
   "source": [
    "def evaluate_sk_knn(data, n_neighbors):\n",
    "    knn = KNeighborsClassifier(n_neighbors, metric=\"euclidean\")\n",
    "    scores = cross_val_score(\n",
    "        knn, data[features], data[target], cv=10, scoring=\"accuracy\"\n",
    "    )\n",
    "    return scores.mean()\n",
    "\n",
    "\n",
    "sk_scores = [evaluate_sk_knn(data, k) for k in range(3, 20, 2)]"
   ]
  },
  {
   "cell_type": "code",
   "execution_count": 41,
   "metadata": {
    "jupyter": {
     "source_hidden": true
    }
   },
   "outputs": [
    {
     "data": {
      "image/png": "[encoded data removed]",
      "text/plain": [
       "<Figure size 576x360 with 1 Axes>"
      ]
     },
     "metadata": {
      "needs_background": "light"
     },
     "output_type": "display_data"
    }
   ],
   "source": [
    "plt.figure(figsize=(8, 5))\n",
    "plt.plot(range(3, 20, 2), sk_scores, c=\"green\", marker=\"o\", alpha=0.8)\n",
    "plt.axvline(\n",
    "    x=(sk_scores.index(max(sk_scores)) * 2) + 3,\n",
    "    c=\"r\",\n",
    "    linestyle=\"--\",\n",
    "    linewidth=0.7,\n",
    "    alpha=0.8,\n",
    ")\n",
    "plt.title(\"Parameter $k$ selection for SKLEARN kNN\")\n",
    "plt.xlabel(\"values of $k$\")\n",
    "plt.ylabel(\"Accuracy\")\n",
    "plt.show()"
   ]
  },
  {
   "cell_type": "markdown",
   "metadata": {},
   "source": [
    "### Exercise 1.5\n",
    "\n",
    "**EXTRA** Can you evaluate any other distance function different to `euclidean`?\n",
    "\n",
    "As we just saw, we can change the parameter `metric` in `KNeigborsClassifier` and use any of the distances specified [here](https://scikit-learn.org/stable/modules/generated/sklearn.neighbors.DistanceMetric.html#sklearn.neighbors.DistanceMetric).\n",
    "\n",
    "If you decide to implement those for our homemade kNN, try googling it first, as there're [many](https://www.geeksforgeeks.org/minkowski-distance-python/) existing implementations already."
   ]
  }
 ],
 "metadata": {
  "hide_input": false,
  "kernelspec": {
   "display_name": "Python 3",
   "language": "python",
   "name": "python3"
  },
  "language_info": {
   "codemirror_mode": {
    "name": "ipython",
    "version": 3
   },
   "file_extension": ".py",
   "mimetype": "text/x-python",
   "name": "python",
   "nbconvert_exporter": "python",
   "pygments_lexer": "ipython3",
   "version": "3.7.10"
  },
  "toc": {
   "base_numbering": 1,
   "nav_menu": {},
   "number_sections": true,
   "sideBar": true,
   "skip_h1_title": false,
   "title_cell": "Table of Contents",
   "title_sidebar": "Contents",
   "toc_cell": true,
   "toc_position": {},
   "toc_section_display": true,
   "toc_window_display": false
  }
 },
 "nbformat": 4,
 "nbformat_minor": 4
}
