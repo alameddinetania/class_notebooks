{
 "cells": [
  {
   "cell_type": "markdown",
   "metadata": {
    "slideshow": {
     "slide_type": "skip"
    }
   },
   "source": [
    "RISE Slide package configuration."
   ]
  },
  {
   "cell_type": "code",
   "execution_count": 1,
   "metadata": {
    "slideshow": {
     "slide_type": "skip"
    }
   },
   "outputs": [
    {
     "data": {
      "text/html": [
       "<style>\n",
       "\n",
       ".CodeMirror {\n",
       "    width: 100vw;\n",
       "    font-size: 16px !important;\n",
       "    font-family: monospace;\n",
       "}\n",
       "\n",
       ".container {\n",
       "    width: 90% !important;\n",
       "}\n",
       "\n",
       ".rendered_html {\n",
       "    font-size: 20px !important;\n",
       "}\n",
       "\n",
       ".rise-enabled .fa-times-circle:before,\n",
       ".rise-enabled .fa-question:before,\n",
       ".rise-enabled aside.controls {\n",
       "    opacity: 0.3;\n",
       "}\n",
       "\n",
       "# Change output font size\n",
       ".rendered_html table {\n",
       "    font-size: 14px !important;\n",
       "}\n",
       "\n",
       "# Change inner background (for code)\n",
       "div.input_area {\n",
       "    background: white !important;\n",
       "    font-size: 14px !important;\n",
       "}\n",
       "\n",
       "body.rise-enabled div.output_subarea.output_text.output_result {\n",
       "    font-size: 75%;\n",
       "}\n",
       "\n",
       "body.rise-enabled div.output_subarea.output_text.output_stream.output_stdout {\n",
       "  font-size: 75%;\n",
       "}\n",
       "\n",
       ".rendered_html table, .rendered_html th, .rendered_html tr, .rendered_html td {\n",
       "    font-size: 14px !important;\n",
       "    font-family: monospace;\n",
       "}\n",
       "\n",
       "</style>\n"
      ],
      "text/plain": [
       "<IPython.core.display.HTML object>"
      ]
     },
     "metadata": {},
     "output_type": "display_data"
    }
   ],
   "source": [
    "%%HTML\n",
    "<style>\n",
    "\n",
    ".CodeMirror {\n",
    "    width: 100vw;\n",
    "    font-size: 16px !important;\n",
    "    font-family: monospace;\n",
    "}\n",
    "\n",
    ".container {\n",
    "    width: 90% !important;\n",
    "}\n",
    "\n",
    ".rendered_html {\n",
    "    font-size: 20px !important;\n",
    "}\n",
    "\n",
    ".rise-enabled .fa-times-circle:before,\n",
    ".rise-enabled .fa-question:before,\n",
    ".rise-enabled aside.controls {\n",
    "    opacity: 0.3;\n",
    "}\n",
    "\n",
    "# Change output font size\n",
    ".rendered_html table {\n",
    "    font-size: 14px !important;\n",
    "}\n",
    "\n",
    "# Change inner background (for code)\n",
    "div.input_area {\n",
    "    background: white !important;\n",
    "    font-size: 14px !important;\n",
    "}\n",
    "\n",
    "body.rise-enabled div.output_subarea.output_text.output_result {\n",
    "    font-size: 75%;\n",
    "}\n",
    "\n",
    "body.rise-enabled div.output_subarea.output_text.output_stream.output_stdout {\n",
    "  font-size: 75%;\n",
    "}\n",
    "\n",
    ".rendered_html table, .rendered_html th, .rendered_html tr, .rendered_html td {\n",
    "    font-size: 14px !important;\n",
    "    font-family: monospace;\n",
    "}\n",
    "\n",
    "</style>"
   ]
  },
  {
   "cell_type": "markdown",
   "metadata": {
    "slideshow": {
     "slide_type": "skip"
    }
   },
   "source": [
    "%%HTML\n",
    "<style>\n",
    ".rise-enabled .rendered_html table.dataframe {\n",
    "    font-size: 10px;\n",
    "}\n",
    ".rendered_html code {\n",
    "    background: #EFEFEF;\n",
    "    border: 1px solid #CCC;\n",
    "    padding: 1px 5px;\n",
    "    border-radius: 1px;\n",
    "}\n",
    ".rise-enabled .fa-times-circle:before,\n",
    ".rise-enabled .fa-question:before,\n",
    ".rise-enabled aside.controls {\n",
    "    opacity: 0.4;\n",
    "}\n",
    ".rise-enabled a,\n",
    ".rise-enabled a:active,\n",
    ".rise-enabled a:hover,\n",
    ".rise-enabled a:visited,\n",
    ".rise-enabled :link {\n",
    "    text-decoration: none;\n",
    "    color: #A68910;\n",
    "}\n",
    "</style>"
   ]
  },
  {
   "cell_type": "markdown",
   "metadata": {
    "id": "T6rPx_b2c43D",
    "slideshow": {
     "slide_type": "slide"
    }
   },
   "source": [
    "# Feature Engineering Practice\n",
    "\n",
    "We will first contact the featuring engineering process and its impact in an ML pipeline in this first practice session.\n",
    "Feature engineering is one of the essential steps of the process of developing prediction models. It is considered, by many authors, an art, and it involves human-driven design and intuition. This practice will try to uncover the most relevant issues that must be addressed and provide some guidelines to start building sound feature engineering processes for ML problems.\n",
    "\n",
    "## Data\n",
    "\n",
    "The experimental dataset we are going to use is the HR Analytics Dataset. It includes explanatory variables of around 15k employees of a large company. The goal of the case study is to\n",
    "model the probability of attrition (employees leaving, either on their own or because they got fired) of each employee and understand which variables are the most important ones and need to be addressed right away.\n",
    "\n",
    "The results obtained will be helpful for the management to understand what changes they should make to their workplace to get most of their employees to stay.\n",
    "\n",
    "For more details on the dataset and the task, see <https://www.kaggle.com/manojvijayan/feature-engineering-for-logistic-regression>."
   ]
  },
  {
   "cell_type": "code",
   "execution_count": 2,
   "metadata": {
    "id": "IPNxL2Vsch3w",
    "slideshow": {
     "slide_type": "skip"
    }
   },
   "outputs": [
    {
     "name": "stdout",
     "output_type": "stream",
     "text": [
      "/Users/renero/Documents/IE/IE 2022/MBD-EN ABR-2022 A-1/Notebooks/FE Practice\n"
     ]
    }
   ],
   "source": [
    "repository_name=\"/Users/renero/Documents/IE/IE 2022/MBD-EN ABR-2022 A-1/Notebooks/FE Practice\"\n",
    "%cd $repository_name"
   ]
  },
  {
   "cell_type": "code",
   "execution_count": 3,
   "metadata": {
    "slideshow": {
     "slide_type": "skip"
    }
   },
   "outputs": [
    {
     "data": {
      "text/html": [
       "<style>pre { white-space: pre !important; }</style>"
      ],
      "text/plain": [
       "<IPython.core.display.HTML object>"
      ]
     },
     "metadata": {},
     "output_type": "display_data"
    }
   ],
   "source": [
    "from IPython.display import display, HTML\n",
    "display(HTML(\"<style>pre { white-space: pre !important; }</style>\"))"
   ]
  },
  {
   "cell_type": "markdown",
   "metadata": {
    "id": "_VUB1kLyU3KD",
    "slideshow": {
     "slide_type": "slide"
    }
   },
   "source": [
    "# Imports and data loading\n",
    "\n",
    "Let's import the most relevant libraries. We're not importing speecific modules or classes yet, just the generic ones that will \n",
    "allow us to work with the more important frameworks."
   ]
  },
  {
   "cell_type": "code",
   "execution_count": 124,
   "metadata": {
    "id": "hj-rVLo9Te7t",
    "outputId": "d9801638-7b40-4bab-dfae-e605514ad620",
    "slideshow": {
     "slide_type": "-"
    }
   },
   "outputs": [],
   "source": [
    "import pandas as pd\n",
    "import matplotlib.pyplot as plt\n",
    "import numpy as np\n",
    "import sklearn\n",
    "import matplotlib\n",
    "import matplotlib.pyplot as plt\n",
    "%matplotlib inline \n",
    "\n",
    "import warnings\n",
    "warnings.filterwarnings('ignore') # Do not print warning messages\n",
    "\n",
    "# Reproducibility\n",
    "np.random.seed(1234)"
   ]
  },
  {
   "cell_type": "code",
   "execution_count": 5,
   "metadata": {
    "id": "yh0sfsEwU3KE",
    "outputId": "0872a859-dc47-420a-a61c-536204b2efa0",
    "scrolled": true,
    "slideshow": {
     "slide_type": "slide"
    }
   },
   "outputs": [
    {
     "data": {
      "text/html": [
       "<div>\n",
       "<style scoped>\n",
       "    .dataframe tbody tr th:only-of-type {\n",
       "        vertical-align: middle;\n",
       "    }\n",
       "\n",
       "    .dataframe tbody tr th {\n",
       "        vertical-align: top;\n",
       "    }\n",
       "\n",
       "    .dataframe thead th {\n",
       "        text-align: right;\n",
       "    }\n",
       "</style>\n",
       "<table border=\"1\" class=\"dataframe\">\n",
       "  <thead>\n",
       "    <tr style=\"text-align: right;\">\n",
       "      <th></th>\n",
       "      <th>satisfaction_level</th>\n",
       "      <th>last_evaluation</th>\n",
       "      <th>number_project</th>\n",
       "      <th>average_montly_hours</th>\n",
       "      <th>time_spend_company</th>\n",
       "      <th>Work_accident</th>\n",
       "      <th>left</th>\n",
       "      <th>promotion_last_5years</th>\n",
       "    </tr>\n",
       "  </thead>\n",
       "  <tbody>\n",
       "    <tr>\n",
       "      <th>count</th>\n",
       "      <td>14999.000000</td>\n",
       "      <td>14999.000000</td>\n",
       "      <td>14999.000000</td>\n",
       "      <td>14999.000000</td>\n",
       "      <td>14999.000000</td>\n",
       "      <td>14999.000000</td>\n",
       "      <td>14999.000000</td>\n",
       "      <td>14999.000000</td>\n",
       "    </tr>\n",
       "    <tr>\n",
       "      <th>mean</th>\n",
       "      <td>0.612834</td>\n",
       "      <td>0.716102</td>\n",
       "      <td>3.803054</td>\n",
       "      <td>201.050337</td>\n",
       "      <td>3.498233</td>\n",
       "      <td>0.144610</td>\n",
       "      <td>0.238083</td>\n",
       "      <td>0.021268</td>\n",
       "    </tr>\n",
       "    <tr>\n",
       "      <th>std</th>\n",
       "      <td>0.248631</td>\n",
       "      <td>0.171169</td>\n",
       "      <td>1.232592</td>\n",
       "      <td>49.943099</td>\n",
       "      <td>1.460136</td>\n",
       "      <td>0.351719</td>\n",
       "      <td>0.425924</td>\n",
       "      <td>0.144281</td>\n",
       "    </tr>\n",
       "    <tr>\n",
       "      <th>min</th>\n",
       "      <td>0.090000</td>\n",
       "      <td>0.360000</td>\n",
       "      <td>2.000000</td>\n",
       "      <td>96.000000</td>\n",
       "      <td>2.000000</td>\n",
       "      <td>0.000000</td>\n",
       "      <td>0.000000</td>\n",
       "      <td>0.000000</td>\n",
       "    </tr>\n",
       "    <tr>\n",
       "      <th>25%</th>\n",
       "      <td>0.440000</td>\n",
       "      <td>0.560000</td>\n",
       "      <td>3.000000</td>\n",
       "      <td>156.000000</td>\n",
       "      <td>3.000000</td>\n",
       "      <td>0.000000</td>\n",
       "      <td>0.000000</td>\n",
       "      <td>0.000000</td>\n",
       "    </tr>\n",
       "    <tr>\n",
       "      <th>50%</th>\n",
       "      <td>0.640000</td>\n",
       "      <td>0.720000</td>\n",
       "      <td>4.000000</td>\n",
       "      <td>200.000000</td>\n",
       "      <td>3.000000</td>\n",
       "      <td>0.000000</td>\n",
       "      <td>0.000000</td>\n",
       "      <td>0.000000</td>\n",
       "    </tr>\n",
       "    <tr>\n",
       "      <th>75%</th>\n",
       "      <td>0.820000</td>\n",
       "      <td>0.870000</td>\n",
       "      <td>5.000000</td>\n",
       "      <td>245.000000</td>\n",
       "      <td>4.000000</td>\n",
       "      <td>0.000000</td>\n",
       "      <td>0.000000</td>\n",
       "      <td>0.000000</td>\n",
       "    </tr>\n",
       "    <tr>\n",
       "      <th>max</th>\n",
       "      <td>1.000000</td>\n",
       "      <td>1.000000</td>\n",
       "      <td>7.000000</td>\n",
       "      <td>310.000000</td>\n",
       "      <td>10.000000</td>\n",
       "      <td>1.000000</td>\n",
       "      <td>1.000000</td>\n",
       "      <td>1.000000</td>\n",
       "    </tr>\n",
       "  </tbody>\n",
       "</table>\n",
       "</div>"
      ],
      "text/plain": [
       "       satisfaction_level  last_evaluation  number_project  \\\n",
       "count        14999.000000     14999.000000    14999.000000   \n",
       "mean             0.612834         0.716102        3.803054   \n",
       "std              0.248631         0.171169        1.232592   \n",
       "min              0.090000         0.360000        2.000000   \n",
       "25%              0.440000         0.560000        3.000000   \n",
       "50%              0.640000         0.720000        4.000000   \n",
       "75%              0.820000         0.870000        5.000000   \n",
       "max              1.000000         1.000000        7.000000   \n",
       "\n",
       "       average_montly_hours  time_spend_company  Work_accident          left  \\\n",
       "count          14999.000000        14999.000000   14999.000000  14999.000000   \n",
       "mean             201.050337            3.498233       0.144610      0.238083   \n",
       "std               49.943099            1.460136       0.351719      0.425924   \n",
       "min               96.000000            2.000000       0.000000      0.000000   \n",
       "25%              156.000000            3.000000       0.000000      0.000000   \n",
       "50%              200.000000            3.000000       0.000000      0.000000   \n",
       "75%              245.000000            4.000000       0.000000      0.000000   \n",
       "max              310.000000           10.000000       1.000000      1.000000   \n",
       "\n",
       "       promotion_last_5years  \n",
       "count           14999.000000  \n",
       "mean                0.021268  \n",
       "std                 0.144281  \n",
       "min                 0.000000  \n",
       "25%                 0.000000  \n",
       "50%                 0.000000  \n",
       "75%                 0.000000  \n",
       "max                 1.000000  "
      ]
     },
     "execution_count": 5,
     "metadata": {},
     "output_type": "execute_result"
    }
   ],
   "source": [
    "# Simply, load the CSV file that contains the data, and display \n",
    "# a decription of it.\n",
    "initial_hr_df = pd.read_csv(\"data/turnover.csv\")\n",
    "\n",
    "# Keep the original dataset for later comparisons and make \n",
    "# a copy for the FE process\n",
    "hr_df = initial_hr_df.copy(deep=True)\n",
    "\n",
    "# Displays an statistical description of numerical variables\n",
    "hr_df.describe()"
   ]
  },
  {
   "cell_type": "markdown",
   "metadata": {
    "id": "wx1_LHnIU3KF"
   },
   "source": [
    "We have 10 columns: the target variable (`left`) and 9 more features to work with. Let's analyze a little bit more each of them to check if we need to clean or preprocess them."
   ]
  },
  {
   "cell_type": "code",
   "execution_count": 6,
   "metadata": {
    "scrolled": true,
    "slideshow": {
     "slide_type": "slide"
    }
   },
   "outputs": [
    {
     "name": "stdout",
     "output_type": "stream",
     "text": [
      "<class 'pandas.core.frame.DataFrame'>\n",
      "RangeIndex: 14999 entries, 0 to 14998\n",
      "Data columns (total 10 columns):\n",
      " #   Column                 Non-Null Count  Dtype  \n",
      "---  ------                 --------------  -----  \n",
      " 0   satisfaction_level     14999 non-null  float64\n",
      " 1   last_evaluation        14999 non-null  float64\n",
      " 2   number_project         14999 non-null  int64  \n",
      " 3   average_montly_hours   14999 non-null  int64  \n",
      " 4   time_spend_company     14999 non-null  int64  \n",
      " 5   Work_accident          14999 non-null  int64  \n",
      " 6   left                   14999 non-null  int64  \n",
      " 7   promotion_last_5years  14999 non-null  int64  \n",
      " 8   sales                  14999 non-null  object \n",
      " 9   salary                 14999 non-null  object \n",
      "dtypes: float64(2), int64(6), object(2)\n",
      "memory usage: 1.1+ MB\n"
     ]
    }
   ],
   "source": [
    "# More compact info on the data we just read.\n",
    "hr_df.info();"
   ]
  },
  {
   "cell_type": "markdown",
   "metadata": {
    "id": "gmge6XlmU3KK",
    "slideshow": {
     "slide_type": "slide"
    }
   },
   "source": [
    "## Hunting NAs\n",
    "\n",
    "There is not any NULL values, so we can skip this step."
   ]
  },
  {
   "cell_type": "code",
   "execution_count": 7,
   "metadata": {
    "id": "87ebr66WU3KK",
    "outputId": "6241a651-0c47-45d5-996a-ff58d44784ec"
   },
   "outputs": [
    {
     "data": {
      "text/plain": [
       "satisfaction_level       0\n",
       "last_evaluation          0\n",
       "number_project           0\n",
       "average_montly_hours     0\n",
       "time_spend_company       0\n",
       "Work_accident            0\n",
       "left                     0\n",
       "promotion_last_5years    0\n",
       "sales                    0\n",
       "salary                   0\n",
       "dtype: int64"
      ]
     },
     "execution_count": 7,
     "metadata": {},
     "output_type": "execute_result"
    }
   ],
   "source": [
    "hr_df.isnull().sum()"
   ]
  },
  {
   "cell_type": "markdown",
   "metadata": {
    "id": "_TMxrb66U3KG",
    "slideshow": {
     "slide_type": "skip"
    }
   },
   "source": [
    "Let's inspect the dataset in more detail with `pandas_profiling`."
   ]
  },
  {
   "cell_type": "code",
   "execution_count": 8,
   "metadata": {
    "colab": {
     "referenced_widgets": [
      "4058ddaf7c8e418b8db9348bbd8d8885",
      "2ae84e5870124db2b7dc089526b6c2fa",
      "9ead4442985d43e5b8bf94c6d9d77770"
     ]
    },
    "id": "5zDXZesTU3KH",
    "outputId": "7832a5fc-d67f-4a36-8db8-ccb1dcd4190f",
    "slideshow": {
     "slide_type": "skip"
    }
   },
   "outputs": [],
   "source": [
    "from pandas_profiling import ProfileReport\n",
    "\n",
    "\n",
    "# report = ProfileReport(hr_df, minimal=False)\n",
    "# report"
   ]
  },
  {
   "cell_type": "markdown",
   "metadata": {
    "id": "g3T8sewXU3KH",
    "slideshow": {
     "slide_type": "slide"
    }
   },
   "source": [
    "## Factorize Features\n",
    "\n",
    "2 of the categories (`sales` and `salary`) are categorical. In addition, if we analyze the rest of the features we will see that we have three more categorical values encoded as numeric: `Work_accident`, `promotion_last_5years` and the target variable itself (`left`). Therefore, we should convert them to categorical before any further processing.\n",
    "\n",
    "You can use the `astype` function for the conversion."
   ]
  },
  {
   "cell_type": "code",
   "execution_count": 9,
   "metadata": {
    "id": "aBG3mh9UU3KI",
    "outputId": "05768eba-1d52-4cc9-f42d-8c405b71886b"
   },
   "outputs": [
    {
     "data": {
      "text/plain": [
       "satisfaction_level       float64\n",
       "last_evaluation          float64\n",
       "number_project             int64\n",
       "average_montly_hours       int64\n",
       "time_spend_company         int64\n",
       "Work_accident              int64\n",
       "left                       int64\n",
       "promotion_last_5years      int64\n",
       "sales                     object\n",
       "salary                    object\n",
       "dtype: object"
      ]
     },
     "execution_count": 9,
     "metadata": {},
     "output_type": "execute_result"
    }
   ],
   "source": [
    "hr_df.dtypes"
   ]
  },
  {
   "cell_type": "code",
   "execution_count": 10,
   "metadata": {
    "id": "CuiJy0WkU3KI",
    "outputId": "9e629fba-7473-4202-eaea-2bb4f601a335",
    "slideshow": {
     "slide_type": "slide"
    }
   },
   "outputs": [
    {
     "data": {
      "text/plain": [
       "satisfaction_level        float64\n",
       "last_evaluation           float64\n",
       "number_project              int64\n",
       "average_montly_hours        int64\n",
       "time_spend_company          int64\n",
       "Work_accident            category\n",
       "left                     category\n",
       "promotion_last_5years    category\n",
       "sales                    category\n",
       "salary                   category\n",
       "dtype: object"
      ]
     },
     "execution_count": 10,
     "metadata": {},
     "output_type": "execute_result"
    }
   ],
   "source": [
    "hr_df['sales'] = hr_df.sales.astype('category')\n",
    "hr_df['salary'] = hr_df.salary.astype('category')\n",
    "hr_df['promotion_last_5years'] = hr_df.promotion_last_5years.astype('category')\n",
    "hr_df['left'] = hr_df.left.astype('category')\n",
    "hr_df['Work_accident'] = hr_df.Work_accident.astype('category')\n",
    "\n",
    "hr_df.dtypes"
   ]
  },
  {
   "cell_type": "markdown",
   "metadata": {
    "id": "FLXTNhhoU3KJ",
    "slideshow": {
     "slide_type": "slide"
    }
   },
   "source": [
    "### Advanced Factorization\n",
    "\n",
    "The rest of the numerical values present a level of detail that may be much more fine-grained than we need. For instance, the satisfaction level can be \n",
    "represented by different categories (low, medium, high, ...). This process is usually refered as bucketization or discretization. We will then create \n",
    "another \"bucketized\" feature for each of the numerical columns.\n",
    "\n",
    "sklearn provides 2 main ways of doing it: the \n",
    "[`KBinsDiscretizer`](https://scikit-learn.org/stable/modules/generated/sklearn.preprocessing.KBinsDiscretizer.html#sklearn.preprocessing.KBinsDiscretizer) \n",
    "and the [`FunctionTransformer`](https://scikit-learn.org/stable/modules/generated/sklearn.preprocessing.FunctionTransformer.html#sklearn.preprocessing.FunctionTransformer) \n",
    "(for more details, please refer to the oficial documentation: https://scikit-learn.org/stable/modules/preprocessing.html#discretization).\n",
    "\n",
    "The following piece of code is just a demonstrative example of how to do this process by appyling both methods \n",
    "(i.e., one to transform the `satisfaction_level` and the other one to transform the `last_evaluation` feature). The values that I've selected for \n",
    "the bucketization are even-spaced values in the interval between Min and Max. In a real example, you should either find the optimal configuration \n",
    "or rely on some business knowledge to define these values. \n"
   ]
  },
  {
   "cell_type": "markdown",
   "metadata": {
    "slideshow": {
     "slide_type": "slide"
    }
   },
   "source": [
    "Take a look at the values of `satisfaction_level`."
   ]
  },
  {
   "cell_type": "code",
   "execution_count": 11,
   "metadata": {
    "slideshow": {
     "slide_type": "-"
    }
   },
   "outputs": [
    {
     "data": {
      "image/png": "[encoded data removed]",
      "text/plain": [
       "<Figure size 576x288 with 1 Axes>"
      ]
     },
     "metadata": {
      "needs_background": "light"
     },
     "output_type": "display_data"
    }
   ],
   "source": [
    "hr_df.satisfaction_level.hist(bins=50, figsize=(8,4));\n",
    "plt.xticks(np.arange(0, 1.1, 0.1));\n",
    "plt.show()"
   ]
  },
  {
   "cell_type": "markdown",
   "metadata": {
    "slideshow": {
     "slide_type": "slide"
    }
   },
   "source": [
    "Let's define where the different bins start and end. We need it when we use the method `FunctionTransformer`,\n",
    "just because it is very generic and we need to provide everything precompputed.\n",
    "\n",
    "We want 6 different values, from 0 to 5, so we use this simple method:"
   ]
  },
  {
   "cell_type": "code",
   "execution_count": 12,
   "metadata": {},
   "outputs": [
    {
     "data": {
      "text/plain": [
       "['0.0', '0.17', '0.33', '0.5', '0.67', '0.83', '1.0']"
      ]
     },
     "execution_count": 12,
     "metadata": {},
     "output_type": "execute_result"
    }
   ],
   "source": [
    "n_bins = 6\n",
    "bin_size = 1.0 / n_bins\n",
    "bins = np.arange(0, 1.0+bin_size, bin_size)[:-1]  # All but the last one\n",
    "labels = [0, 1, 2, 3, 4, 5]\n",
    "\n",
    "# Print what are the bin limits\n",
    "[f\"{b:.2}\" for b in bins]"
   ]
  },
  {
   "cell_type": "markdown",
   "metadata": {
    "slideshow": {
     "slide_type": "slide"
    }
   },
   "source": [
    "Simply apply a transformation (`fit_transform`) on the `satisfaction_level` column."
   ]
  },
  {
   "cell_type": "code",
   "execution_count": 13,
   "metadata": {
    "id": "WW7c3qhVR2Mr",
    "scrolled": false,
    "slideshow": {
     "slide_type": "-"
    }
   },
   "outputs": [
    {
     "data": {
      "text/plain": [
       "4    3744\n",
       "5    3307\n",
       "3    3136\n",
       "2    2726\n",
       "0    1200\n",
       "1     886\n",
       "Name: satisfaction_level_bin, dtype: int64"
      ]
     },
     "execution_count": 13,
     "metadata": {},
     "output_type": "execute_result"
    }
   ],
   "source": [
    "from sklearn.preprocessing import FunctionTransformer\n",
    "\n",
    "# Use cut when you need to segment and sort pandas DataFrame values into bins. \n",
    "# This function is also useful for going from a continuous variable to a categorical variable\n",
    "transformer = FunctionTransformer(\n",
    "    pd.cut, kw_args={'bins': bins, 'labels': labels, 'retbins': False}\n",
    ")\n",
    "\n",
    "hr_df['satisfaction_level_bin'] = transformer.fit_transform(\n",
    "    hr_df['satisfaction_level'])\n",
    "\n",
    "hr_df['satisfaction_level_bin'].value_counts()"
   ]
  },
  {
   "cell_type": "markdown",
   "metadata": {
    "slideshow": {
     "slide_type": "slide"
    }
   },
   "source": [
    "Let's do the same with `last_evaluation`, but using `KBinsDiscretizer`. Things are much simpler here."
   ]
  },
  {
   "cell_type": "code",
   "execution_count": 14,
   "metadata": {
    "id": "7TipDjOwR2Ms",
    "slideshow": {
     "slide_type": "-"
    }
   },
   "outputs": [
    {
     "data": {
      "text/plain": [
       "1.0    2697\n",
       "5.0    2675\n",
       "4.0    2559\n",
       "2.0    2430\n",
       "3.0    2372\n",
       "0.0    2266\n",
       "Name: last_evaluation_bin, dtype: int64"
      ]
     },
     "execution_count": 14,
     "metadata": {},
     "output_type": "execute_result"
    }
   ],
   "source": [
    "from sklearn.preprocessing import KBinsDiscretizer\n",
    "\n",
    "hr_df['last_evaluation_bin'] = KBinsDiscretizer(\n",
    "    n_bins=[6], encode='ordinal').fit_transform(hr_df[['last_evaluation']])\n",
    "hr_df['last_evaluation_bin'].value_counts()"
   ]
  },
  {
   "cell_type": "markdown",
   "metadata": {
    "id": "DIj8Qq9JR2Ms",
    "slideshow": {
     "slide_type": "slide"
    }
   },
   "source": [
    "Although not exactly discretization, the following code transform the `number_project` and the `time_spend_company` features to make them more readable. Additionally, we are collapsing some of the values (e.g., both 6 and 7 are encoded as `High`), the main aim is to provide a better understanding of the feature values."
   ]
  },
  {
   "cell_type": "code",
   "execution_count": 15,
   "metadata": {
    "slideshow": {
     "slide_type": "-"
    }
   },
   "outputs": [
    {
     "data": {
      "image/png": "[encoded data removed]",
      "text/plain": [
       "<Figure size 792x288 with 2 Axes>"
      ]
     },
     "metadata": {
      "needs_background": "light"
     },
     "output_type": "display_data"
    }
   ],
   "source": [
    "# Check what are the values in the `number_project` column.\n",
    "values, inv = np.unique(hr_df['number_project'], return_inverse=True)\n",
    "counts = np.bincount(inv)\n",
    "f, ax = plt.subplots(nrows=1, ncols=2, figsize=(11,4))\n",
    "ax[0].bar(values, counts, width=0.8);\n",
    "ax[0].set_title(\"number_project value/counts\")\n",
    "\n",
    "# Check what are the values in the `time_spend_company` column.\n",
    "values, inv = np.unique(hr_df['time_spend_company'], return_inverse=True)\n",
    "counts = np.bincount(inv)\n",
    "ax[1].bar(values, counts, width=0.8);\n",
    "ax[1].set_title(\"time_spend_company value/counts\");"
   ]
  },
  {
   "cell_type": "code",
   "execution_count": 16,
   "metadata": {
    "id": "Gq8oNVFsU3KJ",
    "slideshow": {
     "slide_type": "slide"
    }
   },
   "outputs": [],
   "source": [
    "hr_df['number_project_cat'] = hr_df['number_project'].map(\n",
    "    {2: \"Low\", \n",
    "     3: \"Low\", \n",
    "     4: \"Medium\", \n",
    "     5: \"Medium\", \n",
    "     6: \"High\", \n",
    "     7: \"Very_High\"}\n",
    ").astype('category')\n",
    "\n",
    "hr_df['time_spend_company_cat'] = hr_df['time_spend_company'].map(\n",
    "    {2: \"Low\", \n",
    "     3: \"Medium\", \n",
    "     4: \"Medium\", \n",
    "     5: \"Medium\", \n",
    "     6: \"High\", \n",
    "     7: \"High\", \n",
    "     8: \"Very_High\", \n",
    "     10: \"Very_High\"}\n",
    ").astype('category')"
   ]
  },
  {
   "cell_type": "markdown",
   "metadata": {
    "id": "t7MmdOwdU3KL",
    "slideshow": {
     "slide_type": "slide"
    }
   },
   "source": [
    "## Encoding categorical features\n",
    "\n",
    "As we have some categorical values with strings, we need to encode them to apply the sklearn classifiers. Let's apply what we learned in the previous practice"
   ]
  },
  {
   "cell_type": "code",
   "execution_count": 17,
   "metadata": {
    "id": "U5d_NAOhR2Mu",
    "outputId": "f0e4c619-4b7a-4f78-e4b4-0760e1a62a1b"
   },
   "outputs": [
    {
     "name": "stdout",
     "output_type": "stream",
     "text": [
      "Work_accident\n",
      "promotion_last_5years\n",
      "sales\n",
      "salary\n",
      "satisfaction_level_bin\n",
      "number_project_cat\n",
      "time_spend_company_cat\n"
     ]
    }
   ],
   "source": [
    "X = hr_df.drop(['left'], axis=1)\n",
    "y = hr_df['left']\n",
    "\n",
    "# Define what is a categorical feature (the type of the feature is equal to object)\n",
    "categorical = hr_df.columns[hr_df.dtypes == 'category'].tolist()\n",
    "categorical.remove('left')\n",
    "numerical = hr_df.columns[hr_df.dtypes != 'category'].tolist()\n",
    "\n",
    "print('\\n'.join(categorical))"
   ]
  },
  {
   "cell_type": "markdown",
   "metadata": {
    "slideshow": {
     "slide_type": "slide"
    }
   },
   "source": [
    "Why `MinMaxSxcaler` over the numerical values? Well, most of the features are categoricals encoded as `0` or `1`, \n",
    "so seem reasonable to use `MinMaxScaler` to have all values in that range. \n",
    "\n",
    "An alternative could be to use `StandardScaler` over numerical and use a different encoder (`TargetEncoder`)."
   ]
  },
  {
   "cell_type": "code",
   "execution_count": 18,
   "metadata": {
    "id": "U5d_NAOhR2Mu",
    "outputId": "f0e4c619-4b7a-4f78-e4b4-0760e1a62a1b",
    "slideshow": {
     "slide_type": "-"
    }
   },
   "outputs": [],
   "source": [
    "from sklearn.compose import make_column_transformer\n",
    "from sklearn.preprocessing import MinMaxScaler, OneHotEncoder\n",
    "\n",
    "\n",
    "# Create a column transformer to define different transformations for each column\n",
    "column_transformer = make_column_transformer(\n",
    "    (MinMaxScaler(), numerical),\n",
    "    (OneHotEncoder(handle_unknown='ignore'), categorical))"
   ]
  },
  {
   "cell_type": "code",
   "execution_count": 19,
   "metadata": {
    "id": "U5d_NAOhR2Mu",
    "outputId": "f0e4c619-4b7a-4f78-e4b4-0760e1a62a1b",
    "slideshow": {
     "slide_type": "slide"
    }
   },
   "outputs": [
    {
     "data": {
      "text/html": [
       "<div>\n",
       "<style scoped>\n",
       "    .dataframe tbody tr th:only-of-type {\n",
       "        vertical-align: middle;\n",
       "    }\n",
       "\n",
       "    .dataframe tbody tr th {\n",
       "        vertical-align: top;\n",
       "    }\n",
       "\n",
       "    .dataframe thead tr th {\n",
       "        text-align: left;\n",
       "    }\n",
       "</style>\n",
       "<table border=\"1\" class=\"dataframe\">\n",
       "  <thead>\n",
       "    <tr>\n",
       "      <th></th>\n",
       "      <th>satisfaction_level</th>\n",
       "      <th>last_evaluation</th>\n",
       "      <th>number_project</th>\n",
       "      <th>average_montly_hours</th>\n",
       "      <th>time_spend_company</th>\n",
       "      <th>last_evaluation_bin</th>\n",
       "      <th>Work_accident_0</th>\n",
       "      <th>Work_accident_1</th>\n",
       "      <th>promotion_last_5years_0</th>\n",
       "      <th>promotion_last_5years_1</th>\n",
       "      <th>...</th>\n",
       "      <th>satisfaction_level_bin_4</th>\n",
       "      <th>satisfaction_level_bin_5</th>\n",
       "      <th>number_project_cat_High</th>\n",
       "      <th>number_project_cat_Low</th>\n",
       "      <th>number_project_cat_Medium</th>\n",
       "      <th>number_project_cat_Very_High</th>\n",
       "      <th>time_spend_company_cat_High</th>\n",
       "      <th>time_spend_company_cat_Low</th>\n",
       "      <th>time_spend_company_cat_Medium</th>\n",
       "      <th>time_spend_company_cat_Very_High</th>\n",
       "    </tr>\n",
       "  </thead>\n",
       "  <tbody>\n",
       "    <tr>\n",
       "      <th>0</th>\n",
       "      <td>0.318681</td>\n",
       "      <td>0.265625</td>\n",
       "      <td>0.0</td>\n",
       "      <td>0.285047</td>\n",
       "      <td>0.125</td>\n",
       "      <td>0.2</td>\n",
       "      <td>1.0</td>\n",
       "      <td>0.0</td>\n",
       "      <td>1.0</td>\n",
       "      <td>0.0</td>\n",
       "      <td>...</td>\n",
       "      <td>0.0</td>\n",
       "      <td>0.0</td>\n",
       "      <td>0.0</td>\n",
       "      <td>1.0</td>\n",
       "      <td>0.0</td>\n",
       "      <td>0.0</td>\n",
       "      <td>0.0</td>\n",
       "      <td>0.0</td>\n",
       "      <td>1.0</td>\n",
       "      <td>0.0</td>\n",
       "    </tr>\n",
       "    <tr>\n",
       "      <th>1</th>\n",
       "      <td>0.780220</td>\n",
       "      <td>0.781250</td>\n",
       "      <td>0.6</td>\n",
       "      <td>0.775701</td>\n",
       "      <td>0.500</td>\n",
       "      <td>0.8</td>\n",
       "      <td>1.0</td>\n",
       "      <td>0.0</td>\n",
       "      <td>1.0</td>\n",
       "      <td>0.0</td>\n",
       "      <td>...</td>\n",
       "      <td>1.0</td>\n",
       "      <td>0.0</td>\n",
       "      <td>0.0</td>\n",
       "      <td>0.0</td>\n",
       "      <td>1.0</td>\n",
       "      <td>0.0</td>\n",
       "      <td>1.0</td>\n",
       "      <td>0.0</td>\n",
       "      <td>0.0</td>\n",
       "      <td>0.0</td>\n",
       "    </tr>\n",
       "    <tr>\n",
       "      <th>2</th>\n",
       "      <td>0.021978</td>\n",
       "      <td>0.812500</td>\n",
       "      <td>1.0</td>\n",
       "      <td>0.822430</td>\n",
       "      <td>0.250</td>\n",
       "      <td>0.8</td>\n",
       "      <td>1.0</td>\n",
       "      <td>0.0</td>\n",
       "      <td>1.0</td>\n",
       "      <td>0.0</td>\n",
       "      <td>...</td>\n",
       "      <td>0.0</td>\n",
       "      <td>0.0</td>\n",
       "      <td>0.0</td>\n",
       "      <td>0.0</td>\n",
       "      <td>0.0</td>\n",
       "      <td>1.0</td>\n",
       "      <td>0.0</td>\n",
       "      <td>0.0</td>\n",
       "      <td>1.0</td>\n",
       "      <td>0.0</td>\n",
       "    </tr>\n",
       "    <tr>\n",
       "      <th>3</th>\n",
       "      <td>0.692308</td>\n",
       "      <td>0.796875</td>\n",
       "      <td>0.6</td>\n",
       "      <td>0.593458</td>\n",
       "      <td>0.375</td>\n",
       "      <td>0.8</td>\n",
       "      <td>1.0</td>\n",
       "      <td>0.0</td>\n",
       "      <td>1.0</td>\n",
       "      <td>0.0</td>\n",
       "      <td>...</td>\n",
       "      <td>1.0</td>\n",
       "      <td>0.0</td>\n",
       "      <td>0.0</td>\n",
       "      <td>0.0</td>\n",
       "      <td>1.0</td>\n",
       "      <td>0.0</td>\n",
       "      <td>0.0</td>\n",
       "      <td>0.0</td>\n",
       "      <td>1.0</td>\n",
       "      <td>0.0</td>\n",
       "    </tr>\n",
       "    <tr>\n",
       "      <th>4</th>\n",
       "      <td>0.307692</td>\n",
       "      <td>0.250000</td>\n",
       "      <td>0.0</td>\n",
       "      <td>0.294393</td>\n",
       "      <td>0.125</td>\n",
       "      <td>0.2</td>\n",
       "      <td>1.0</td>\n",
       "      <td>0.0</td>\n",
       "      <td>1.0</td>\n",
       "      <td>0.0</td>\n",
       "      <td>...</td>\n",
       "      <td>0.0</td>\n",
       "      <td>0.0</td>\n",
       "      <td>0.0</td>\n",
       "      <td>1.0</td>\n",
       "      <td>0.0</td>\n",
       "      <td>0.0</td>\n",
       "      <td>0.0</td>\n",
       "      <td>0.0</td>\n",
       "      <td>1.0</td>\n",
       "      <td>0.0</td>\n",
       "    </tr>\n",
       "  </tbody>\n",
       "</table>\n",
       "<p>5 rows × 37 columns</p>\n",
       "</div>"
      ],
      "text/plain": [
       "  satisfaction_level last_evaluation number_project average_montly_hours  \\\n",
       "0           0.318681        0.265625            0.0             0.285047   \n",
       "1           0.780220        0.781250            0.6             0.775701   \n",
       "2           0.021978        0.812500            1.0             0.822430   \n",
       "3           0.692308        0.796875            0.6             0.593458   \n",
       "4           0.307692        0.250000            0.0             0.294393   \n",
       "\n",
       "  time_spend_company last_evaluation_bin Work_accident_0 Work_accident_1  \\\n",
       "0              0.125                 0.2             1.0             0.0   \n",
       "1              0.500                 0.8             1.0             0.0   \n",
       "2              0.250                 0.8             1.0             0.0   \n",
       "3              0.375                 0.8             1.0             0.0   \n",
       "4              0.125                 0.2             1.0             0.0   \n",
       "\n",
       "  promotion_last_5years_0 promotion_last_5years_1  ...  \\\n",
       "0                     1.0                     0.0  ...   \n",
       "1                     1.0                     0.0  ...   \n",
       "2                     1.0                     0.0  ...   \n",
       "3                     1.0                     0.0  ...   \n",
       "4                     1.0                     0.0  ...   \n",
       "\n",
       "  satisfaction_level_bin_4 satisfaction_level_bin_5 number_project_cat_High  \\\n",
       "0                      0.0                      0.0                     0.0   \n",
       "1                      1.0                      0.0                     0.0   \n",
       "2                      0.0                      0.0                     0.0   \n",
       "3                      1.0                      0.0                     0.0   \n",
       "4                      0.0                      0.0                     0.0   \n",
       "\n",
       "  number_project_cat_Low number_project_cat_Medium  \\\n",
       "0                    1.0                       0.0   \n",
       "1                    0.0                       1.0   \n",
       "2                    0.0                       0.0   \n",
       "3                    0.0                       1.0   \n",
       "4                    1.0                       0.0   \n",
       "\n",
       "  number_project_cat_Very_High time_spend_company_cat_High  \\\n",
       "0                          0.0                         0.0   \n",
       "1                          0.0                         1.0   \n",
       "2                          1.0                         0.0   \n",
       "3                          0.0                         0.0   \n",
       "4                          0.0                         0.0   \n",
       "\n",
       "  time_spend_company_cat_Low time_spend_company_cat_Medium  \\\n",
       "0                        0.0                           1.0   \n",
       "1                        0.0                           0.0   \n",
       "2                        0.0                           1.0   \n",
       "3                        0.0                           1.0   \n",
       "4                        0.0                           1.0   \n",
       "\n",
       "  time_spend_company_cat_Very_High  \n",
       "0                              0.0  \n",
       "1                              0.0  \n",
       "2                              0.0  \n",
       "3                              0.0  \n",
       "4                              0.0  \n",
       "\n",
       "[5 rows x 37 columns]"
      ]
     },
     "execution_count": 19,
     "metadata": {},
     "output_type": "execute_result"
    }
   ],
   "source": [
    "dummified_hr_df = pd.DataFrame(\n",
    "    # use the column transformer to perform the encoding\n",
    "    column_transformer.fit_transform(X),\n",
    "    # new feature names = numerical feature names + one-hot encoded feature names\n",
    "    columns=[numerical + column_transformer.named_transformers_[\n",
    "        'onehotencoder'].get_feature_names(categorical).tolist()]\n",
    ")\n",
    "\n",
    "dummified_hr_df.head(5)"
   ]
  },
  {
   "cell_type": "markdown",
   "metadata": {
    "id": "bmP5MXilU3KQ",
    "slideshow": {
     "slide_type": "slide"
    }
   },
   "source": [
    "# Feature Engineering\n",
    "\n",
    "We first fit a linear model to the initial dataset to have a baseline to evaluate the data cleaning and feature engineering impact.\n",
    "\n",
    "To facilitate the training process, we will use the `sklearn` library <https://scikit-learn.org/stable/index.html> that provides a wrapper for the preprocessing, training, and evaluation of many machine learning algorithms. "
   ]
  },
  {
   "cell_type": "markdown",
   "metadata": {
    "slideshow": {
     "slide_type": "slide"
    }
   },
   "source": [
    "### Baseline"
   ]
  },
  {
   "cell_type": "code",
   "execution_count": 20,
   "metadata": {
    "id": "xUWd-4G6U3KQ",
    "outputId": "0c1424ac-e2b6-49b0-b7c2-f8e49007f95c",
    "slideshow": {
     "slide_type": "-"
    }
   },
   "outputs": [
    {
     "name": "stdout",
     "output_type": "stream",
     "text": [
      "\n",
      "Accuracy: 0.8937\n"
     ]
    }
   ],
   "source": [
    "from sklearn import linear_model\n",
    "from sklearn.model_selection import cross_val_predict\n",
    "from sklearn.metrics import confusion_matrix, accuracy_score\n",
    "\n",
    "initial_lm_mod = linear_model.LogisticRegression(max_iter=100, penalty='none')\n",
    "\n",
    "y_pred = cross_val_predict(initial_lm_mod, dummified_hr_df, y, cv=5)\n",
    "accuracy = accuracy_score(y, y_pred)\n",
    "\n",
    "print(f\"\\nAccuracy: {accuracy:.4f}\")"
   ]
  },
  {
   "cell_type": "markdown",
   "metadata": {
    "id": "l-bIWNI1U3KR",
    "slideshow": {
     "slide_type": "slide"
    }
   },
   "source": [
    "Sklearn does not provide a handy way to plot the feature importance of the LogisticRegression models. We can work it out by extracting the values of the logreg coefficients. (Code taken from: https://stackoverflow.com/a/47191103)"
   ]
  },
  {
   "cell_type": "code",
   "execution_count": 21,
   "metadata": {
    "code_folding": [],
    "id": "GZSv3-gmU3KR"
   },
   "outputs": [],
   "source": [
    "def get_feature_importance(clf, feature_names):\n",
    "    \"\"\"\n",
    "    Function to print the most important features of a logreg classifier based on the coefficient values\n",
    "    \"\"\"\n",
    "    return pd.DataFrame({'variable': feature_names, # Feature names\n",
    "                         'coefficient': clf.coef_[0] # Feature Coeficients\n",
    "                    }) \\\n",
    "    .round(decimals=2) \\\n",
    "    .sort_values('coefficient', ascending=False) \\\n",
    "    .style.bar(color=['red', 'green'], align='zero')"
   ]
  },
  {
   "cell_type": "code",
   "execution_count": 22,
   "metadata": {
    "id": "8CFpo2UtU3KR",
    "outputId": "c83d7a72-6a9d-49db-9e06-5f97e643c351",
    "slideshow": {
     "slide_type": "slide"
    }
   },
   "outputs": [
    {
     "data": {
      "text/html": [
       "<style type=\"text/css\">\n",
       "#T_6f613_row0_col1 {\n",
       "  width: 10em;\n",
       "  background: linear-gradient(90deg, transparent 50.0%, green 50.0%, green 98.8%, transparent 98.8%);\n",
       "}\n",
       "#T_6f613_row1_col1 {\n",
       "  width: 10em;\n",
       "  background: linear-gradient(90deg, transparent 50.0%, green 50.0%, green 96.5%, transparent 96.5%);\n",
       "}\n",
       "#T_6f613_row2_col1 {\n",
       "  width: 10em;\n",
       "  background: linear-gradient(90deg, transparent 50.0%, green 50.0%, green 73.6%, transparent 73.6%);\n",
       "}\n",
       "#T_6f613_row3_col1 {\n",
       "  width: 10em;\n",
       "  background: linear-gradient(90deg, transparent 50.0%, green 50.0%, green 71.9%, transparent 71.9%);\n",
       "}\n",
       "#T_6f613_row4_col1 {\n",
       "  width: 10em;\n",
       "  background: linear-gradient(90deg, transparent 50.0%, green 50.0%, green 66.9%, transparent 66.9%);\n",
       "}\n",
       "#T_6f613_row5_col1 {\n",
       "  width: 10em;\n",
       "  background: linear-gradient(90deg, transparent 50.0%, green 50.0%, green 66.2%, transparent 66.2%);\n",
       "}\n",
       "#T_6f613_row6_col1 {\n",
       "  width: 10em;\n",
       "  background: linear-gradient(90deg, transparent 50.0%, green 50.0%, green 60.8%, transparent 60.8%);\n",
       "}\n",
       "#T_6f613_row7_col1 {\n",
       "  width: 10em;\n",
       "  background: linear-gradient(90deg, transparent 50.0%, green 50.0%, green 58.9%, transparent 58.9%);\n",
       "}\n",
       "#T_6f613_row8_col1 {\n",
       "  width: 10em;\n",
       "  background: linear-gradient(90deg, transparent 50.0%, green 50.0%, green 58.8%, transparent 58.8%);\n",
       "}\n",
       "#T_6f613_row9_col1 {\n",
       "  width: 10em;\n",
       "  background: linear-gradient(90deg, transparent 50.0%, green 50.0%, green 57.5%, transparent 57.5%);\n",
       "}\n",
       "#T_6f613_row10_col1 {\n",
       "  width: 10em;\n",
       "  background: linear-gradient(90deg, transparent 50.0%, green 50.0%, green 52.8%, transparent 52.8%);\n",
       "}\n",
       "#T_6f613_row11_col1 {\n",
       "  width: 10em;\n",
       "  background: linear-gradient(90deg, transparent 50.0%, green 50.0%, green 52.3%, transparent 52.3%);\n",
       "}\n",
       "#T_6f613_row12_col1 {\n",
       "  width: 10em;\n",
       "  background: linear-gradient(90deg, transparent 50.0%, green 50.0%, green 52.1%, transparent 52.1%);\n",
       "}\n",
       "#T_6f613_row13_col1 {\n",
       "  width: 10em;\n",
       "  background: linear-gradient(90deg, transparent 50.0%, green 50.0%, green 51.1%, transparent 51.1%);\n",
       "}\n",
       "#T_6f613_row14_col1 {\n",
       "  width: 10em;\n",
       "  background: linear-gradient(90deg, transparent 50.0%, green 50.0%, green 50.9%, transparent 50.9%);\n",
       "}\n",
       "#T_6f613_row15_col1, #T_6f613_row16_col1 {\n",
       "  width: 10em;\n",
       "  background: linear-gradient(90deg, transparent 50.0%, green 50.0%, green 50.5%, transparent 50.5%);\n",
       "}\n",
       "#T_6f613_row17_col1 {\n",
       "  width: 10em;\n",
       "  background: linear-gradient(90deg, transparent 50.0%, green 50.0%, green 50.4%, transparent 50.4%);\n",
       "}\n",
       "#T_6f613_row18_col1, #T_6f613_row19_col1 {\n",
       "  width: 10em;\n",
       "  background: linear-gradient(90deg, transparent 50.0%, green 50.0%, green 50.1%, transparent 50.1%);\n",
       "}\n",
       "#T_6f613_row20_col1, #T_6f613_row21_col1 {\n",
       "  width: 10em;\n",
       "  background: linear-gradient(90deg, transparent 49.2%, red 49.2%, red 50.0%, transparent 50.0%);\n",
       "}\n",
       "#T_6f613_row22_col1 {\n",
       "  width: 10em;\n",
       "  background: linear-gradient(90deg, transparent 48.3%, red 48.3%, red 50.0%, transparent 50.0%);\n",
       "}\n",
       "#T_6f613_row23_col1 {\n",
       "  width: 10em;\n",
       "  background: linear-gradient(90deg, transparent 47.8%, red 47.8%, red 50.0%, transparent 50.0%);\n",
       "}\n",
       "#T_6f613_row24_col1 {\n",
       "  width: 10em;\n",
       "  background: linear-gradient(90deg, transparent 45.7%, red 45.7%, red 50.0%, transparent 50.0%);\n",
       "}\n",
       "#T_6f613_row25_col1 {\n",
       "  width: 10em;\n",
       "  background: linear-gradient(90deg, transparent 45.4%, red 45.4%, red 50.0%, transparent 50.0%);\n",
       "}\n",
       "#T_6f613_row26_col1 {\n",
       "  width: 10em;\n",
       "  background: linear-gradient(90deg, transparent 44.6%, red 44.6%, red 50.0%, transparent 50.0%);\n",
       "}\n",
       "#T_6f613_row27_col1 {\n",
       "  width: 10em;\n",
       "  background: linear-gradient(90deg, transparent 44.5%, red 44.5%, red 50.0%, transparent 50.0%);\n",
       "}\n",
       "#T_6f613_row28_col1 {\n",
       "  width: 10em;\n",
       "  background: linear-gradient(90deg, transparent 44.4%, red 44.4%, red 50.0%, transparent 50.0%);\n",
       "}\n",
       "#T_6f613_row29_col1 {\n",
       "  width: 10em;\n",
       "  background: linear-gradient(90deg, transparent 38.8%, red 38.8%, red 50.0%, transparent 50.0%);\n",
       "}\n",
       "#T_6f613_row30_col1 {\n",
       "  width: 10em;\n",
       "  background: linear-gradient(90deg, transparent 36.4%, red 36.4%, red 50.0%, transparent 50.0%);\n",
       "}\n",
       "#T_6f613_row31_col1 {\n",
       "  width: 10em;\n",
       "  background: linear-gradient(90deg, transparent 31.6%, red 31.6%, red 50.0%, transparent 50.0%);\n",
       "}\n",
       "#T_6f613_row32_col1 {\n",
       "  width: 10em;\n",
       "  background: linear-gradient(90deg, transparent 28.5%, red 28.5%, red 50.0%, transparent 50.0%);\n",
       "}\n",
       "#T_6f613_row33_col1 {\n",
       "  width: 10em;\n",
       "  background: linear-gradient(90deg, transparent 23.0%, red 23.0%, red 50.0%, transparent 50.0%);\n",
       "}\n",
       "#T_6f613_row34_col1 {\n",
       "  width: 10em;\n",
       "  background: linear-gradient(90deg, transparent 18.0%, red 18.0%, red 50.0%, transparent 50.0%);\n",
       "}\n",
       "#T_6f613_row35_col1 {\n",
       "  width: 10em;\n",
       "  background: linear-gradient(90deg, transparent 8.1%, red 8.1%, red 50.0%, transparent 50.0%);\n",
       "}\n",
       "#T_6f613_row36_col1 {\n",
       "  width: 10em;\n",
       "  background: linear-gradient(90deg, red 50.0%, transparent 50.0%);\n",
       "}\n",
       "</style>\n",
       "<table id=\"T_6f613\">\n",
       "  <thead>\n",
       "    <tr>\n",
       "      <th class=\"blank level0\" >&nbsp;</th>\n",
       "      <th id=\"T_6f613_level0_col0\" class=\"col_heading level0 col0\" >variable</th>\n",
       "      <th id=\"T_6f613_level0_col1\" class=\"col_heading level0 col1\" >coefficient</th>\n",
       "    </tr>\n",
       "  </thead>\n",
       "  <tbody>\n",
       "    <tr>\n",
       "      <th id=\"T_6f613_level0_row0\" class=\"row_heading level0 row0\" >32</th>\n",
       "      <td id=\"T_6f613_row0_col0\" class=\"data row0 col0\" >number_project_cat_Very_High</td>\n",
       "      <td id=\"T_6f613_row0_col1\" class=\"data row0 col1\" >10.660000</td>\n",
       "    </tr>\n",
       "    <tr>\n",
       "      <th id=\"T_6f613_level0_row1\" class=\"row_heading level0 row1\" >4</th>\n",
       "      <td id=\"T_6f613_row1_col0\" class=\"data row1 col0\" >time_spend_company</td>\n",
       "      <td id=\"T_6f613_row1_col1\" class=\"data row1 col1\" >10.170000</td>\n",
       "    </tr>\n",
       "    <tr>\n",
       "      <th id=\"T_6f613_level0_row2\" class=\"row_heading level0 row2\" >1</th>\n",
       "      <td id=\"T_6f613_row2_col0\" class=\"data row2 col0\" >last_evaluation</td>\n",
       "      <td id=\"T_6f613_row2_col1\" class=\"data row2 col1\" >5.160000</td>\n",
       "    </tr>\n",
       "    <tr>\n",
       "      <th id=\"T_6f613_level0_row3\" class=\"row_heading level0 row3\" >35</th>\n",
       "      <td id=\"T_6f613_row3_col0\" class=\"data row3 col0\" >time_spend_company_cat_Medium</td>\n",
       "      <td id=\"T_6f613_row3_col1\" class=\"data row3 col1\" >4.790000</td>\n",
       "    </tr>\n",
       "    <tr>\n",
       "      <th id=\"T_6f613_level0_row4\" class=\"row_heading level0 row4\" >34</th>\n",
       "      <td id=\"T_6f613_row4_col0\" class=\"data row4 col0\" >time_spend_company_cat_Low</td>\n",
       "      <td id=\"T_6f613_row4_col1\" class=\"data row4 col1\" >3.690000</td>\n",
       "    </tr>\n",
       "    <tr>\n",
       "      <th id=\"T_6f613_level0_row5\" class=\"row_heading level0 row5\" >28</th>\n",
       "      <td id=\"T_6f613_row5_col0\" class=\"data row5 col0\" >satisfaction_level_bin_5</td>\n",
       "      <td id=\"T_6f613_row5_col1\" class=\"data row5 col1\" >3.550000</td>\n",
       "    </tr>\n",
       "    <tr>\n",
       "      <th id=\"T_6f613_level0_row6\" class=\"row_heading level0 row6\" >27</th>\n",
       "      <td id=\"T_6f613_row6_col0\" class=\"data row6 col0\" >satisfaction_level_bin_4</td>\n",
       "      <td id=\"T_6f613_row6_col1\" class=\"data row6 col1\" >2.360000</td>\n",
       "    </tr>\n",
       "    <tr>\n",
       "      <th id=\"T_6f613_level0_row7\" class=\"row_heading level0 row7\" >33</th>\n",
       "      <td id=\"T_6f613_row7_col0\" class=\"data row7 col0\" >time_spend_company_cat_High</td>\n",
       "      <td id=\"T_6f613_row7_col1\" class=\"data row7 col1\" >1.950000</td>\n",
       "    </tr>\n",
       "    <tr>\n",
       "      <th id=\"T_6f613_level0_row8\" class=\"row_heading level0 row8\" >25</th>\n",
       "      <td id=\"T_6f613_row8_col0\" class=\"data row8 col0\" >satisfaction_level_bin_2</td>\n",
       "      <td id=\"T_6f613_row8_col1\" class=\"data row8 col1\" >1.920000</td>\n",
       "    </tr>\n",
       "    <tr>\n",
       "      <th id=\"T_6f613_level0_row9\" class=\"row_heading level0 row9\" >3</th>\n",
       "      <td id=\"T_6f613_row9_col0\" class=\"data row9 col0\" >average_montly_hours</td>\n",
       "      <td id=\"T_6f613_row9_col1\" class=\"data row9 col1\" >1.650000</td>\n",
       "    </tr>\n",
       "    <tr>\n",
       "      <th id=\"T_6f613_level0_row10\" class=\"row_heading level0 row10\" >21</th>\n",
       "      <td id=\"T_6f613_row10_col0\" class=\"data row10 col0\" >salary_low</td>\n",
       "      <td id=\"T_6f613_row10_col1\" class=\"data row10 col1\" >0.610000</td>\n",
       "    </tr>\n",
       "    <tr>\n",
       "      <th id=\"T_6f613_level0_row11\" class=\"row_heading level0 row11\" >8</th>\n",
       "      <td id=\"T_6f613_row11_col0\" class=\"data row11 col0\" >promotion_last_5years_0</td>\n",
       "      <td id=\"T_6f613_row11_col1\" class=\"data row11 col1\" >0.500000</td>\n",
       "    </tr>\n",
       "    <tr>\n",
       "      <th id=\"T_6f613_level0_row12\" class=\"row_heading level0 row12\" >6</th>\n",
       "      <td id=\"T_6f613_row12_col0\" class=\"data row12 col0\" >Work_accident_0</td>\n",
       "      <td id=\"T_6f613_row12_col1\" class=\"data row12 col1\" >0.460000</td>\n",
       "    </tr>\n",
       "    <tr>\n",
       "      <th id=\"T_6f613_level0_row13\" class=\"row_heading level0 row13\" >13</th>\n",
       "      <td id=\"T_6f613_row13_col0\" class=\"data row13 col0\" >sales_hr</td>\n",
       "      <td id=\"T_6f613_row13_col1\" class=\"data row13 col1\" >0.250000</td>\n",
       "    </tr>\n",
       "    <tr>\n",
       "      <th id=\"T_6f613_level0_row14\" class=\"row_heading level0 row14\" >18</th>\n",
       "      <td id=\"T_6f613_row14_col0\" class=\"data row14 col0\" >sales_support</td>\n",
       "      <td id=\"T_6f613_row14_col1\" class=\"data row14 col1\" >0.200000</td>\n",
       "    </tr>\n",
       "    <tr>\n",
       "      <th id=\"T_6f613_level0_row15\" class=\"row_heading level0 row15\" >15</th>\n",
       "      <td id=\"T_6f613_row15_col0\" class=\"data row15 col0\" >sales_marketing</td>\n",
       "      <td id=\"T_6f613_row15_col1\" class=\"data row15 col1\" >0.100000</td>\n",
       "    </tr>\n",
       "    <tr>\n",
       "      <th id=\"T_6f613_level0_row16\" class=\"row_heading level0 row16\" >19</th>\n",
       "      <td id=\"T_6f613_row16_col0\" class=\"data row16 col0\" >sales_technical</td>\n",
       "      <td id=\"T_6f613_row16_col1\" class=\"data row16 col1\" >0.100000</td>\n",
       "    </tr>\n",
       "    <tr>\n",
       "      <th id=\"T_6f613_level0_row17\" class=\"row_heading level0 row17\" >22</th>\n",
       "      <td id=\"T_6f613_row17_col0\" class=\"data row17 col0\" >salary_medium</td>\n",
       "      <td id=\"T_6f613_row17_col1\" class=\"data row17 col1\" >0.090000</td>\n",
       "    </tr>\n",
       "    <tr>\n",
       "      <th id=\"T_6f613_level0_row18\" class=\"row_heading level0 row18\" >17</th>\n",
       "      <td id=\"T_6f613_row18_col0\" class=\"data row18 col0\" >sales_sales</td>\n",
       "      <td id=\"T_6f613_row18_col1\" class=\"data row18 col1\" >0.020000</td>\n",
       "    </tr>\n",
       "    <tr>\n",
       "      <th id=\"T_6f613_level0_row19\" class=\"row_heading level0 row19\" >12</th>\n",
       "      <td id=\"T_6f613_row19_col0\" class=\"data row19 col0\" >sales_accounting</td>\n",
       "      <td id=\"T_6f613_row19_col1\" class=\"data row19 col1\" >0.020000</td>\n",
       "    </tr>\n",
       "    <tr>\n",
       "      <th id=\"T_6f613_level0_row20\" class=\"row_heading level0 row20\" >16</th>\n",
       "      <td id=\"T_6f613_row20_col0\" class=\"data row20 col0\" >sales_product_mng</td>\n",
       "      <td id=\"T_6f613_row20_col1\" class=\"data row20 col1\" >-0.170000</td>\n",
       "    </tr>\n",
       "    <tr>\n",
       "      <th id=\"T_6f613_level0_row21\" class=\"row_heading level0 row21\" >10</th>\n",
       "      <td id=\"T_6f613_row21_col0\" class=\"data row21 col0\" >sales_IT</td>\n",
       "      <td id=\"T_6f613_row21_col1\" class=\"data row21 col1\" >-0.180000</td>\n",
       "    </tr>\n",
       "    <tr>\n",
       "      <th id=\"T_6f613_level0_row22\" class=\"row_heading level0 row22\" >14</th>\n",
       "      <td id=\"T_6f613_row22_col0\" class=\"data row22 col0\" >sales_management</td>\n",
       "      <td id=\"T_6f613_row22_col1\" class=\"data row22 col1\" >-0.370000</td>\n",
       "    </tr>\n",
       "    <tr>\n",
       "      <th id=\"T_6f613_level0_row23\" class=\"row_heading level0 row23\" >11</th>\n",
       "      <td id=\"T_6f613_row23_col0\" class=\"data row23 col0\" >sales_RandD</td>\n",
       "      <td id=\"T_6f613_row23_col1\" class=\"data row23 col1\" >-0.470000</td>\n",
       "    </tr>\n",
       "    <tr>\n",
       "      <th id=\"T_6f613_level0_row24\" class=\"row_heading level0 row24\" >7</th>\n",
       "      <td id=\"T_6f613_row24_col0\" class=\"data row24 col0\" >Work_accident_1</td>\n",
       "      <td id=\"T_6f613_row24_col1\" class=\"data row24 col1\" >-0.950000</td>\n",
       "    </tr>\n",
       "    <tr>\n",
       "      <th id=\"T_6f613_level0_row25\" class=\"row_heading level0 row25\" >9</th>\n",
       "      <td id=\"T_6f613_row25_col0\" class=\"data row25 col0\" >promotion_last_5years_1</td>\n",
       "      <td id=\"T_6f613_row25_col1\" class=\"data row25 col1\" >-1.000000</td>\n",
       "    </tr>\n",
       "    <tr>\n",
       "      <th id=\"T_6f613_level0_row26\" class=\"row_heading level0 row26\" >26</th>\n",
       "      <td id=\"T_6f613_row26_col0\" class=\"data row26 col0\" >satisfaction_level_bin_3</td>\n",
       "      <td id=\"T_6f613_row26_col1\" class=\"data row26 col1\" >-1.180000</td>\n",
       "    </tr>\n",
       "    <tr>\n",
       "      <th id=\"T_6f613_level0_row27\" class=\"row_heading level0 row27\" >20</th>\n",
       "      <td id=\"T_6f613_row27_col0\" class=\"data row27 col0\" >salary_high</td>\n",
       "      <td id=\"T_6f613_row27_col1\" class=\"data row27 col1\" >-1.200000</td>\n",
       "    </tr>\n",
       "    <tr>\n",
       "      <th id=\"T_6f613_level0_row28\" class=\"row_heading level0 row28\" >29</th>\n",
       "      <td id=\"T_6f613_row28_col0\" class=\"data row28 col0\" >number_project_cat_High</td>\n",
       "      <td id=\"T_6f613_row28_col1\" class=\"data row28 col1\" >-1.220000</td>\n",
       "    </tr>\n",
       "    <tr>\n",
       "      <th id=\"T_6f613_level0_row29\" class=\"row_heading level0 row29\" >23</th>\n",
       "      <td id=\"T_6f613_row29_col0\" class=\"data row29 col0\" >satisfaction_level_bin_0</td>\n",
       "      <td id=\"T_6f613_row29_col1\" class=\"data row29 col1\" >-2.450000</td>\n",
       "    </tr>\n",
       "    <tr>\n",
       "      <th id=\"T_6f613_level0_row30\" class=\"row_heading level0 row30\" >5</th>\n",
       "      <td id=\"T_6f613_row30_col0\" class=\"data row30 col0\" >last_evaluation_bin</td>\n",
       "      <td id=\"T_6f613_row30_col1\" class=\"data row30 col1\" >-2.970000</td>\n",
       "    </tr>\n",
       "    <tr>\n",
       "      <th id=\"T_6f613_level0_row31\" class=\"row_heading level0 row31\" >31</th>\n",
       "      <td id=\"T_6f613_row31_col0\" class=\"data row31 col0\" >number_project_cat_Medium</td>\n",
       "      <td id=\"T_6f613_row31_col1\" class=\"data row31 col1\" >-4.030000</td>\n",
       "    </tr>\n",
       "    <tr>\n",
       "      <th id=\"T_6f613_level0_row32\" class=\"row_heading level0 row32\" >24</th>\n",
       "      <td id=\"T_6f613_row32_col0\" class=\"data row32 col0\" >satisfaction_level_bin_1</td>\n",
       "      <td id=\"T_6f613_row32_col1\" class=\"data row32 col1\" >-4.690000</td>\n",
       "    </tr>\n",
       "    <tr>\n",
       "      <th id=\"T_6f613_level0_row33\" class=\"row_heading level0 row33\" >30</th>\n",
       "      <td id=\"T_6f613_row33_col0\" class=\"data row33 col0\" >number_project_cat_Low</td>\n",
       "      <td id=\"T_6f613_row33_col1\" class=\"data row33 col1\" >-5.900000</td>\n",
       "    </tr>\n",
       "    <tr>\n",
       "      <th id=\"T_6f613_level0_row34\" class=\"row_heading level0 row34\" >2</th>\n",
       "      <td id=\"T_6f613_row34_col0\" class=\"data row34 col0\" >number_project</td>\n",
       "      <td id=\"T_6f613_row34_col1\" class=\"data row34 col1\" >-6.990000</td>\n",
       "    </tr>\n",
       "    <tr>\n",
       "      <th id=\"T_6f613_level0_row35\" class=\"row_heading level0 row35\" >0</th>\n",
       "      <td id=\"T_6f613_row35_col0\" class=\"data row35 col0\" >satisfaction_level</td>\n",
       "      <td id=\"T_6f613_row35_col1\" class=\"data row35 col1\" >-9.160000</td>\n",
       "    </tr>\n",
       "    <tr>\n",
       "      <th id=\"T_6f613_level0_row36\" class=\"row_heading level0 row36\" >36</th>\n",
       "      <td id=\"T_6f613_row36_col0\" class=\"data row36 col0\" >time_spend_company_cat_Very_High</td>\n",
       "      <td id=\"T_6f613_row36_col1\" class=\"data row36 col1\" >-10.930000</td>\n",
       "    </tr>\n",
       "  </tbody>\n",
       "</table>\n"
      ],
      "text/plain": [
       "<pandas.io.formats.style.Styler at 0x12d858d30>"
      ]
     },
     "execution_count": 22,
     "metadata": {},
     "output_type": "execute_result"
    }
   ],
   "source": [
    "feature_names = dummified_hr_df.columns.get_level_values(0).tolist()\n",
    "get_feature_importance(initial_lm_mod.fit(dummified_hr_df, y), feature_names)"
   ]
  },
  {
   "cell_type": "markdown",
   "metadata": {
    "id": "poAP1VELU3KT",
    "slideshow": {
     "slide_type": "slide"
    }
   },
   "source": [
    "The analysis of the confusion matrix points out some interesting aspects:\n",
    "\n",
    "- We have a decent accuracy value, which seems a good result to be reported to the HR department.\n",
    "- We are better at predicting the negative class (a employee is NOT going to leave the company) \n",
    "  than the positive class (an employee will leave the company)."
   ]
  },
  {
   "cell_type": "code",
   "execution_count": 23,
   "metadata": {
    "slideshow": {
     "slide_type": "-"
    }
   },
   "outputs": [
    {
     "name": "stdout",
     "output_type": "stream",
     "text": [
      "        pred:0  pred:1\n",
      "true:0   10653     775\n",
      "true:1     819    2752\n"
     ]
    }
   ],
   "source": [
    "conf_mat = confusion_matrix(y, y_pred, labels=[0, 1])\n",
    "\n",
    "cmtx = pd.DataFrame(\n",
    "    conf_mat,\n",
    "    index=['true:0', 'true:1'],\n",
    "    columns=['pred:0', 'pred:1']\n",
    ")\n",
    "print(cmtx)"
   ]
  },
  {
   "cell_type": "markdown",
   "metadata": {
    "id": "ErzGlaQKR2Mw",
    "slideshow": {
     "slide_type": "slide"
    }
   },
   "source": [
    "## Feature Generation\n",
    "\n",
    "At this stage, we focus on generating new features to extend the information contained in the dataset. \n",
    "To that end, we have 2 ways:\n",
    "\n",
    "- **Manual Generation:** This is the most interesting method. It focuses on generating new features that encode \n",
    "    aspects that we deem relevant for predicting the target variable. There is no guideline for this step beyond \n",
    "    relying on your domain knowledge (i.e., as discussed in class, it could be your knowledge as an expert on the domain\n",
    "    or the information provided by relevant stakeholders that you include in the process). For this dataset, it could \n",
    "    make sense to: collect personal information about your employees (e.g., do they have children?); gather more \n",
    "    information on the types of projects the employee has participated in, the salary... I leave it up to you to \n",
    "    think about it, and I encourage you to codify them and see if you can improve the performance of your models!\n",
    "- **Automatic Generation:** Beyond the process mentioned above, there are some ways in which you can automatically \n",
    "    generate features. The idea is to create combinations of your features exhaustively. In this way, you can encode \n",
    "    dependencies between them or include non-linear features in the model (i.e., by creating non-linear combinations \n",
    "    of the features)."
   ]
  },
  {
   "cell_type": "markdown",
   "metadata": {
    "id": "ErzGlaQKR2Mw",
    "slideshow": {
     "slide_type": "slide"
    }
   },
   "source": [
    "In the following code, let's focus on automatic generation of features.\n",
    "\n",
    "In particular, I am going to use the \n",
    "[`PolynomialFeatures`](https://scikit-learn.org/stable/modules/generated/sklearn.preprocessing.PolynomialFeatures.html#sklearn.preprocessing.PolynomialFeatures) \n",
    "skearn transformer to generate these non-linear combinations of the features. This transformer generates high-order \n",
    "(e.g., the square of the feature value: $x^2$) and interaction ($feature_1$ multiplied by $feature_2$: $x_1*x_2$) terms. \n",
    "For more details, please refer to the [documentation](https://scikit-learn.org/stable/modules/preprocessing.html#generating-polynomial-features)."
   ]
  },
  {
   "cell_type": "markdown",
   "metadata": {
    "id": "IGcsCitlR2Mx",
    "slideshow": {
     "slide_type": "slide"
    }
   },
   "source": [
    "The following snippet makes use of the `PolynomialFeatures` to generate the combinations of our original features.\n",
    "\n",
    "The most important parameter to define is the `degree` of the combinations. If you pick a `degree=2` you will generate combinations up to the square of the feature values (e.g., $x_1^2$) and the combinations of 2 features (e.g., $x_1 * x_2$). A `degree=3` will generate features such as $x_1^3$ or $x_1*x_2*x_3$"
   ]
  },
  {
   "cell_type": "code",
   "execution_count": 24,
   "metadata": {
    "id": "CfwTu6TJR2Mx",
    "outputId": "b80b4c64-a07a-4521-ee1d-91ff7a0c1370",
    "slideshow": {
     "slide_type": "-"
    }
   },
   "outputs": [
    {
     "data": {
      "text/html": [
       "<div>\n",
       "<style scoped>\n",
       "    .dataframe tbody tr th:only-of-type {\n",
       "        vertical-align: middle;\n",
       "    }\n",
       "\n",
       "    .dataframe tbody tr th {\n",
       "        vertical-align: top;\n",
       "    }\n",
       "\n",
       "    .dataframe thead th {\n",
       "        text-align: right;\n",
       "    }\n",
       "</style>\n",
       "<table border=\"1\" class=\"dataframe\">\n",
       "  <thead>\n",
       "    <tr style=\"text-align: right;\">\n",
       "      <th></th>\n",
       "      <th>0</th>\n",
       "      <th>1</th>\n",
       "      <th>2</th>\n",
       "      <th>3</th>\n",
       "      <th>4</th>\n",
       "      <th>5</th>\n",
       "      <th>6</th>\n",
       "      <th>7</th>\n",
       "      <th>8</th>\n",
       "      <th>9</th>\n",
       "      <th>...</th>\n",
       "      <th>9870</th>\n",
       "      <th>9871</th>\n",
       "      <th>9872</th>\n",
       "      <th>9873</th>\n",
       "      <th>9874</th>\n",
       "      <th>9875</th>\n",
       "      <th>9876</th>\n",
       "      <th>9877</th>\n",
       "      <th>9878</th>\n",
       "      <th>9879</th>\n",
       "    </tr>\n",
       "  </thead>\n",
       "  <tbody>\n",
       "    <tr>\n",
       "      <th>0</th>\n",
       "      <td>1.0</td>\n",
       "      <td>0.318681</td>\n",
       "      <td>0.265625</td>\n",
       "      <td>0.0</td>\n",
       "      <td>0.285047</td>\n",
       "      <td>0.125</td>\n",
       "      <td>0.2</td>\n",
       "      <td>1.0</td>\n",
       "      <td>0.0</td>\n",
       "      <td>1.0</td>\n",
       "      <td>...</td>\n",
       "      <td>0.0</td>\n",
       "      <td>0.0</td>\n",
       "      <td>0.0</td>\n",
       "      <td>0.0</td>\n",
       "      <td>0.0</td>\n",
       "      <td>0.0</td>\n",
       "      <td>1.0</td>\n",
       "      <td>0.0</td>\n",
       "      <td>0.0</td>\n",
       "      <td>0.0</td>\n",
       "    </tr>\n",
       "    <tr>\n",
       "      <th>1</th>\n",
       "      <td>1.0</td>\n",
       "      <td>0.780220</td>\n",
       "      <td>0.781250</td>\n",
       "      <td>0.6</td>\n",
       "      <td>0.775701</td>\n",
       "      <td>0.500</td>\n",
       "      <td>0.8</td>\n",
       "      <td>1.0</td>\n",
       "      <td>0.0</td>\n",
       "      <td>1.0</td>\n",
       "      <td>...</td>\n",
       "      <td>0.0</td>\n",
       "      <td>0.0</td>\n",
       "      <td>0.0</td>\n",
       "      <td>0.0</td>\n",
       "      <td>0.0</td>\n",
       "      <td>0.0</td>\n",
       "      <td>0.0</td>\n",
       "      <td>0.0</td>\n",
       "      <td>0.0</td>\n",
       "      <td>0.0</td>\n",
       "    </tr>\n",
       "    <tr>\n",
       "      <th>2</th>\n",
       "      <td>1.0</td>\n",
       "      <td>0.021978</td>\n",
       "      <td>0.812500</td>\n",
       "      <td>1.0</td>\n",
       "      <td>0.822430</td>\n",
       "      <td>0.250</td>\n",
       "      <td>0.8</td>\n",
       "      <td>1.0</td>\n",
       "      <td>0.0</td>\n",
       "      <td>1.0</td>\n",
       "      <td>...</td>\n",
       "      <td>0.0</td>\n",
       "      <td>0.0</td>\n",
       "      <td>0.0</td>\n",
       "      <td>0.0</td>\n",
       "      <td>0.0</td>\n",
       "      <td>0.0</td>\n",
       "      <td>1.0</td>\n",
       "      <td>0.0</td>\n",
       "      <td>0.0</td>\n",
       "      <td>0.0</td>\n",
       "    </tr>\n",
       "    <tr>\n",
       "      <th>3</th>\n",
       "      <td>1.0</td>\n",
       "      <td>0.692308</td>\n",
       "      <td>0.796875</td>\n",
       "      <td>0.6</td>\n",
       "      <td>0.593458</td>\n",
       "      <td>0.375</td>\n",
       "      <td>0.8</td>\n",
       "      <td>1.0</td>\n",
       "      <td>0.0</td>\n",
       "      <td>1.0</td>\n",
       "      <td>...</td>\n",
       "      <td>0.0</td>\n",
       "      <td>0.0</td>\n",
       "      <td>0.0</td>\n",
       "      <td>0.0</td>\n",
       "      <td>0.0</td>\n",
       "      <td>0.0</td>\n",
       "      <td>1.0</td>\n",
       "      <td>0.0</td>\n",
       "      <td>0.0</td>\n",
       "      <td>0.0</td>\n",
       "    </tr>\n",
       "    <tr>\n",
       "      <th>4</th>\n",
       "      <td>1.0</td>\n",
       "      <td>0.307692</td>\n",
       "      <td>0.250000</td>\n",
       "      <td>0.0</td>\n",
       "      <td>0.294393</td>\n",
       "      <td>0.125</td>\n",
       "      <td>0.2</td>\n",
       "      <td>1.0</td>\n",
       "      <td>0.0</td>\n",
       "      <td>1.0</td>\n",
       "      <td>...</td>\n",
       "      <td>0.0</td>\n",
       "      <td>0.0</td>\n",
       "      <td>0.0</td>\n",
       "      <td>0.0</td>\n",
       "      <td>0.0</td>\n",
       "      <td>0.0</td>\n",
       "      <td>1.0</td>\n",
       "      <td>0.0</td>\n",
       "      <td>0.0</td>\n",
       "      <td>0.0</td>\n",
       "    </tr>\n",
       "  </tbody>\n",
       "</table>\n",
       "<p>5 rows × 9880 columns</p>\n",
       "</div>"
      ],
      "text/plain": [
       "   0         1         2     3         4      5     6     7     8     9     \\\n",
       "0   1.0  0.318681  0.265625   0.0  0.285047  0.125   0.2   1.0   0.0   1.0   \n",
       "1   1.0  0.780220  0.781250   0.6  0.775701  0.500   0.8   1.0   0.0   1.0   \n",
       "2   1.0  0.021978  0.812500   1.0  0.822430  0.250   0.8   1.0   0.0   1.0   \n",
       "3   1.0  0.692308  0.796875   0.6  0.593458  0.375   0.8   1.0   0.0   1.0   \n",
       "4   1.0  0.307692  0.250000   0.0  0.294393  0.125   0.2   1.0   0.0   1.0   \n",
       "\n",
       "   ...  9870  9871  9872  9873  9874  9875  9876  9877  9878  9879  \n",
       "0  ...   0.0   0.0   0.0   0.0   0.0   0.0   1.0   0.0   0.0   0.0  \n",
       "1  ...   0.0   0.0   0.0   0.0   0.0   0.0   0.0   0.0   0.0   0.0  \n",
       "2  ...   0.0   0.0   0.0   0.0   0.0   0.0   1.0   0.0   0.0   0.0  \n",
       "3  ...   0.0   0.0   0.0   0.0   0.0   0.0   1.0   0.0   0.0   0.0  \n",
       "4  ...   0.0   0.0   0.0   0.0   0.0   0.0   1.0   0.0   0.0   0.0  \n",
       "\n",
       "[5 rows x 9880 columns]"
      ]
     },
     "execution_count": 24,
     "metadata": {},
     "output_type": "execute_result"
    }
   ],
   "source": [
    "import numpy as np\n",
    "from sklearn.preprocessing import PolynomialFeatures\n",
    "\n",
    "poly = PolynomialFeatures(degree=3)\n",
    "poly_hr_df = pd.DataFrame(poly.fit_transform(dummified_hr_df))\n",
    "poly_hr_df.head()"
   ]
  },
  {
   "cell_type": "markdown",
   "metadata": {
    "id": "XjzjwH8ZR2My",
    "slideshow": {
     "slide_type": "slide"
    }
   },
   "source": [
    "One of the downsides of this approach, as you can see, is the massive number of features it generates. With a `degree=3` around 30-40 original \n",
    "features results in a few thousands!\n",
    "\n",
    "As you increase the `degree` it will result in more features.\n",
    "\n",
    "Let see if, at least, this results in a better performance."
   ]
  },
  {
   "cell_type": "code",
   "execution_count": 26,
   "metadata": {
    "id": "UuKtpmjFR2M0",
    "outputId": "e87164b1-a9d4-453c-e902-8494cbffcc43",
    "slideshow": {
     "slide_type": "-"
    }
   },
   "outputs": [
    {
     "name": "stdout",
     "output_type": "stream",
     "text": [
      "Baseline model with Accuracy = 0.9643\n"
     ]
    }
   ],
   "source": [
    "from sklearn.model_selection import cross_val_score\n",
    "\n",
    "\n",
    "initial_lm_mod = linear_model.LogisticRegression(max_iter=100, penalty='none')\n",
    "\n",
    "print(\"Baseline model with Accuracy = {:.4}\".format(\n",
    "    np.mean(cross_val_score(initial_lm_mod, poly_hr_df, y, cv=5))))"
   ]
  },
  {
   "cell_type": "markdown",
   "metadata": {
    "id": "gJ3OhbLpR2M0",
    "slideshow": {
     "slide_type": "slide"
    }
   },
   "source": [
    "It does! This is somehow expected. By creating non-linear combinations of the features, even simple linear models (such as Logistic Regression) can create non-linear solutions, solving complex problems.\n",
    "\n",
    "Although this approach was a big thing in the early ages of machine learning, it is not so used anymore. There are several reasons for it. The first one is that it increases the complexity of the model by generating many features. On top of that, most of the feature combinations are not relevant, so you will add many irrelevant features to your dataset (the following Feature Selection process can mitigate this problem). Another reason is that nowadays, we have better methods to model these non-linearities. I am thinking specifically of deep learning methods. Deep Neural Nets can find complex non-linear features combinations that are informative for the target variable.\n",
    "\n",
    "For the following process, I will not make use of these polynomial features to avoid overcomplicating the solution. Nevertheless, I do recommend you to experiment with them."
   ]
  },
  {
   "cell_type": "markdown",
   "metadata": {
    "id": "WX15iX3TU3KU",
    "slideshow": {
     "slide_type": "slide"
    }
   },
   "source": [
    "## Filtering Methods\n",
    "\n",
    "\n",
    "We will rank the features according to their predictive power by applying the methodologies seen in class: the Chi Squared Independence test and the Information Gain."
   ]
  },
  {
   "cell_type": "markdown",
   "metadata": {
    "slideshow": {
     "slide_type": "slide"
    }
   },
   "source": [
    "# Spearman correlation based filtering"
   ]
  },
  {
   "cell_type": "code",
   "execution_count": 67,
   "metadata": {
    "scrolled": false
   },
   "outputs": [
    {
     "data": {
      "text/html": [
       "<div>\n",
       "<style scoped>\n",
       "    .dataframe tbody tr th:only-of-type {\n",
       "        vertical-align: middle;\n",
       "    }\n",
       "\n",
       "    .dataframe tbody tr th {\n",
       "        vertical-align: top;\n",
       "    }\n",
       "\n",
       "    .dataframe thead th {\n",
       "        text-align: right;\n",
       "    }\n",
       "</style>\n",
       "<table border=\"1\" class=\"dataframe\">\n",
       "  <thead>\n",
       "    <tr style=\"text-align: right;\">\n",
       "      <th></th>\n",
       "      <th>satisfaction_level</th>\n",
       "      <th>last_evaluation</th>\n",
       "      <th>number_project</th>\n",
       "      <th>average_montly_hours</th>\n",
       "      <th>time_spend_company</th>\n",
       "      <th>last_evaluation_bin</th>\n",
       "      <th>Work_accident</th>\n",
       "      <th>promotion_last_5years</th>\n",
       "      <th>sales</th>\n",
       "      <th>salary</th>\n",
       "      <th>satisfaction_level_bin</th>\n",
       "      <th>number_project_cat</th>\n",
       "      <th>time_spend_company_cat</th>\n",
       "    </tr>\n",
       "  </thead>\n",
       "  <tbody>\n",
       "    <tr>\n",
       "      <th>0</th>\n",
       "      <td>0.318681</td>\n",
       "      <td>0.265625</td>\n",
       "      <td>0.0</td>\n",
       "      <td>0.285047</td>\n",
       "      <td>0.125</td>\n",
       "      <td>0.2</td>\n",
       "      <td>0.26516</td>\n",
       "      <td>0.241962</td>\n",
       "      <td>0.244928</td>\n",
       "      <td>0.296884</td>\n",
       "      <td>0.577770</td>\n",
       "      <td>0.254385</td>\n",
       "      <td>0.315955</td>\n",
       "    </tr>\n",
       "    <tr>\n",
       "      <th>1</th>\n",
       "      <td>0.780220</td>\n",
       "      <td>0.781250</td>\n",
       "      <td>0.6</td>\n",
       "      <td>0.775701</td>\n",
       "      <td>0.500</td>\n",
       "      <td>0.8</td>\n",
       "      <td>0.26516</td>\n",
       "      <td>0.241962</td>\n",
       "      <td>0.244928</td>\n",
       "      <td>0.204313</td>\n",
       "      <td>0.147436</td>\n",
       "      <td>0.143278</td>\n",
       "      <td>0.230684</td>\n",
       "    </tr>\n",
       "    <tr>\n",
       "      <th>2</th>\n",
       "      <td>0.021978</td>\n",
       "      <td>0.812500</td>\n",
       "      <td>1.0</td>\n",
       "      <td>0.822430</td>\n",
       "      <td>0.250</td>\n",
       "      <td>0.8</td>\n",
       "      <td>0.26516</td>\n",
       "      <td>0.241962</td>\n",
       "      <td>0.244928</td>\n",
       "      <td>0.204313</td>\n",
       "      <td>0.757500</td>\n",
       "      <td>1.000000</td>\n",
       "      <td>0.315955</td>\n",
       "    </tr>\n",
       "    <tr>\n",
       "      <th>3</th>\n",
       "      <td>0.692308</td>\n",
       "      <td>0.796875</td>\n",
       "      <td>0.6</td>\n",
       "      <td>0.593458</td>\n",
       "      <td>0.375</td>\n",
       "      <td>0.8</td>\n",
       "      <td>0.26516</td>\n",
       "      <td>0.241962</td>\n",
       "      <td>0.244928</td>\n",
       "      <td>0.296884</td>\n",
       "      <td>0.147436</td>\n",
       "      <td>0.143278</td>\n",
       "      <td>0.315955</td>\n",
       "    </tr>\n",
       "    <tr>\n",
       "      <th>4</th>\n",
       "      <td>0.307692</td>\n",
       "      <td>0.250000</td>\n",
       "      <td>0.0</td>\n",
       "      <td>0.294393</td>\n",
       "      <td>0.125</td>\n",
       "      <td>0.2</td>\n",
       "      <td>0.26516</td>\n",
       "      <td>0.241962</td>\n",
       "      <td>0.244928</td>\n",
       "      <td>0.296884</td>\n",
       "      <td>0.577770</td>\n",
       "      <td>0.254385</td>\n",
       "      <td>0.315955</td>\n",
       "    </tr>\n",
       "  </tbody>\n",
       "</table>\n",
       "</div>"
      ],
      "text/plain": [
       "   satisfaction_level  last_evaluation  number_project  average_montly_hours  \\\n",
       "0            0.318681         0.265625             0.0              0.285047   \n",
       "1            0.780220         0.781250             0.6              0.775701   \n",
       "2            0.021978         0.812500             1.0              0.822430   \n",
       "3            0.692308         0.796875             0.6              0.593458   \n",
       "4            0.307692         0.250000             0.0              0.294393   \n",
       "\n",
       "   time_spend_company  last_evaluation_bin  Work_accident  \\\n",
       "0               0.125                  0.2        0.26516   \n",
       "1               0.500                  0.8        0.26516   \n",
       "2               0.250                  0.8        0.26516   \n",
       "3               0.375                  0.8        0.26516   \n",
       "4               0.125                  0.2        0.26516   \n",
       "\n",
       "   promotion_last_5years     sales    salary  satisfaction_level_bin  \\\n",
       "0               0.241962  0.244928  0.296884                0.577770   \n",
       "1               0.241962  0.244928  0.204313                0.147436   \n",
       "2               0.241962  0.244928  0.204313                0.757500   \n",
       "3               0.241962  0.244928  0.296884                0.147436   \n",
       "4               0.241962  0.244928  0.296884                0.577770   \n",
       "\n",
       "   number_project_cat  time_spend_company_cat  \n",
       "0            0.254385                0.315955  \n",
       "1            0.143278                0.230684  \n",
       "2            1.000000                0.315955  \n",
       "3            0.143278                0.315955  \n",
       "4            0.254385                0.315955  "
      ]
     },
     "execution_count": 67,
     "metadata": {},
     "output_type": "execute_result"
    }
   ],
   "source": [
    "from sklearn.compose import ColumnTransformer\n",
    "from category_encoders import TargetEncoder\n",
    "\n",
    "X = hr_df.drop(['left'], axis=1)\n",
    "y = hr_df['left'].astype('int')\n",
    "\n",
    "# Define what is a categorical feature (the type of the feature is equal to object)\n",
    "categorical_features = hr_df.columns[hr_df.dtypes == 'category'].tolist()\n",
    "categorical_features.remove('left')\n",
    "numerical_features = hr_df.columns[hr_df.dtypes != 'category'].tolist()\n",
    "\n",
    "column_transformer = ColumnTransformer(\n",
    "    [\n",
    "        ('numericals', MinMaxScaler(), numerical_features),\n",
    "        ('categoricals', TargetEncoder(), categorical_features)\n",
    "    ], remainder='passthrough'\n",
    ")\n",
    "\n",
    "target_hr_df = pd.DataFrame(\n",
    "    column_transformer.fit_transform(X, y),\n",
    "    columns=numerical_features + categorical_features\n",
    ")\n",
    "target_hr_df.head()"
   ]
  },
  {
   "cell_type": "markdown",
   "metadata": {
    "slideshow": {
     "slide_type": "slide"
    }
   },
   "source": [
    "Compute the spearman correlation between every feature and the target variable. Put results in `scores`"
   ]
  },
  {
   "cell_type": "code",
   "execution_count": 91,
   "metadata": {
    "slideshow": {
     "slide_type": "-"
    }
   },
   "outputs": [],
   "source": [
    "from scipy.stats import spearmanr\n",
    "\n",
    "scores = []\n",
    "for feature in list(target_hr_df):\n",
    "    corr, _ = spearmanr(target_hr_df[feature], y)\n",
    "    scores.append(np.abs(corr))\n",
    "scores = np.array(scores)"
   ]
  },
  {
   "cell_type": "markdown",
   "metadata": {
    "slideshow": {
     "slide_type": "slide"
    }
   },
   "source": [
    "Sort feature names by score importance"
   ]
  },
  {
   "cell_type": "code",
   "execution_count": 92,
   "metadata": {
    "slideshow": {
     "slide_type": "-"
    }
   },
   "outputs": [],
   "source": [
    "# Sort the features according to the ChiSquared Scores\n",
    "indices = np.argsort(scores)[::-1]\n",
    "\n",
    "# Get the Features Names of the ordered Features\n",
    "spearman_features = []\n",
    "feature_names = target_hr_df.columns.get_level_values(0)\n",
    "for i in range(len(feature_names)):\n",
    "    spearman_features.append(feature_names[indices[i]])"
   ]
  },
  {
   "cell_type": "code",
   "execution_count": 94,
   "metadata": {
    "slideshow": {
     "slide_type": "slide"
    }
   },
   "outputs": [
    {
     "data": {
      "image/png": "[encoded data removed]",
      "text/plain": [
       "<Figure size 576x576 with 1 Axes>"
      ]
     },
     "metadata": {
      "needs_background": "light"
     },
     "output_type": "display_data"
    }
   ],
   "source": [
    "plt.figure(figsize=(8, 8))\n",
    "plt.barh(\n",
    "    spearman_features, \n",
    "    scores[indices[range(len(feature_names))]], \n",
    "    color='r', \n",
    "    align='center')\n",
    "plt.yticks(rotation='horizontal', fontsize=12)\n",
    "plt.gca().invert_yaxis()\n",
    "plt.show();"
   ]
  },
  {
   "cell_type": "code",
   "execution_count": 95,
   "metadata": {
    "slideshow": {
     "slide_type": "slide"
    }
   },
   "outputs": [],
   "source": [
    "accuracy = []\n",
    "for i in range(1, len(spearman_features)):\n",
    "    features = target_hr_df[spearman_features[:i]]\n",
    "    acc_value = np.mean(\n",
    "        cross_val_score(\n",
    "            linear_model.LogisticRegression(\n",
    "                max_iter=100, penalty='none'), \n",
    "            features, y, cv=5))\n",
    "    accuracy.append(acc_value)"
   ]
  },
  {
   "cell_type": "code",
   "execution_count": 102,
   "metadata": {},
   "outputs": [
    {
     "data": {
      "image/png": "[encoded data removed]",
      "text/plain": [
       "<Figure size 720x360 with 1 Axes>"
      ]
     },
     "metadata": {
      "needs_background": "light"
     },
     "output_type": "display_data"
    }
   ],
   "source": [
    "plt.figure(figsize=(10, 5))\n",
    "plt.plot(accuracy, 'o-')\n",
    "plt.ylabel(\"Accuracy\")\n",
    "plt.xlabel(\"Number of Features\");"
   ]
  },
  {
   "cell_type": "markdown",
   "metadata": {},
   "source": [
    "What is the accuracy with the continuous version of the features?"
   ]
  },
  {
   "cell_type": "code",
   "execution_count": 101,
   "metadata": {
    "slideshow": {
     "slide_type": "slide"
    }
   },
   "outputs": [
    {
     "data": {
      "text/plain": [
       "0.8528541291541625"
      ]
     },
     "execution_count": 101,
     "metadata": {},
     "output_type": "execute_result"
    }
   ],
   "source": [
    "target_hr_df_reduced = target_hr_df.drop(\n",
    "    ['sales',\n",
    "     'promotion_last_5years',\n",
    "     'average_montly_hours',\n",
    "     'number_project',\n",
    "     'last_evaluation_bin',\n",
    "     'last_evaluation'], axis=1)\n",
    "accuracy_reduced = np.mean(\n",
    "        cross_val_score(\n",
    "            linear_model.LogisticRegression(\n",
    "                max_iter=100, penalty='none'), \n",
    "            target_hr_df_reduced, y, cv=5))\n",
    "accuracy_reduced"
   ]
  },
  {
   "cell_type": "markdown",
   "metadata": {
    "id": "0XxmL7GhU3KU",
    "slideshow": {
     "slide_type": "slide"
    }
   },
   "source": [
    "### Chi-squared Selection\n",
    "Making use of the [`SelectKBest`](https://scikit-learn.org/stable/modules/generated/sklearn.feature_selection.SelectKBest.html) function rank the features according to the Chi Squared value. \n",
    "\n",
    "Does it make sense to remove some features? If so, do it!\n",
    "\n",
    "We will start by applying the `SelectKBest` method with the `chi2` score function. This method will give a score to each feature according to its importance for predicting the target variable. \n"
   ]
  },
  {
   "cell_type": "code",
   "execution_count": 167,
   "metadata": {},
   "outputs": [
    {
     "data": {
      "text/html": [
       "<div>\n",
       "<style scoped>\n",
       "    .dataframe tbody tr th:only-of-type {\n",
       "        vertical-align: middle;\n",
       "    }\n",
       "\n",
       "    .dataframe tbody tr th {\n",
       "        vertical-align: top;\n",
       "    }\n",
       "\n",
       "    .dataframe thead tr th {\n",
       "        text-align: left;\n",
       "    }\n",
       "</style>\n",
       "<table border=\"1\" class=\"dataframe\">\n",
       "  <thead>\n",
       "    <tr>\n",
       "      <th></th>\n",
       "      <th>satisfaction_level</th>\n",
       "      <th>last_evaluation</th>\n",
       "      <th>number_project</th>\n",
       "      <th>average_montly_hours</th>\n",
       "      <th>time_spend_company</th>\n",
       "      <th>last_evaluation_bin</th>\n",
       "      <th>Work_accident_0</th>\n",
       "      <th>Work_accident_1</th>\n",
       "      <th>promotion_last_5years_0</th>\n",
       "      <th>promotion_last_5years_1</th>\n",
       "      <th>...</th>\n",
       "      <th>satisfaction_level_bin_4</th>\n",
       "      <th>satisfaction_level_bin_5</th>\n",
       "      <th>number_project_cat_High</th>\n",
       "      <th>number_project_cat_Low</th>\n",
       "      <th>number_project_cat_Medium</th>\n",
       "      <th>number_project_cat_Very_High</th>\n",
       "      <th>time_spend_company_cat_High</th>\n",
       "      <th>time_spend_company_cat_Low</th>\n",
       "      <th>time_spend_company_cat_Medium</th>\n",
       "      <th>time_spend_company_cat_Very_High</th>\n",
       "    </tr>\n",
       "  </thead>\n",
       "  <tbody>\n",
       "    <tr>\n",
       "      <th>0</th>\n",
       "      <td>0.318681</td>\n",
       "      <td>0.265625</td>\n",
       "      <td>0.0</td>\n",
       "      <td>0.285047</td>\n",
       "      <td>0.125</td>\n",
       "      <td>0.2</td>\n",
       "      <td>1.0</td>\n",
       "      <td>0.0</td>\n",
       "      <td>1.0</td>\n",
       "      <td>0.0</td>\n",
       "      <td>...</td>\n",
       "      <td>0.0</td>\n",
       "      <td>0.0</td>\n",
       "      <td>0.0</td>\n",
       "      <td>1.0</td>\n",
       "      <td>0.0</td>\n",
       "      <td>0.0</td>\n",
       "      <td>0.0</td>\n",
       "      <td>0.0</td>\n",
       "      <td>1.0</td>\n",
       "      <td>0.0</td>\n",
       "    </tr>\n",
       "    <tr>\n",
       "      <th>1</th>\n",
       "      <td>0.780220</td>\n",
       "      <td>0.781250</td>\n",
       "      <td>0.6</td>\n",
       "      <td>0.775701</td>\n",
       "      <td>0.500</td>\n",
       "      <td>0.8</td>\n",
       "      <td>1.0</td>\n",
       "      <td>0.0</td>\n",
       "      <td>1.0</td>\n",
       "      <td>0.0</td>\n",
       "      <td>...</td>\n",
       "      <td>1.0</td>\n",
       "      <td>0.0</td>\n",
       "      <td>0.0</td>\n",
       "      <td>0.0</td>\n",
       "      <td>1.0</td>\n",
       "      <td>0.0</td>\n",
       "      <td>1.0</td>\n",
       "      <td>0.0</td>\n",
       "      <td>0.0</td>\n",
       "      <td>0.0</td>\n",
       "    </tr>\n",
       "    <tr>\n",
       "      <th>2</th>\n",
       "      <td>0.021978</td>\n",
       "      <td>0.812500</td>\n",
       "      <td>1.0</td>\n",
       "      <td>0.822430</td>\n",
       "      <td>0.250</td>\n",
       "      <td>0.8</td>\n",
       "      <td>1.0</td>\n",
       "      <td>0.0</td>\n",
       "      <td>1.0</td>\n",
       "      <td>0.0</td>\n",
       "      <td>...</td>\n",
       "      <td>0.0</td>\n",
       "      <td>0.0</td>\n",
       "      <td>0.0</td>\n",
       "      <td>0.0</td>\n",
       "      <td>0.0</td>\n",
       "      <td>1.0</td>\n",
       "      <td>0.0</td>\n",
       "      <td>0.0</td>\n",
       "      <td>1.0</td>\n",
       "      <td>0.0</td>\n",
       "    </tr>\n",
       "    <tr>\n",
       "      <th>3</th>\n",
       "      <td>0.692308</td>\n",
       "      <td>0.796875</td>\n",
       "      <td>0.6</td>\n",
       "      <td>0.593458</td>\n",
       "      <td>0.375</td>\n",
       "      <td>0.8</td>\n",
       "      <td>1.0</td>\n",
       "      <td>0.0</td>\n",
       "      <td>1.0</td>\n",
       "      <td>0.0</td>\n",
       "      <td>...</td>\n",
       "      <td>1.0</td>\n",
       "      <td>0.0</td>\n",
       "      <td>0.0</td>\n",
       "      <td>0.0</td>\n",
       "      <td>1.0</td>\n",
       "      <td>0.0</td>\n",
       "      <td>0.0</td>\n",
       "      <td>0.0</td>\n",
       "      <td>1.0</td>\n",
       "      <td>0.0</td>\n",
       "    </tr>\n",
       "    <tr>\n",
       "      <th>4</th>\n",
       "      <td>0.307692</td>\n",
       "      <td>0.250000</td>\n",
       "      <td>0.0</td>\n",
       "      <td>0.294393</td>\n",
       "      <td>0.125</td>\n",
       "      <td>0.2</td>\n",
       "      <td>1.0</td>\n",
       "      <td>0.0</td>\n",
       "      <td>1.0</td>\n",
       "      <td>0.0</td>\n",
       "      <td>...</td>\n",
       "      <td>0.0</td>\n",
       "      <td>0.0</td>\n",
       "      <td>0.0</td>\n",
       "      <td>1.0</td>\n",
       "      <td>0.0</td>\n",
       "      <td>0.0</td>\n",
       "      <td>0.0</td>\n",
       "      <td>0.0</td>\n",
       "      <td>1.0</td>\n",
       "      <td>0.0</td>\n",
       "    </tr>\n",
       "  </tbody>\n",
       "</table>\n",
       "<p>5 rows × 37 columns</p>\n",
       "</div>"
      ],
      "text/plain": [
       "  satisfaction_level last_evaluation number_project average_montly_hours  \\\n",
       "0           0.318681        0.265625            0.0             0.285047   \n",
       "1           0.780220        0.781250            0.6             0.775701   \n",
       "2           0.021978        0.812500            1.0             0.822430   \n",
       "3           0.692308        0.796875            0.6             0.593458   \n",
       "4           0.307692        0.250000            0.0             0.294393   \n",
       "\n",
       "  time_spend_company last_evaluation_bin Work_accident_0 Work_accident_1  \\\n",
       "0              0.125                 0.2             1.0             0.0   \n",
       "1              0.500                 0.8             1.0             0.0   \n",
       "2              0.250                 0.8             1.0             0.0   \n",
       "3              0.375                 0.8             1.0             0.0   \n",
       "4              0.125                 0.2             1.0             0.0   \n",
       "\n",
       "  promotion_last_5years_0 promotion_last_5years_1  ...  \\\n",
       "0                     1.0                     0.0  ...   \n",
       "1                     1.0                     0.0  ...   \n",
       "2                     1.0                     0.0  ...   \n",
       "3                     1.0                     0.0  ...   \n",
       "4                     1.0                     0.0  ...   \n",
       "\n",
       "  satisfaction_level_bin_4 satisfaction_level_bin_5 number_project_cat_High  \\\n",
       "0                      0.0                      0.0                     0.0   \n",
       "1                      1.0                      0.0                     0.0   \n",
       "2                      0.0                      0.0                     0.0   \n",
       "3                      1.0                      0.0                     0.0   \n",
       "4                      0.0                      0.0                     0.0   \n",
       "\n",
       "  number_project_cat_Low number_project_cat_Medium  \\\n",
       "0                    1.0                       0.0   \n",
       "1                    0.0                       1.0   \n",
       "2                    0.0                       0.0   \n",
       "3                    0.0                       1.0   \n",
       "4                    1.0                       0.0   \n",
       "\n",
       "  number_project_cat_Very_High time_spend_company_cat_High  \\\n",
       "0                          0.0                         0.0   \n",
       "1                          0.0                         1.0   \n",
       "2                          1.0                         0.0   \n",
       "3                          0.0                         0.0   \n",
       "4                          0.0                         0.0   \n",
       "\n",
       "  time_spend_company_cat_Low time_spend_company_cat_Medium  \\\n",
       "0                        0.0                           1.0   \n",
       "1                        0.0                           0.0   \n",
       "2                        0.0                           1.0   \n",
       "3                        0.0                           1.0   \n",
       "4                        0.0                           1.0   \n",
       "\n",
       "  time_spend_company_cat_Very_High  \n",
       "0                              0.0  \n",
       "1                              0.0  \n",
       "2                              0.0  \n",
       "3                              0.0  \n",
       "4                              0.0  \n",
       "\n",
       "[5 rows x 37 columns]"
      ]
     },
     "execution_count": 167,
     "metadata": {},
     "output_type": "execute_result"
    }
   ],
   "source": [
    "dummified_hr_df.head()"
   ]
  },
  {
   "cell_type": "code",
   "execution_count": 142,
   "metadata": {
    "id": "dybVJ-bJU3KV"
   },
   "outputs": [],
   "source": [
    "from sklearn.feature_selection import SelectKBest, chi2\n",
    "\n",
    "# Apply ChiSquared to score the features based on the training data.\n",
    "chi2_selector = SelectKBest(score_func=chi2).fit(dummified_hr_df, y)"
   ]
  },
  {
   "cell_type": "markdown",
   "metadata": {
    "id": "f-UzpCmyU3KV",
    "slideshow": {
     "slide_type": "slide"
    }
   },
   "source": [
    "Let's inspect what are the most important features according to ChiSquared. To that end, we need to sort the features according to the score assigned by the `chi2_selector`."
   ]
  },
  {
   "cell_type": "code",
   "execution_count": 162,
   "metadata": {},
   "outputs": [
    {
     "data": {
      "text/plain": [
       "array([2.93927595e+02, 8.31534038e-02, 1.43014399e+00, 8.45660340e+00,\n",
       "       5.59526714e+01, 3.28075727e-02, 5.18561258e+01, 3.06737710e+02,\n",
       "       1.21786867e+00, 5.60448653e+01, 1.64371371e+00, 3.08564507e+01,\n",
       "       3.28865914e+00, 1.13793626e+01, 3.04516067e+01, 1.04417630e-02,\n",
       "       1.71479003e+00, 1.06932924e+00, 1.46206955e+00, 4.94905082e+00,\n",
       "       2.01254596e+02, 1.39446529e+02, 4.05239215e+01, 1.78475606e+03,\n",
       "       1.30711587e+02, 1.73399745e+03, 7.90588219e+02, 1.69591391e+02,\n",
       "       2.59220711e+02, 6.62057524e+02, 9.43925850e+00, 3.53075316e+02,\n",
       "       8.19257351e+02, 2.73367125e-01, 8.79329836e+02, 3.50111948e+02,\n",
       "       1.17491775e+02])"
      ]
     },
     "execution_count": 162,
     "metadata": {},
     "output_type": "execute_result"
    }
   ],
   "source": [
    "chi2_selector.scores_"
   ]
  },
  {
   "cell_type": "markdown",
   "metadata": {
    "slideshow": {
     "slide_type": "slide"
    }
   },
   "source": [
    "We need to sort those scores in descending order, and retrieve to what features do they correspond."
   ]
  },
  {
   "cell_type": "code",
   "execution_count": 164,
   "metadata": {
    "id": "3OBs-ZdKU3KV",
    "outputId": "b529d3bb-f697-4928-d205-bacb3e800018",
    "slideshow": {
     "slide_type": "-"
    }
   },
   "outputs": [],
   "source": [
    "# Sort the features according to the ChiSquared Scores\n",
    "indices = np.argsort(chi2_selector.scores_)[::-1]\n",
    "\n",
    "# Get the Features Names of the ordered Features\n",
    "chi2_features = []\n",
    "feature_names = dummified_hr_df.columns.get_level_values(0)\n",
    "for i in range(len(feature_names)):\n",
    "    chi2_features.append(feature_names[indices[i]])"
   ]
  },
  {
   "cell_type": "code",
   "execution_count": 160,
   "metadata": {
    "id": "3OBs-ZdKU3KV",
    "outputId": "b529d3bb-f697-4928-d205-bacb3e800018",
    "slideshow": {
     "slide_type": "slide"
    }
   },
   "outputs": [
    {
     "data": {
      "image/png": "[encoded data removed]",
      "text/plain": [
       "<Figure size 720x720 with 1 Axes>"
      ]
     },
     "metadata": {
      "needs_background": "light"
     },
     "output_type": "display_data"
    }
   ],
   "source": [
    "# Now plot results\n",
    "plt.figure(figsize=(10, 10))\n",
    "plt.barh(chi2_features, chi2_selector.scores_[indices[range(\n",
    "    len(feature_names))]], color='r', align='center')\n",
    "plt.yticks(rotation='horizontal', fontsize=12)\n",
    "plt.gca().invert_yaxis()\n",
    "plt.show();"
   ]
  },
  {
   "cell_type": "markdown",
   "metadata": {
    "id": "8wVpr_S9U3KW",
    "slideshow": {
     "slide_type": "slide"
    }
   },
   "source": [
    "This figure will allow you to inspect the feature importance according to ChiSquared. \n",
    "\n",
    "With this information, you can now:\n",
    "\n",
    "- Better understand the data and how it relates to the prediction problem.\n",
    "- Validate any assumption you had on the data.\n",
    "- Report this information to the relevant stakeholders.\n",
    "\n",
    "I leave to you the exercise of analyzing the results in more detail. However, at first sight, we can see that aspects such as the time spent in the company and the number of projects in which you participate appear to be strongly relevant for the employee churning. Interestingly, they seem to be more important than the salary."
   ]
  },
  {
   "cell_type": "markdown",
   "metadata": {
    "id": "JV-VYf1WU3KW",
    "slideshow": {
     "slide_type": "slide"
    }
   },
   "source": [
    "As a next exercise, we are going to try to find the optimal number of features. To that end, we will start by creating a model with only the most relevant feature, then another model with the two most relevant features, and so on. This procedure is similar to the stepwise methodologies that we presented in class.\n",
    "\n",
    "(**Note:** This is not the only way of performing the feature selection. For example, you could decide to remove the features with a score equals to 0 (i.e., they are not impacting the values of the target variable). Or perhaps you can share this info with the HR team and decide the features you want to include in the model.)"
   ]
  },
  {
   "cell_type": "code",
   "execution_count": 149,
   "metadata": {
    "id": "okwBR3kuU3KW",
    "scrolled": true
   },
   "outputs": [],
   "source": [
    "accuracy = []\n",
    "for i in range(1, len(chi2_features)):\n",
    "    features = dummified_hr_df[chi2_features[:i]]\n",
    "    acc_value = np.mean(\n",
    "        cross_val_score(\n",
    "            linear_model.LogisticRegression(\n",
    "                max_iter=100, penalty='none'), \n",
    "            features, y, cv=5))\n",
    "    accuracy.append(acc_value)"
   ]
  },
  {
   "cell_type": "markdown",
   "metadata": {
    "id": "8a3_CRRvU3KX"
   },
   "source": [
    "As you can see around 17 features we achieved our optimal model."
   ]
  },
  {
   "cell_type": "code",
   "execution_count": 152,
   "metadata": {
    "id": "XIBUEFdoR2M4",
    "outputId": "9841a26b-cb0d-485c-e38e-0d86406220ff",
    "slideshow": {
     "slide_type": "slide"
    }
   },
   "outputs": [
    {
     "data": {
      "image/png": "[encoded data removed]",
      "text/plain": [
       "<Figure size 720x360 with 1 Axes>"
      ]
     },
     "metadata": {
      "needs_background": "light"
     },
     "output_type": "display_data"
    }
   ],
   "source": [
    "plt.figure(figsize=(10, 5))\n",
    "plt.plot(accuracy, 'o-')\n",
    "plt.ylabel(\"Accuracy\")\n",
    "plt.xlabel(\"Number of Features\")\n",
    "plt.axvline(17, c='grey')"
   ]
  },
  {
   "cell_type": "code",
   "execution_count": null,
   "metadata": {
    "id": "euUd_ISIU3KX",
    "outputId": "cbc243f9-bc04-47a1-80ea-c5bdc5b6f8b9",
    "slideshow": {
     "slide_type": "slide"
    }
   },
   "outputs": [
    {
     "data": {
      "text/plain": [
       "['satisfaction_level_bin_2',\n",
       " 'satisfaction_level_bin_0',\n",
       " 'satisfaction_level_bin_3',\n",
       " 'time_spend_company_cat_Low',\n",
       " 'number_project_cat_Very_High',\n",
       " 'number_project_cat_High',\n",
       " 'satisfaction_level_bin_5',\n",
       " 'number_project_cat_Medium',\n",
       " 'time_spend_company_cat_Medium',\n",
       " 'Work_accident_1',\n",
       " 'satisfaction_level',\n",
       " 'salary_high',\n",
       " 'satisfaction_level_bin_1',\n",
       " 'salary_low',\n",
       " 'time_spend_company_cat_Very_High',\n",
       " 'promotion_last_5years_1',\n",
       " 'time_spend_company']"
      ]
     },
     "execution_count": 116,
     "metadata": {},
     "output_type": "execute_result"
    }
   ],
   "source": [
    "chi2_features[:17]"
   ]
  },
  {
   "cell_type": "markdown",
   "metadata": {
    "id": "nHiSDS-NU3KX",
    "slideshow": {
     "slide_type": "slide"
    }
   },
   "source": [
    "Train a new model using only the selected features and evaluate its performance"
   ]
  },
  {
   "cell_type": "code",
   "execution_count": 165,
   "metadata": {
    "id": "S0QuWWoAU3KX",
    "outputId": "cc374e72-be5c-4b69-8c4f-e51059631d7f"
   },
   "outputs": [
    {
     "name": "stdout",
     "output_type": "stream",
     "text": [
      "Accuracy = 0.8691\n"
     ]
    }
   ],
   "source": [
    "chi2_initial_lm_mod = linear_model.LogisticRegression(\n",
    "    max_iter=100, penalty='none')\n",
    "\n",
    "print(\"Accuracy = {:.4}\".format(np.mean(cross_val_score(\n",
    "    chi2_initial_lm_mod, dummified_hr_df[chi2_features[:17]], y, cv=5))))"
   ]
  },
  {
   "cell_type": "code",
   "execution_count": 166,
   "metadata": {
    "id": "1wKAaxUrU3KY",
    "outputId": "4ae2668b-1c3d-4b1a-ca82-4f1b590a0438",
    "slideshow": {
     "slide_type": "slide"
    }
   },
   "outputs": [
    {
     "data": {
      "text/html": [
       "<style type=\"text/css\">\n",
       "#T_4f831_row0_col1 {\n",
       "  width: 10em;\n",
       "  background: linear-gradient(90deg, transparent 50.0%, green 50.0%, green 100.0%, transparent 100.0%);\n",
       "}\n",
       "#T_4f831_row1_col1 {\n",
       "  width: 10em;\n",
       "  background: linear-gradient(90deg, transparent 50.0%, green 50.0%, green 65.0%, transparent 65.0%);\n",
       "}\n",
       "#T_4f831_row2_col1 {\n",
       "  width: 10em;\n",
       "  background: linear-gradient(90deg, transparent 50.0%, green 50.0%, green 60.3%, transparent 60.3%);\n",
       "}\n",
       "#T_4f831_row3_col1 {\n",
       "  width: 10em;\n",
       "  background: linear-gradient(90deg, transparent 50.0%, green 50.0%, green 57.4%, transparent 57.4%);\n",
       "}\n",
       "#T_4f831_row4_col1 {\n",
       "  width: 10em;\n",
       "  background: linear-gradient(90deg, transparent 50.0%, green 50.0%, green 53.9%, transparent 53.9%);\n",
       "}\n",
       "#T_4f831_row5_col1 {\n",
       "  width: 10em;\n",
       "  background: linear-gradient(90deg, transparent 50.0%, green 50.0%, green 52.2%, transparent 52.2%);\n",
       "}\n",
       "#T_4f831_row6_col1 {\n",
       "  width: 10em;\n",
       "  background: linear-gradient(90deg, transparent 50.0%, green 50.0%, green 50.9%, transparent 50.9%);\n",
       "}\n",
       "#T_4f831_row7_col1 {\n",
       "  width: 10em;\n",
       "  background: linear-gradient(90deg, transparent 49.2%, red 49.2%, red 50.0%, transparent 50.0%);\n",
       "}\n",
       "#T_4f831_row8_col1 {\n",
       "  width: 10em;\n",
       "  background: linear-gradient(90deg, transparent 45.8%, red 45.8%, red 50.0%, transparent 50.0%);\n",
       "}\n",
       "#T_4f831_row9_col1 {\n",
       "  width: 10em;\n",
       "  background: linear-gradient(90deg, transparent 44.7%, red 44.7%, red 50.0%, transparent 50.0%);\n",
       "}\n",
       "#T_4f831_row10_col1 {\n",
       "  width: 10em;\n",
       "  background: linear-gradient(90deg, transparent 44.6%, red 44.6%, red 50.0%, transparent 50.0%);\n",
       "}\n",
       "#T_4f831_row11_col1 {\n",
       "  width: 10em;\n",
       "  background: linear-gradient(90deg, transparent 44.4%, red 44.4%, red 50.0%, transparent 50.0%);\n",
       "}\n",
       "#T_4f831_row12_col1 {\n",
       "  width: 10em;\n",
       "  background: linear-gradient(90deg, transparent 44.0%, red 44.0%, red 50.0%, transparent 50.0%);\n",
       "}\n",
       "#T_4f831_row13_col1 {\n",
       "  width: 10em;\n",
       "  background: linear-gradient(90deg, transparent 36.5%, red 36.5%, red 50.0%, transparent 50.0%);\n",
       "}\n",
       "#T_4f831_row14_col1 {\n",
       "  width: 10em;\n",
       "  background: linear-gradient(90deg, transparent 35.1%, red 35.1%, red 50.0%, transparent 50.0%);\n",
       "}\n",
       "#T_4f831_row15_col1 {\n",
       "  width: 10em;\n",
       "  background: linear-gradient(90deg, transparent 16.2%, red 16.2%, red 50.0%, transparent 50.0%);\n",
       "}\n",
       "#T_4f831_row16_col1 {\n",
       "  width: 10em;\n",
       "  background: linear-gradient(90deg, transparent 14.1%, red 14.1%, red 50.0%, transparent 50.0%);\n",
       "}\n",
       "</style>\n",
       "<table id=\"T_4f831\">\n",
       "  <thead>\n",
       "    <tr>\n",
       "      <th class=\"blank level0\" >&nbsp;</th>\n",
       "      <th id=\"T_4f831_level0_col0\" class=\"col_heading level0 col0\" >variable</th>\n",
       "      <th id=\"T_4f831_level0_col1\" class=\"col_heading level0 col1\" >coefficient</th>\n",
       "    </tr>\n",
       "  </thead>\n",
       "  <tbody>\n",
       "    <tr>\n",
       "      <th id=\"T_4f831_level0_row0\" class=\"row_heading level0 row0\" >3</th>\n",
       "      <td id=\"T_4f831_row0_col0\" class=\"data row0 col0\" >number_project_cat_Very_High</td>\n",
       "      <td id=\"T_4f831_row0_col1\" class=\"data row0 col1\" >11.970000</td>\n",
       "    </tr>\n",
       "    <tr>\n",
       "      <th id=\"T_4f831_level0_row1\" class=\"row_heading level0 row1\" >10</th>\n",
       "      <td id=\"T_4f831_row1_col0\" class=\"data row1 col0\" >satisfaction_level_bin_5</td>\n",
       "      <td id=\"T_4f831_row1_col1\" class=\"data row1 col1\" >3.580000</td>\n",
       "    </tr>\n",
       "    <tr>\n",
       "      <th id=\"T_4f831_level0_row2\" class=\"row_heading level0 row2\" >12</th>\n",
       "      <td id=\"T_4f831_row2_col0\" class=\"data row2 col0\" >satisfaction_level_bin_4</td>\n",
       "      <td id=\"T_4f831_row2_col1\" class=\"data row2 col1\" >2.470000</td>\n",
       "    </tr>\n",
       "    <tr>\n",
       "      <th id=\"T_4f831_level0_row3\" class=\"row_heading level0 row3\" >1</th>\n",
       "      <td id=\"T_4f831_row3_col0\" class=\"data row3 col0\" >satisfaction_level_bin_2</td>\n",
       "      <td id=\"T_4f831_row3_col1\" class=\"data row3 col1\" >1.760000</td>\n",
       "    </tr>\n",
       "    <tr>\n",
       "      <th id=\"T_4f831_level0_row4\" class=\"row_heading level0 row4\" >5</th>\n",
       "      <td id=\"T_4f831_row4_col0\" class=\"data row4 col0\" >number_project_cat_High</td>\n",
       "      <td id=\"T_4f831_row4_col1\" class=\"data row4 col1\" >0.940000</td>\n",
       "    </tr>\n",
       "    <tr>\n",
       "      <th id=\"T_4f831_level0_row5\" class=\"row_heading level0 row5\" >13</th>\n",
       "      <td id=\"T_4f831_row5_col0\" class=\"data row5 col0\" >salary_low</td>\n",
       "      <td id=\"T_4f831_row5_col1\" class=\"data row5 col1\" >0.520000</td>\n",
       "    </tr>\n",
       "    <tr>\n",
       "      <th id=\"T_4f831_level0_row6\" class=\"row_heading level0 row6\" >6</th>\n",
       "      <td id=\"T_4f831_row6_col0\" class=\"data row6 col0\" >number_project_cat_Medium</td>\n",
       "      <td id=\"T_4f831_row6_col1\" class=\"data row6 col1\" >0.220000</td>\n",
       "    </tr>\n",
       "    <tr>\n",
       "      <th id=\"T_4f831_level0_row7\" class=\"row_heading level0 row7\" >7</th>\n",
       "      <td id=\"T_4f831_row7_col0\" class=\"data row7 col0\" >time_spend_company_cat_Medium</td>\n",
       "      <td id=\"T_4f831_row7_col1\" class=\"data row7 col1\" >-0.180000</td>\n",
       "    </tr>\n",
       "    <tr>\n",
       "      <th id=\"T_4f831_level0_row8\" class=\"row_heading level0 row8\" >4</th>\n",
       "      <td id=\"T_4f831_row8_col0\" class=\"data row8 col0\" >satisfaction_level_bin_3</td>\n",
       "      <td id=\"T_4f831_row8_col1\" class=\"data row8 col1\" >-1.010000</td>\n",
       "    </tr>\n",
       "    <tr>\n",
       "      <th id=\"T_4f831_level0_row9\" class=\"row_heading level0 row9\" >0</th>\n",
       "      <td id=\"T_4f831_row9_col0\" class=\"data row9 col0\" >satisfaction_level_bin_0</td>\n",
       "      <td id=\"T_4f831_row9_col1\" class=\"data row9 col1\" >-1.280000</td>\n",
       "    </tr>\n",
       "    <tr>\n",
       "      <th id=\"T_4f831_level0_row10\" class=\"row_heading level0 row10\" >11</th>\n",
       "      <td id=\"T_4f831_row10_col0\" class=\"data row10 col0\" >salary_high</td>\n",
       "      <td id=\"T_4f831_row10_col1\" class=\"data row10 col1\" >-1.300000</td>\n",
       "    </tr>\n",
       "    <tr>\n",
       "      <th id=\"T_4f831_level0_row11\" class=\"row_heading level0 row11\" >8</th>\n",
       "      <td id=\"T_4f831_row11_col0\" class=\"data row11 col0\" >Work_accident_1</td>\n",
       "      <td id=\"T_4f831_row11_col1\" class=\"data row11 col1\" >-1.340000</td>\n",
       "    </tr>\n",
       "    <tr>\n",
       "      <th id=\"T_4f831_level0_row12\" class=\"row_heading level0 row12\" >16</th>\n",
       "      <td id=\"T_4f831_row12_col0\" class=\"data row12 col0\" >promotion_last_5years_1</td>\n",
       "      <td id=\"T_4f831_row12_col1\" class=\"data row12 col1\" >-1.430000</td>\n",
       "    </tr>\n",
       "    <tr>\n",
       "      <th id=\"T_4f831_level0_row13\" class=\"row_heading level0 row13\" >2</th>\n",
       "      <td id=\"T_4f831_row13_col0\" class=\"data row13 col0\" >time_spend_company_cat_Low</td>\n",
       "      <td id=\"T_4f831_row13_col1\" class=\"data row13 col1\" >-3.230000</td>\n",
       "    </tr>\n",
       "    <tr>\n",
       "      <th id=\"T_4f831_level0_row14\" class=\"row_heading level0 row14\" >14</th>\n",
       "      <td id=\"T_4f831_row14_col0\" class=\"data row14 col0\" >satisfaction_level_bin_1</td>\n",
       "      <td id=\"T_4f831_row14_col1\" class=\"data row14 col1\" >-3.570000</td>\n",
       "    </tr>\n",
       "    <tr>\n",
       "      <th id=\"T_4f831_level0_row15\" class=\"row_heading level0 row15\" >9</th>\n",
       "      <td id=\"T_4f831_row15_col0\" class=\"data row15 col0\" >satisfaction_level</td>\n",
       "      <td id=\"T_4f831_row15_col1\" class=\"data row15 col1\" >-8.080000</td>\n",
       "    </tr>\n",
       "    <tr>\n",
       "      <th id=\"T_4f831_level0_row16\" class=\"row_heading level0 row16\" >15</th>\n",
       "      <td id=\"T_4f831_row16_col0\" class=\"data row16 col0\" >time_spend_company_cat_Very_High</td>\n",
       "      <td id=\"T_4f831_row16_col1\" class=\"data row16 col1\" >-8.600000</td>\n",
       "    </tr>\n",
       "  </tbody>\n",
       "</table>\n"
      ],
      "text/plain": [
       "<pandas.io.formats.style.Styler at 0x1371563a0>"
      ]
     },
     "execution_count": 166,
     "metadata": {},
     "output_type": "execute_result"
    }
   ],
   "source": [
    "most_important_features = dummified_hr_df[chi2_features[:17]].columns.get_level_values(0).tolist()\n",
    "get_feature_importance(\n",
    "    chi2_initial_lm_mod.fit(\n",
    "        dummified_hr_df[chi2_features[:17]], y), most_important_features)"
   ]
  },
  {
   "cell_type": "markdown",
   "metadata": {
    "id": "HBTbKQI9U3KZ",
    "slideshow": {
     "slide_type": "slide"
    }
   },
   "source": [
    "I will use this reduce version of the datase from now on."
   ]
  },
  {
   "cell_type": "code",
   "execution_count": null,
   "metadata": {
    "id": "oZ5XZOd0U3KZ"
   },
   "outputs": [],
   "source": [
    "dummified_hr_df = dummified_hr_df[chi2_features[:17]]"
   ]
  },
  {
   "cell_type": "markdown",
   "metadata": {
    "id": "YfkCp96VU3Kb",
    "slideshow": {
     "slide_type": "slide"
    }
   },
   "source": [
    "## Embedded\n",
    "\n",
    "Finally, we will experiment with embedded methods. If you remember from class, these methods focused on applying a regularization penalty to the model complexity. Utilizing this regularization, you can force the model to reduce the attention that it is paying to less relevant features. \n",
    "\n",
    "### $\\ell_2$ regularization\n",
    "\n",
    "We will start with L2 regularization."
   ]
  },
  {
   "cell_type": "code",
   "execution_count": 122,
   "metadata": {
    "id": "bI7ff98KU3Kb",
    "outputId": "7db6b247-d601-49f2-a6b4-fae9404a8246"
   },
   "outputs": [
    {
     "name": "stdout",
     "output_type": "stream",
     "text": [
      "Accuracy = 0.8846\n"
     ]
    }
   ],
   "source": [
    "ridge_mod = linear_model.LogisticRegression(max_iter=100, penalty='l2')\n",
    "print(\"Accuracy = {:.4}\".format(\n",
    "    np.mean(cross_val_score(ridge_mod, dummified_hr_df, y, cv=5))))"
   ]
  },
  {
   "cell_type": "code",
   "execution_count": 104,
   "metadata": {
    "id": "uF77F4_hU3Kc",
    "outputId": "54f24819-3e0a-49e1-c1a9-e3fe55af5e42",
    "slideshow": {
     "slide_type": "slide"
    }
   },
   "outputs": [
    {
     "data": {
      "text/html": [
       "<style type=\"text/css\">\n",
       "#T_fa0c3_row0_col1 {\n",
       "  width: 10em;\n",
       "  background: linear-gradient(90deg, transparent 50.0%, green 50.0%, green 100.0%, transparent 100.0%);\n",
       "}\n",
       "#T_fa0c3_row1_col1 {\n",
       "  width: 10em;\n",
       "  background: linear-gradient(90deg, transparent 50.0%, green 50.0%, green 82.9%, transparent 82.9%);\n",
       "}\n",
       "#T_fa0c3_row2_col1 {\n",
       "  width: 10em;\n",
       "  background: linear-gradient(90deg, transparent 50.0%, green 50.0%, green 70.8%, transparent 70.8%);\n",
       "}\n",
       "#T_fa0c3_row3_col1 {\n",
       "  width: 10em;\n",
       "  background: linear-gradient(90deg, transparent 50.0%, green 50.0%, green 69.7%, transparent 69.7%);\n",
       "}\n",
       "#T_fa0c3_row4_col1 {\n",
       "  width: 10em;\n",
       "  background: linear-gradient(90deg, transparent 50.0%, green 50.0%, green 63.9%, transparent 63.9%);\n",
       "}\n",
       "#T_fa0c3_row5_col1 {\n",
       "  width: 10em;\n",
       "  background: linear-gradient(90deg, transparent 50.0%, green 50.0%, green 63.0%, transparent 63.0%);\n",
       "}\n",
       "#T_fa0c3_row6_col1 {\n",
       "  width: 10em;\n",
       "  background: linear-gradient(90deg, transparent 50.0%, green 50.0%, green 60.1%, transparent 60.1%);\n",
       "}\n",
       "#T_fa0c3_row7_col1, #T_fa0c3_row8_col1 {\n",
       "  width: 10em;\n",
       "  background: linear-gradient(90deg, transparent 50.0%, green 50.0%, green 59.5%, transparent 59.5%);\n",
       "}\n",
       "#T_fa0c3_row9_col1 {\n",
       "  width: 10em;\n",
       "  background: linear-gradient(90deg, transparent 50.0%, green 50.0%, green 55.6%, transparent 55.6%);\n",
       "}\n",
       "#T_fa0c3_row10_col1 {\n",
       "  width: 10em;\n",
       "  background: linear-gradient(90deg, transparent 50.0%, green 50.0%, green 54.7%, transparent 54.7%);\n",
       "}\n",
       "#T_fa0c3_row11_col1 {\n",
       "  width: 10em;\n",
       "  background: linear-gradient(90deg, transparent 50.0%, green 50.0%, green 54.3%, transparent 54.3%);\n",
       "}\n",
       "#T_fa0c3_row12_col1 {\n",
       "  width: 10em;\n",
       "  background: linear-gradient(90deg, transparent 50.0%, green 50.0%, green 54.2%, transparent 54.2%);\n",
       "}\n",
       "#T_fa0c3_row13_col1, #T_fa0c3_row14_col1 {\n",
       "  width: 10em;\n",
       "  background: linear-gradient(90deg, transparent 50.0%, green 50.0%, green 51.8%, transparent 51.8%);\n",
       "}\n",
       "#T_fa0c3_row15_col1 {\n",
       "  width: 10em;\n",
       "  background: linear-gradient(90deg, transparent 50.0%, green 50.0%, green 51.6%, transparent 51.6%);\n",
       "}\n",
       "#T_fa0c3_row16_col1 {\n",
       "  width: 10em;\n",
       "  background: linear-gradient(90deg, transparent 50.0%, green 50.0%, green 51.4%, transparent 51.4%);\n",
       "}\n",
       "#T_fa0c3_row17_col1 {\n",
       "  width: 10em;\n",
       "  background: linear-gradient(90deg, transparent 50.0%, green 50.0%, green 50.9%, transparent 50.9%);\n",
       "}\n",
       "#T_fa0c3_row18_col1 {\n",
       "  width: 10em;\n",
       "  background: linear-gradient(90deg, transparent 50.0%, green 50.0%, green 50.8%, transparent 50.8%);\n",
       "}\n",
       "#T_fa0c3_row19_col1, #T_fa0c3_row20_col1 {\n",
       "  width: 10em;\n",
       "  background: linear-gradient(90deg, transparent 50.0%, green 50.0%, green 50.4%, transparent 50.4%);\n",
       "}\n",
       "#T_fa0c3_row21_col1 {\n",
       "  width: 10em;\n",
       "  background: linear-gradient(90deg, transparent 49.4%, red 49.4%, red 50.0%, transparent 50.0%);\n",
       "}\n",
       "#T_fa0c3_row22_col1 {\n",
       "  width: 10em;\n",
       "  background: linear-gradient(90deg, transparent 49.2%, red 49.2%, red 50.0%, transparent 50.0%);\n",
       "}\n",
       "#T_fa0c3_row23_col1 {\n",
       "  width: 10em;\n",
       "  background: linear-gradient(90deg, transparent 48.2%, red 48.2%, red 50.0%, transparent 50.0%);\n",
       "}\n",
       "#T_fa0c3_row24_col1 {\n",
       "  width: 10em;\n",
       "  background: linear-gradient(90deg, transparent 47.6%, red 47.6%, red 50.0%, transparent 50.0%);\n",
       "}\n",
       "#T_fa0c3_row25_col1 {\n",
       "  width: 10em;\n",
       "  background: linear-gradient(90deg, transparent 45.8%, red 45.8%, red 50.0%, transparent 50.0%);\n",
       "}\n",
       "#T_fa0c3_row26_col1 {\n",
       "  width: 10em;\n",
       "  background: linear-gradient(90deg, transparent 45.7%, red 45.7%, red 50.0%, transparent 50.0%);\n",
       "}\n",
       "#T_fa0c3_row27_col1 {\n",
       "  width: 10em;\n",
       "  background: linear-gradient(90deg, transparent 43.7%, red 43.7%, red 50.0%, transparent 50.0%);\n",
       "}\n",
       "#T_fa0c3_row28_col1 {\n",
       "  width: 10em;\n",
       "  background: linear-gradient(90deg, transparent 43.4%, red 43.4%, red 50.0%, transparent 50.0%);\n",
       "}\n",
       "#T_fa0c3_row29_col1 {\n",
       "  width: 10em;\n",
       "  background: linear-gradient(90deg, transparent 41.6%, red 41.6%, red 50.0%, transparent 50.0%);\n",
       "}\n",
       "#T_fa0c3_row30_col1 {\n",
       "  width: 10em;\n",
       "  background: linear-gradient(90deg, transparent 39.9%, red 39.9%, red 50.0%, transparent 50.0%);\n",
       "}\n",
       "#T_fa0c3_row31_col1 {\n",
       "  width: 10em;\n",
       "  background: linear-gradient(90deg, transparent 37.1%, red 37.1%, red 50.0%, transparent 50.0%);\n",
       "}\n",
       "#T_fa0c3_row32_col1 {\n",
       "  width: 10em;\n",
       "  background: linear-gradient(90deg, transparent 28.7%, red 28.7%, red 50.0%, transparent 50.0%);\n",
       "}\n",
       "#T_fa0c3_row33_col1 {\n",
       "  width: 10em;\n",
       "  background: linear-gradient(90deg, transparent 28.2%, red 28.2%, red 50.0%, transparent 50.0%);\n",
       "}\n",
       "#T_fa0c3_row34_col1 {\n",
       "  width: 10em;\n",
       "  background: linear-gradient(90deg, transparent 15.2%, red 15.2%, red 50.0%, transparent 50.0%);\n",
       "}\n",
       "#T_fa0c3_row35_col1 {\n",
       "  width: 10em;\n",
       "  background: linear-gradient(90deg, transparent 14.7%, red 14.7%, red 50.0%, transparent 50.0%);\n",
       "}\n",
       "#T_fa0c3_row36_col1 {\n",
       "  width: 10em;\n",
       "  background: linear-gradient(90deg, transparent 12.5%, red 12.5%, red 50.0%, transparent 50.0%);\n",
       "}\n",
       "</style>\n",
       "<table id=\"T_fa0c3\">\n",
       "  <thead>\n",
       "    <tr>\n",
       "      <th class=\"blank level0\" >&nbsp;</th>\n",
       "      <th id=\"T_fa0c3_level0_col0\" class=\"col_heading level0 col0\" >variable</th>\n",
       "      <th id=\"T_fa0c3_level0_col1\" class=\"col_heading level0 col1\" >coefficient</th>\n",
       "    </tr>\n",
       "  </thead>\n",
       "  <tbody>\n",
       "    <tr>\n",
       "      <th id=\"T_fa0c3_level0_row0\" class=\"row_heading level0 row0\" >4</th>\n",
       "      <td id=\"T_fa0c3_row0_col0\" class=\"data row0 col0\" >time_spend_company</td>\n",
       "      <td id=\"T_fa0c3_row0_col1\" class=\"data row0 col1\" >7.970000</td>\n",
       "    </tr>\n",
       "    <tr>\n",
       "      <th id=\"T_fa0c3_level0_row1\" class=\"row_heading level0 row1\" >32</th>\n",
       "      <td id=\"T_fa0c3_row1_col0\" class=\"data row1 col0\" >number_project_cat_Very_High</td>\n",
       "      <td id=\"T_fa0c3_row1_col1\" class=\"data row1 col1\" >5.240000</td>\n",
       "    </tr>\n",
       "    <tr>\n",
       "      <th id=\"T_fa0c3_level0_row2\" class=\"row_heading level0 row2\" >1</th>\n",
       "      <td id=\"T_fa0c3_row2_col0\" class=\"data row2 col0\" >last_evaluation</td>\n",
       "      <td id=\"T_fa0c3_row2_col1\" class=\"data row2 col1\" >3.310000</td>\n",
       "    </tr>\n",
       "    <tr>\n",
       "      <th id=\"T_fa0c3_level0_row3\" class=\"row_heading level0 row3\" >35</th>\n",
       "      <td id=\"T_fa0c3_row3_col0\" class=\"data row3 col0\" >time_spend_company_cat_Medium</td>\n",
       "      <td id=\"T_fa0c3_row3_col1\" class=\"data row3 col1\" >3.140000</td>\n",
       "    </tr>\n",
       "    <tr>\n",
       "      <th id=\"T_fa0c3_level0_row4\" class=\"row_heading level0 row4\" >28</th>\n",
       "      <td id=\"T_fa0c3_row4_col0\" class=\"data row4 col0\" >satisfaction_level_bin_5</td>\n",
       "      <td id=\"T_fa0c3_row4_col1\" class=\"data row4 col1\" >2.210000</td>\n",
       "    </tr>\n",
       "    <tr>\n",
       "      <th id=\"T_fa0c3_level0_row5\" class=\"row_heading level0 row5\" >25</th>\n",
       "      <td id=\"T_fa0c3_row5_col0\" class=\"data row5 col0\" >satisfaction_level_bin_2</td>\n",
       "      <td id=\"T_fa0c3_row5_col1\" class=\"data row5 col1\" >2.070000</td>\n",
       "    </tr>\n",
       "    <tr>\n",
       "      <th id=\"T_fa0c3_level0_row6\" class=\"row_heading level0 row6\" >34</th>\n",
       "      <td id=\"T_fa0c3_row6_col0\" class=\"data row6 col0\" >time_spend_company_cat_Low</td>\n",
       "      <td id=\"T_fa0c3_row6_col1\" class=\"data row6 col1\" >1.610000</td>\n",
       "    </tr>\n",
       "    <tr>\n",
       "      <th id=\"T_fa0c3_level0_row7\" class=\"row_heading level0 row7\" >3</th>\n",
       "      <td id=\"T_fa0c3_row7_col0\" class=\"data row7 col0\" >average_montly_hours</td>\n",
       "      <td id=\"T_fa0c3_row7_col1\" class=\"data row7 col1\" >1.510000</td>\n",
       "    </tr>\n",
       "    <tr>\n",
       "      <th id=\"T_fa0c3_level0_row8\" class=\"row_heading level0 row8\" >27</th>\n",
       "      <td id=\"T_fa0c3_row8_col0\" class=\"data row8 col0\" >satisfaction_level_bin_4</td>\n",
       "      <td id=\"T_fa0c3_row8_col1\" class=\"data row8 col1\" >1.510000</td>\n",
       "    </tr>\n",
       "    <tr>\n",
       "      <th id=\"T_fa0c3_level0_row9\" class=\"row_heading level0 row9\" >33</th>\n",
       "      <td id=\"T_fa0c3_row9_col0\" class=\"data row9 col0\" >time_spend_company_cat_High</td>\n",
       "      <td id=\"T_fa0c3_row9_col1\" class=\"data row9 col1\" >0.890000</td>\n",
       "    </tr>\n",
       "    <tr>\n",
       "      <th id=\"T_fa0c3_level0_row10\" class=\"row_heading level0 row10\" >21</th>\n",
       "      <td id=\"T_fa0c3_row10_col0\" class=\"data row10 col0\" >salary_low</td>\n",
       "      <td id=\"T_fa0c3_row10_col1\" class=\"data row10 col1\" >0.750000</td>\n",
       "    </tr>\n",
       "    <tr>\n",
       "      <th id=\"T_fa0c3_level0_row11\" class=\"row_heading level0 row11\" >6</th>\n",
       "      <td id=\"T_fa0c3_row11_col0\" class=\"data row11 col0\" >Work_accident_0</td>\n",
       "      <td id=\"T_fa0c3_row11_col1\" class=\"data row11 col1\" >0.690000</td>\n",
       "    </tr>\n",
       "    <tr>\n",
       "      <th id=\"T_fa0c3_level0_row12\" class=\"row_heading level0 row12\" >8</th>\n",
       "      <td id=\"T_fa0c3_row12_col0\" class=\"data row12 col0\" >promotion_last_5years_0</td>\n",
       "      <td id=\"T_fa0c3_row12_col1\" class=\"data row12 col1\" >0.670000</td>\n",
       "    </tr>\n",
       "    <tr>\n",
       "      <th id=\"T_fa0c3_level0_row13\" class=\"row_heading level0 row13\" >29</th>\n",
       "      <td id=\"T_fa0c3_row13_col0\" class=\"data row13 col0\" >number_project_cat_High</td>\n",
       "      <td id=\"T_fa0c3_row13_col1\" class=\"data row13 col1\" >0.290000</td>\n",
       "    </tr>\n",
       "    <tr>\n",
       "      <th id=\"T_fa0c3_level0_row14\" class=\"row_heading level0 row14\" >13</th>\n",
       "      <td id=\"T_fa0c3_row14_col0\" class=\"data row14 col0\" >sales_hr</td>\n",
       "      <td id=\"T_fa0c3_row14_col1\" class=\"data row14 col1\" >0.290000</td>\n",
       "    </tr>\n",
       "    <tr>\n",
       "      <th id=\"T_fa0c3_level0_row15\" class=\"row_heading level0 row15\" >22</th>\n",
       "      <td id=\"T_fa0c3_row15_col0\" class=\"data row15 col0\" >salary_medium</td>\n",
       "      <td id=\"T_fa0c3_row15_col1\" class=\"data row15 col1\" >0.250000</td>\n",
       "    </tr>\n",
       "    <tr>\n",
       "      <th id=\"T_fa0c3_level0_row16\" class=\"row_heading level0 row16\" >18</th>\n",
       "      <td id=\"T_fa0c3_row16_col0\" class=\"data row16 col0\" >sales_support</td>\n",
       "      <td id=\"T_fa0c3_row16_col1\" class=\"data row16 col1\" >0.220000</td>\n",
       "    </tr>\n",
       "    <tr>\n",
       "      <th id=\"T_fa0c3_level0_row17\" class=\"row_heading level0 row17\" >19</th>\n",
       "      <td id=\"T_fa0c3_row17_col0\" class=\"data row17 col0\" >sales_technical</td>\n",
       "      <td id=\"T_fa0c3_row17_col1\" class=\"data row17 col1\" >0.150000</td>\n",
       "    </tr>\n",
       "    <tr>\n",
       "      <th id=\"T_fa0c3_level0_row18\" class=\"row_heading level0 row18\" >15</th>\n",
       "      <td id=\"T_fa0c3_row18_col0\" class=\"data row18 col0\" >sales_marketing</td>\n",
       "      <td id=\"T_fa0c3_row18_col1\" class=\"data row18 col1\" >0.130000</td>\n",
       "    </tr>\n",
       "    <tr>\n",
       "      <th id=\"T_fa0c3_level0_row19\" class=\"row_heading level0 row19\" >12</th>\n",
       "      <td id=\"T_fa0c3_row19_col0\" class=\"data row19 col0\" >sales_accounting</td>\n",
       "      <td id=\"T_fa0c3_row19_col1\" class=\"data row19 col1\" >0.070000</td>\n",
       "    </tr>\n",
       "    <tr>\n",
       "      <th id=\"T_fa0c3_level0_row20\" class=\"row_heading level0 row20\" >17</th>\n",
       "      <td id=\"T_fa0c3_row20_col0\" class=\"data row20 col0\" >sales_sales</td>\n",
       "      <td id=\"T_fa0c3_row20_col1\" class=\"data row20 col1\" >0.060000</td>\n",
       "    </tr>\n",
       "    <tr>\n",
       "      <th id=\"T_fa0c3_level0_row21\" class=\"row_heading level0 row21\" >16</th>\n",
       "      <td id=\"T_fa0c3_row21_col0\" class=\"data row21 col0\" >sales_product_mng</td>\n",
       "      <td id=\"T_fa0c3_row21_col1\" class=\"data row21 col1\" >-0.100000</td>\n",
       "    </tr>\n",
       "    <tr>\n",
       "      <th id=\"T_fa0c3_level0_row22\" class=\"row_heading level0 row22\" >10</th>\n",
       "      <td id=\"T_fa0c3_row22_col0\" class=\"data row22 col0\" >sales_IT</td>\n",
       "      <td id=\"T_fa0c3_row22_col1\" class=\"data row22 col1\" >-0.130000</td>\n",
       "    </tr>\n",
       "    <tr>\n",
       "      <th id=\"T_fa0c3_level0_row23\" class=\"row_heading level0 row23\" >14</th>\n",
       "      <td id=\"T_fa0c3_row23_col0\" class=\"data row23 col0\" >sales_management</td>\n",
       "      <td id=\"T_fa0c3_row23_col1\" class=\"data row23 col1\" >-0.290000</td>\n",
       "    </tr>\n",
       "    <tr>\n",
       "      <th id=\"T_fa0c3_level0_row24\" class=\"row_heading level0 row24\" >11</th>\n",
       "      <td id=\"T_fa0c3_row24_col0\" class=\"data row24 col0\" >sales_RandD</td>\n",
       "      <td id=\"T_fa0c3_row24_col1\" class=\"data row24 col1\" >-0.390000</td>\n",
       "    </tr>\n",
       "    <tr>\n",
       "      <th id=\"T_fa0c3_level0_row25\" class=\"row_heading level0 row25\" >9</th>\n",
       "      <td id=\"T_fa0c3_row25_col0\" class=\"data row25 col0\" >promotion_last_5years_1</td>\n",
       "      <td id=\"T_fa0c3_row25_col1\" class=\"data row25 col1\" >-0.670000</td>\n",
       "    </tr>\n",
       "    <tr>\n",
       "      <th id=\"T_fa0c3_level0_row26\" class=\"row_heading level0 row26\" >7</th>\n",
       "      <td id=\"T_fa0c3_row26_col0\" class=\"data row26 col0\" >Work_accident_1</td>\n",
       "      <td id=\"T_fa0c3_row26_col1\" class=\"data row26 col1\" >-0.690000</td>\n",
       "    </tr>\n",
       "    <tr>\n",
       "      <th id=\"T_fa0c3_level0_row27\" class=\"row_heading level0 row27\" >20</th>\n",
       "      <td id=\"T_fa0c3_row27_col0\" class=\"data row27 col0\" >salary_high</td>\n",
       "      <td id=\"T_fa0c3_row27_col1\" class=\"data row27 col1\" >-1.000000</td>\n",
       "    </tr>\n",
       "    <tr>\n",
       "      <th id=\"T_fa0c3_level0_row28\" class=\"row_heading level0 row28\" >23</th>\n",
       "      <td id=\"T_fa0c3_row28_col0\" class=\"data row28 col0\" >satisfaction_level_bin_0</td>\n",
       "      <td id=\"T_fa0c3_row28_col1\" class=\"data row28 col1\" >-1.050000</td>\n",
       "    </tr>\n",
       "    <tr>\n",
       "      <th id=\"T_fa0c3_level0_row29\" class=\"row_heading level0 row29\" >26</th>\n",
       "      <td id=\"T_fa0c3_row29_col0\" class=\"data row29 col0\" >satisfaction_level_bin_3</td>\n",
       "      <td id=\"T_fa0c3_row29_col1\" class=\"data row29 col1\" >-1.340000</td>\n",
       "    </tr>\n",
       "    <tr>\n",
       "      <th id=\"T_fa0c3_level0_row30\" class=\"row_heading level0 row30\" >5</th>\n",
       "      <td id=\"T_fa0c3_row30_col0\" class=\"data row30 col0\" >last_evaluation_bin</td>\n",
       "      <td id=\"T_fa0c3_row30_col1\" class=\"data row30 col1\" >-1.610000</td>\n",
       "    </tr>\n",
       "    <tr>\n",
       "      <th id=\"T_fa0c3_level0_row31\" class=\"row_heading level0 row31\" >31</th>\n",
       "      <td id=\"T_fa0c3_row31_col0\" class=\"data row31 col0\" >number_project_cat_Medium</td>\n",
       "      <td id=\"T_fa0c3_row31_col1\" class=\"data row31 col1\" >-2.050000</td>\n",
       "    </tr>\n",
       "    <tr>\n",
       "      <th id=\"T_fa0c3_level0_row32\" class=\"row_heading level0 row32\" >24</th>\n",
       "      <td id=\"T_fa0c3_row32_col0\" class=\"data row32 col0\" >satisfaction_level_bin_1</td>\n",
       "      <td id=\"T_fa0c3_row32_col1\" class=\"data row32 col1\" >-3.390000</td>\n",
       "    </tr>\n",
       "    <tr>\n",
       "      <th id=\"T_fa0c3_level0_row33\" class=\"row_heading level0 row33\" >30</th>\n",
       "      <td id=\"T_fa0c3_row33_col0\" class=\"data row33 col0\" >number_project_cat_Low</td>\n",
       "      <td id=\"T_fa0c3_row33_col1\" class=\"data row33 col1\" >-3.480000</td>\n",
       "    </tr>\n",
       "    <tr>\n",
       "      <th id=\"T_fa0c3_level0_row34\" class=\"row_heading level0 row34\" >2</th>\n",
       "      <td id=\"T_fa0c3_row34_col0\" class=\"data row34 col0\" >number_project</td>\n",
       "      <td id=\"T_fa0c3_row34_col1\" class=\"data row34 col1\" >-5.550000</td>\n",
       "    </tr>\n",
       "    <tr>\n",
       "      <th id=\"T_fa0c3_level0_row35\" class=\"row_heading level0 row35\" >36</th>\n",
       "      <td id=\"T_fa0c3_row35_col0\" class=\"data row35 col0\" >time_spend_company_cat_Very_High</td>\n",
       "      <td id=\"T_fa0c3_row35_col1\" class=\"data row35 col1\" >-5.630000</td>\n",
       "    </tr>\n",
       "    <tr>\n",
       "      <th id=\"T_fa0c3_level0_row36\" class=\"row_heading level0 row36\" >0</th>\n",
       "      <td id=\"T_fa0c3_row36_col0\" class=\"data row36 col0\" >satisfaction_level</td>\n",
       "      <td id=\"T_fa0c3_row36_col1\" class=\"data row36 col1\" >-5.970000</td>\n",
       "    </tr>\n",
       "  </tbody>\n",
       "</table>\n"
      ],
      "text/plain": [
       "<pandas.io.formats.style.Styler at 0x12f384e80>"
      ]
     },
     "execution_count": 104,
     "metadata": {},
     "output_type": "execute_result"
    }
   ],
   "source": [
    "get_feature_importance(ridge_mod.fit(dummified_hr_df, y),\n",
    "                       dummified_hr_df.columns.get_level_values(0).tolist())"
   ]
  },
  {
   "cell_type": "markdown",
   "metadata": {
    "id": "IyhJlFitU3Kg",
    "slideshow": {
     "slide_type": "slide"
    }
   },
   "source": [
    "Similar performance w.r.t the un-regularized models.\n",
    "\n",
    "Let's look at how the coefficient weights and accuracy scores change along with the different regularization values.\n",
    "To that end, I have implemented the following piece of code. Do not be overwhelmed by it. It basically defines a list of regularization values to test and train a new Logistic Regression model for one of these regularization values. We keep track of the coefficient values and the accuracy of each of these models to plot them according to the defined regularization parameters."
   ]
  },
  {
   "cell_type": "code",
   "execution_count": 131,
   "metadata": {
    "id": "rIKXrGgCU3Kh",
    "outputId": "a9e6dd22-f165-4d8d-84c4-77c821132edb",
    "slideshow": {
     "slide_type": "slide"
    }
   },
   "outputs": [
    {
     "data": {
      "image/png": "[encoded data removed]",
      "text/plain": [
       "<Figure size 432x288 with 1 Axes>"
      ]
     },
     "metadata": {
      "needs_background": "light"
     },
     "output_type": "display_data"
    }
   ],
   "source": [
    "# Define a basic Logisitic Regresion Model that applies L2 (Ridge) regularization\n",
    "ridge_mod = linear_model.LogisticRegression(max_iter=100, penalty='l2')\n",
    "\n",
    "# Define a list of 100 regularization values to test (from 0.1 to 0.0001)\n",
    "alphas = 10**np.linspace(-1, -4, 100)\n",
    "\n",
    "plt.scatter(range(100), alphas, ls='-.')\n",
    "plt.title(\"Alphas ($C$)\")\n",
    "plt.show();"
   ]
  },
  {
   "cell_type": "markdown",
   "metadata": {
    "slideshow": {
     "slide_type": "slide"
    }
   },
   "source": [
    "Train a different model with each different value of $\\alpha$ (C). "
   ]
  },
  {
   "cell_type": "code",
   "execution_count": 106,
   "metadata": {
    "id": "rIKXrGgCU3Kh",
    "outputId": "a9e6dd22-f165-4d8d-84c4-77c821132edb",
    "slideshow": {
     "slide_type": "-"
    }
   },
   "outputs": [],
   "source": [
    "coefs_ = []  # Array to store the value of the coefficients for each model\n",
    "scores_ = []  # Array to store the accuracy for each model\n",
    "\n",
    "# Go over the regularization values list defined above, train a logreg model \n",
    "# for each of the regularization values and evaluate it.\n",
    "for a in alphas:\n",
    "    ridge_mod.set_params(C=a)  # Set the regularization parameter\n",
    "    # Appends the accuracy of the model\n",
    "    scores_.append(np.mean(cross_val_score(\n",
    "        ridge_mod, dummified_hr_df, y, cv=5)))\n",
    "    # Appends the coefficient of the model\n",
    "    coefs_.append(ridge_mod.fit(dummified_hr_df, y).coef_.ravel().copy())\n",
    "\n",
    "# Conver the coefficient and scores arrays to numpy arrays\n",
    "coefs_ = np.array(coefs_)\n",
    "scores_ = np.array(scores_)"
   ]
  },
  {
   "cell_type": "code",
   "execution_count": 107,
   "metadata": {
    "id": "rIKXrGgCU3Kh",
    "outputId": "a9e6dd22-f165-4d8d-84c4-77c821132edb",
    "slideshow": {
     "slide_type": "slide"
    }
   },
   "outputs": [
    {
     "data": {
      "image/png": "[encoded data removed]",
      "text/plain": [
       "<Figure size 1440x720 with 2 Axes>"
      ]
     },
     "metadata": {
      "needs_background": "light"
     },
     "output_type": "display_data"
    }
   ],
   "source": [
    "# Define the figures to plot the values\n",
    "fig, (ax1, ax2) = plt.subplots(1, 2, figsize=(20,10))\n",
    "fig.suptitle('Logistic Regression Path', fontsize=20)\n",
    "\n",
    "# Coeff Weights Plot\n",
    "ax1.plot(alphas, coefs_, marker='o')\n",
    "ymin, ymax = plt.ylim()\n",
    "ax1.set_ylabel('Coefficient Weights', fontsize = 15)\n",
    "ax1.set_xlabel('Alpha', fontsize = 15)\n",
    "ax1.axis('tight')\n",
    "\n",
    "# Accuracy Plot\n",
    "ax2.plot(alphas, scores_, marker='o')\n",
    "ymin, ymax = plt.ylim()\n",
    "ax2.set_ylabel('Accuracy Score', fontsize = 15)\n",
    "ax2.set_xlabel('Alpha', fontsize = 15)\n",
    "ax2.axis('tight')\n",
    "\n",
    "plt.show()"
   ]
  },
  {
   "cell_type": "markdown",
   "metadata": {
    "id": "wRQfWbjEU3Kh",
    "slideshow": {
     "slide_type": "slide"
    }
   },
   "source": [
    "As you can see in the left figure, the smaller the alpha value (alpha), the larger the regularization and, consequently, the smaller the weights of the coefficients. This is because, if we check the sklearn documentation, we will see that this value is the: \"*Inverse of regularization strength*.\"\n",
    "\n",
    "When regularization is large enough (i.e., alpha is small), the values of the coefficients are close to 0 (i.e., null model).\n",
    "\n",
    " As there is a trade-off between variance (i.e., less over-fitted model --> more regularization) and bias (i.e., learning more from the training set --> less regularization), You must find the optimal alpha value. As you can see in the right figure, this value is achieved with small alpha values (i.e., more regularization). This specific value is not always the same since it depends on your data and the prediction problem. \n",
    "\n",
    "To automatize the process of finding the optimal value, you can make use of the LogisticRegressionCV function in sklearn (https://scikit-learn.org/stable/modules/generated/sklearn.linear_model.LogisticRegressionCV.html) that performs CV, testing different hyperparameters (that you can provide) and selecting the optimal one. "
   ]
  },
  {
   "cell_type": "markdown",
   "metadata": {
    "id": "U4PNN5H5U3Kj",
    "slideshow": {
     "slide_type": "slide"
    }
   },
   "source": [
    "Performance"
   ]
  },
  {
   "cell_type": "code",
   "execution_count": 120,
   "metadata": {
    "id": "F9eyRFrbU3Ki",
    "outputId": "489e7a8b-c5eb-4653-8f53-ae4b254c77c9",
    "slideshow": {
     "slide_type": "-"
    }
   },
   "outputs": [
    {
     "name": "stdout",
     "output_type": "stream",
     "text": [
      "Accuracy = 0.8659\n"
     ]
    }
   ],
   "source": [
    "from sklearn.feature_selection import SelectFromModel\n",
    "\n",
    "alphas = 10**np.linspace(-1, -4, 100)\n",
    "\n",
    "ridge_mod_cv = linear_model.LogisticRegressionCV(\n",
    "    max_iter=100, penalty='l2', Cs=alphas)\n",
    "print(\"Accuracy = {:.4}\".format(\n",
    "    np.mean(cross_val_score(ridge_mod_cv, dummified_hr_df, y, cv=5))))"
   ]
  },
  {
   "cell_type": "markdown",
   "metadata": {
    "slideshow": {
     "slide_type": "slide"
    }
   },
   "source": [
    "Effect on number of features: We end up with less features, so the optimization of the alpha values does provide a valid improvement."
   ]
  },
  {
   "cell_type": "code",
   "execution_count": 121,
   "metadata": {
    "slideshow": {
     "slide_type": "-"
    }
   },
   "outputs": [
    {
     "name": "stdout",
     "output_type": "stream",
     "text": [
      "Original Number of Features = 37 --> Number of features selected by Ridge = 15\n"
     ]
    }
   ],
   "source": [
    "ridge_mod_cv.fit(dummified_hr_df, y)\n",
    "model = SelectFromModel(ridge_mod_cv, prefit=True)\n",
    "X_new = model.transform(dummified_hr_df)\n",
    "\n",
    "print(\"Original Number of Features = {} --> Number of features selected by Ridge = {}\".format(\n",
    "    dummified_hr_df.shape[1], X_new.shape[1]))"
   ]
  },
  {
   "cell_type": "markdown",
   "metadata": {
    "id": "u7OGykwnU3Kj",
    "slideshow": {
     "slide_type": "slide"
    }
   },
   "source": [
    "### $\\ell_1$ regularization\n",
    "\n",
    "Let's see if $\\ell_1$ (which actually removes features by making their coefficients equal to 0) improves the unregularized model."
   ]
  },
  {
   "cell_type": "code",
   "execution_count": 123,
   "metadata": {
    "id": "QXvNXq6-U3Kj",
    "outputId": "e2471c70-ac08-4c33-957d-40c0f6f34481"
   },
   "outputs": [
    {
     "name": "stdout",
     "output_type": "stream",
     "text": [
      "Accuracy = 0.8908\n"
     ]
    }
   ],
   "source": [
    "lasso_mod = linear_model.LogisticRegression(penalty='l1', solver='liblinear')\n",
    "\n",
    "print(\"Accuracy = {:.4}\".format(np.mean(cross_val_score(lasso_mod, dummified_hr_df, y, cv=5))))"
   ]
  },
  {
   "cell_type": "markdown",
   "metadata": {},
   "source": [
    "Repeat the process of training different $\\ell_1$ models with different values for $\\alpha$ hyper-parameter."
   ]
  },
  {
   "cell_type": "code",
   "execution_count": null,
   "metadata": {
    "id": "ZzJXVpiqU3Kk",
    "outputId": "bb7aae40-36e4-4784-ecab-bcc93a5d7d96",
    "slideshow": {
     "slide_type": "slide"
    }
   },
   "outputs": [],
   "source": [
    "lasso_mod = linear_model.LogisticRegression(penalty='l1', solver='liblinear')\n",
    "alphas = 10**np.linspace(-1, -4, 100)\n",
    "\n",
    "coefs_ = []\n",
    "scores_ = []\n",
    "for a in alphas:\n",
    "    lasso_mod.set_params(C=a)\n",
    "    # Appends the accuracy of the model\n",
    "    scores_.append(np.mean(cross_val_score(\n",
    "        lasso_mod, dummified_hr_df, y, cv=5)))\n",
    "    # Appends the coefficient of the model\n",
    "    coefs_.append(lasso_mod.fit(dummified_hr_df, y).coef_.ravel().copy())\n",
    "\n",
    "coefs_ = np.array(coefs_)\n",
    "scores_ = np.array(scores_)"
   ]
  },
  {
   "cell_type": "code",
   "execution_count": 111,
   "metadata": {
    "id": "ZzJXVpiqU3Kk",
    "outputId": "bb7aae40-36e4-4784-ecab-bcc93a5d7d96",
    "slideshow": {
     "slide_type": "slide"
    }
   },
   "outputs": [
    {
     "data": {
      "image/png": "[encoded data removed]",
      "text/plain": [
       "<Figure size 1440x720 with 2 Axes>"
      ]
     },
     "metadata": {
      "needs_background": "light"
     },
     "output_type": "display_data"
    }
   ],
   "source": [
    "fig, (ax1, ax2) = plt.subplots(1, 2, figsize=(20, 10))\n",
    "fig.suptitle('Logistic Regression Path', fontsize=20)\n",
    "\n",
    "# Coeff Weights Plot\n",
    "ax1.plot(alphas, coefs_, marker='o')\n",
    "ymin, ymax = plt.ylim()\n",
    "ax1.set_ylabel('Coefficient Weights', fontsize=15)\n",
    "ax1.set_xlabel('log(C)', fontsize=15)\n",
    "ax1.axis('tight')\n",
    "\n",
    "# Accuracy Plot\n",
    "ax2.plot(alphas, scores_, marker='o')\n",
    "ymin, ymax = plt.ylim()\n",
    "ax2.set_ylabel('Accuracy Score', fontsize=15)\n",
    "ax2.set_xlabel('log(C)', fontsize=15)\n",
    "ax2.axis('tight')\n",
    "\n",
    "plt.show()"
   ]
  },
  {
   "cell_type": "markdown",
   "metadata": {
    "id": "ZSCKBikZU3Kl",
    "slideshow": {
     "slide_type": "subslide"
    }
   },
   "source": [
    "As can be seen in both graphs, Lasso regularization is more abrupt. If you remember from class, Lasso tries to nullify the coefficients (Ridge only tries to smooth their values). As a consequence, when regularization is large enough, many coefficient values are close to 0. You should be very careful when applying this regularization. If the regularization parameter is too restrictive, you will remove most of your features, and consequently, you'll ruin the performance of your model (as you can check in the right figure)."
   ]
  },
  {
   "cell_type": "markdown",
   "metadata": {
    "id": "WwZGancRU3Kl",
    "slideshow": {
     "slide_type": "slide"
    }
   },
   "source": [
    "As with Rigde, you can use CV to find the optimal alpha value."
   ]
  },
  {
   "cell_type": "code",
   "execution_count": 114,
   "metadata": {
    "id": "-D8HxDRqU3Kl",
    "outputId": "b8ef537f-7717-41dd-94de-85dce81e39c8"
   },
   "outputs": [
    {
     "name": "stdout",
     "output_type": "stream",
     "text": [
      "Accuracy = 0.877\n"
     ]
    }
   ],
   "source": [
    "from sklearn.feature_selection import SelectFromModel\n",
    "\n",
    "lasso_mod_cv = linear_model.LogisticRegressionCV(\n",
    "    max_iter=100, penalty='l1', solver='liblinear', Cs=alphas)\n",
    "print(\"Accuracy = {:.4}\".format(\n",
    "    np.mean(cross_val_score(lasso_mod_cv, dummified_hr_df, y, cv=5))))"
   ]
  },
  {
   "cell_type": "markdown",
   "metadata": {
    "id": "S3-xraVEU3Km",
    "slideshow": {
     "slide_type": "slide"
    }
   },
   "source": [
    "Since Lasso is actually performing Feature Selection (i.e., it nullifies/removes unimportant features) you can apply the trained model to transform your dataset to keep only the features selected by Lasso"
   ]
  },
  {
   "cell_type": "code",
   "execution_count": 115,
   "metadata": {
    "id": "QY0UFhRFU3Kn",
    "outputId": "642d5ac3-baa4-4386-848f-7a2f94a520f4"
   },
   "outputs": [
    {
     "name": "stdout",
     "output_type": "stream",
     "text": [
      "Original Number of Features = 37 --> Number of features selected by Lasso = 9\n"
     ]
    }
   ],
   "source": [
    "lasso_mod_cv.fit(dummified_hr_df, y)\n",
    "model = SelectFromModel(lasso_mod_cv, prefit=True)\n",
    "X_new = model.transform(dummified_hr_df)\n",
    "\n",
    "print(\"Original Number of Features = {} --> Number of features selected by Lasso = {}\".format(\n",
    "    dummified_hr_df.shape[1], X_new.shape[1]))"
   ]
  },
  {
   "cell_type": "markdown",
   "metadata": {
    "id": "X-CxrVIrU3Kn",
    "slideshow": {
     "slide_type": "slide"
    }
   },
   "source": [
    "Let's train a new model by just using these features."
   ]
  },
  {
   "cell_type": "code",
   "execution_count": 118,
   "metadata": {
    "id": "CQy5jBmEU3Kn",
    "outputId": "abd79a61-50ce-4c4b-b8fa-6e53e339c8d3"
   },
   "outputs": [
    {
     "name": "stdout",
     "output_type": "stream",
     "text": [
      "Accuracy = 0.8615\n"
     ]
    }
   ],
   "source": [
    "reduced_lasso_mod = linear_model.LogisticRegression(\n",
    "    max_iter=100, penalty='l1', solver='liblinear')\n",
    "print(\"Accuracy = {:.4}\".format(\n",
    "    np.mean(cross_val_score(reduced_lasso_mod, X_new, y, cv=5))))"
   ]
  },
  {
   "cell_type": "code",
   "execution_count": 117,
   "metadata": {
    "id": "b45x5KT2U3Ko",
    "outputId": "0281b3d2-1e16-448e-a62b-60ad856d0cc1",
    "slideshow": {
     "slide_type": "slide"
    }
   },
   "outputs": [
    {
     "data": {
      "text/html": [
       "<style type=\"text/css\">\n",
       "#T_aa6d4_row0_col1 {\n",
       "  width: 10em;\n",
       "  background: linear-gradient(90deg, transparent 50.0%, green 50.0%, green 59.1%, transparent 59.1%);\n",
       "}\n",
       "#T_aa6d4_row1_col1 {\n",
       "  width: 10em;\n",
       "  background: linear-gradient(90deg, transparent 50.0%, green 50.0%, green 55.3%, transparent 55.3%);\n",
       "}\n",
       "#T_aa6d4_row2_col1 {\n",
       "  width: 10em;\n",
       "  background: linear-gradient(90deg, transparent 49.1%, red 49.1%, red 50.0%, transparent 50.0%);\n",
       "}\n",
       "#T_aa6d4_row3_col1 {\n",
       "  width: 10em;\n",
       "  background: linear-gradient(90deg, transparent 46.5%, red 46.5%, red 50.0%, transparent 50.0%);\n",
       "}\n",
       "#T_aa6d4_row4_col1 {\n",
       "  width: 10em;\n",
       "  background: linear-gradient(90deg, transparent 32.0%, red 32.0%, red 50.0%, transparent 50.0%);\n",
       "}\n",
       "#T_aa6d4_row5_col1 {\n",
       "  width: 10em;\n",
       "  background: linear-gradient(90deg, transparent 14.6%, red 14.6%, red 50.0%, transparent 50.0%);\n",
       "}\n",
       "#T_aa6d4_row6_col1 {\n",
       "  width: 10em;\n",
       "  background: linear-gradient(90deg, transparent 12.3%, red 12.3%, red 50.0%, transparent 50.0%);\n",
       "}\n",
       "#T_aa6d4_row7_col1 {\n",
       "  width: 10em;\n",
       "  background: linear-gradient(90deg, transparent 7.1%, red 7.1%, red 50.0%, transparent 50.0%);\n",
       "}\n",
       "#T_aa6d4_row8_col1 {\n",
       "  width: 10em;\n",
       "  background: linear-gradient(90deg, red 50.0%, transparent 50.0%);\n",
       "}\n",
       "</style>\n",
       "<table id=\"T_aa6d4\">\n",
       "  <thead>\n",
       "    <tr>\n",
       "      <th class=\"blank level0\" >&nbsp;</th>\n",
       "      <th id=\"T_aa6d4_level0_col0\" class=\"col_heading level0 col0\" >variable</th>\n",
       "      <th id=\"T_aa6d4_level0_col1\" class=\"col_heading level0 col1\" >coefficient</th>\n",
       "    </tr>\n",
       "  </thead>\n",
       "  <tbody>\n",
       "    <tr>\n",
       "      <th id=\"T_aa6d4_level0_row0\" class=\"row_heading level0 row0\" >2</th>\n",
       "      <td id=\"T_aa6d4_row0_col0\" class=\"data row0 col0\" >salary_low</td>\n",
       "      <td id=\"T_aa6d4_row0_col1\" class=\"data row0 col1\" >0.720000</td>\n",
       "    </tr>\n",
       "    <tr>\n",
       "      <th id=\"T_aa6d4_level0_row1\" class=\"row_heading level0 row1\" >5</th>\n",
       "      <td id=\"T_aa6d4_row1_col0\" class=\"data row1 col0\" >satisfaction_level_bin_2</td>\n",
       "      <td id=\"T_aa6d4_row1_col1\" class=\"data row1 col1\" >0.420000</td>\n",
       "    </tr>\n",
       "    <tr>\n",
       "      <th id=\"T_aa6d4_level0_row2\" class=\"row_heading level0 row2\" >7</th>\n",
       "      <td id=\"T_aa6d4_row2_col0\" class=\"data row2 col0\" >number_project_cat_Medium</td>\n",
       "      <td id=\"T_aa6d4_row2_col1\" class=\"data row2 col1\" >-0.070000</td>\n",
       "    </tr>\n",
       "    <tr>\n",
       "      <th id=\"T_aa6d4_level0_row3\" class=\"row_heading level0 row3\" >3</th>\n",
       "      <td id=\"T_aa6d4_row3_col0\" class=\"data row3 col0\" >satisfaction_level_bin_0</td>\n",
       "      <td id=\"T_aa6d4_row3_col1\" class=\"data row3 col1\" >-0.280000</td>\n",
       "    </tr>\n",
       "    <tr>\n",
       "      <th id=\"T_aa6d4_level0_row4\" class=\"row_heading level0 row4\" >1</th>\n",
       "      <td id=\"T_aa6d4_row4_col0\" class=\"data row4 col0\" >Work_accident_1</td>\n",
       "      <td id=\"T_aa6d4_row4_col1\" class=\"data row4 col1\" >-1.420000</td>\n",
       "    </tr>\n",
       "    <tr>\n",
       "      <th id=\"T_aa6d4_level0_row5\" class=\"row_heading level0 row5\" >6</th>\n",
       "      <td id=\"T_aa6d4_row5_col0\" class=\"data row5 col0\" >satisfaction_level_bin_3</td>\n",
       "      <td id=\"T_aa6d4_row5_col1\" class=\"data row5 col1\" >-2.800000</td>\n",
       "    </tr>\n",
       "    <tr>\n",
       "      <th id=\"T_aa6d4_level0_row6\" class=\"row_heading level0 row6\" >8</th>\n",
       "      <td id=\"T_aa6d4_row6_col0\" class=\"data row6 col0\" >time_spend_company_cat_Low</td>\n",
       "      <td id=\"T_aa6d4_row6_col1\" class=\"data row6 col1\" >-2.980000</td>\n",
       "    </tr>\n",
       "    <tr>\n",
       "      <th id=\"T_aa6d4_level0_row7\" class=\"row_heading level0 row7\" >4</th>\n",
       "      <td id=\"T_aa6d4_row7_col0\" class=\"data row7 col0\" >satisfaction_level_bin_1</td>\n",
       "      <td id=\"T_aa6d4_row7_col1\" class=\"data row7 col1\" >-3.390000</td>\n",
       "    </tr>\n",
       "    <tr>\n",
       "      <th id=\"T_aa6d4_level0_row8\" class=\"row_heading level0 row8\" >0</th>\n",
       "      <td id=\"T_aa6d4_row8_col0\" class=\"data row8 col0\" >satisfaction_level</td>\n",
       "      <td id=\"T_aa6d4_row8_col1\" class=\"data row8 col1\" >-3.950000</td>\n",
       "    </tr>\n",
       "  </tbody>\n",
       "</table>\n"
      ],
      "text/plain": [
       "<pandas.io.formats.style.Styler at 0x12f52d4c0>"
      ]
     },
     "execution_count": 117,
     "metadata": {},
     "output_type": "execute_result"
    }
   ],
   "source": [
    "get_feature_importance(reduced_lasso_mod.fit(X_new,y), dummified_hr_df.columns[model.get_support()].get_level_values(0).tolist())"
   ]
  },
  {
   "cell_type": "markdown",
   "metadata": {
    "id": "52cXDE0wU3Ko"
   },
   "source": [
    "Performance is quite similar, however, we have achieved it with almost half the features than with the original model. As discussed many times, models using less features are preferable: less complexity, less computation time, more explainable and less prone to over-fitting."
   ]
  }
 ],
 "metadata": {
  "celltoolbar": "Slideshow",
  "colab": {
   "include_colab_link": true,
   "name": "Practice Solution.ipynb",
   "provenance": [],
   "toc_visible": true
  },
  "kernelspec": {
   "display_name": "Python 3 (ipykernel)",
   "language": "python",
   "name": "python3"
  },
  "language_info": {
   "codemirror_mode": {
    "name": "ipython",
    "version": 3
   },
   "file_extension": ".py",
   "mimetype": "text/x-python",
   "name": "python",
   "nbconvert_exporter": "python",
   "pygments_lexer": "ipython3",
   "version": "3.9.4"
  },
  "rise": {
   "auto_select": "code",
   "scroll": true,
   "theme": "white",
   "transition": "slide"
  }
 },
 "nbformat": 4,
 "nbformat_minor": 1
}
