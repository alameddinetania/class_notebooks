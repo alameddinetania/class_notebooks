{
  "cells": [
    {
      "cell_type": "markdown",
      "metadata": {
        "id": "view-in-github",
        "colab_type": "text"
      },
      "source": [
        "<a href=\"https://colab.research.google.com/github/renero/class_notebooks/blob/master/Evaluation%20Practice/practice_solution.ipynb\" target=\"_parent\"><img src=\"https://colab.research.google.com/assets/colab-badge.svg\" alt=\"Open In Colab\"/></a>"
      ]
    },
    {
      "cell_type": "markdown",
      "source": [
        "Execute the cell below ONLY if you're preparing the RISE slides."
      ],
      "metadata": {
        "id": "PqvhpmoN-Vyj"
      }
    },
    {
      "cell_type": "code",
      "execution_count": null,
      "metadata": {
        "id": "BjQqAEGu-SjP",
        "outputId": "9496a175-8b53-48bc-fea9-4a02d4959c3a"
      },
      "outputs": [
        {
          "data": {
            "text/html": [
              "<style>\n",
              "\n",
              ".CodeMirror {\n",
              "    width: 100vw;\n",
              "    font-size: 16px !important;\n",
              "    font-family: monospace;\n",
              "}\n",
              "\n",
              ".container {\n",
              "    width: 90% !important;\n",
              "}\n",
              "\n",
              ".rendered_html {\n",
              "    font-size: 20px !important;\n",
              "}\n",
              "\n",
              ".rise-enabled .fa-times-circle:before,\n",
              ".rise-enabled .fa-question:before,\n",
              ".rise-enabled aside.controls {\n",
              "    opacity: 0.3;\n",
              "}\n",
              "\n",
              "# Change output font size\n",
              ".rendered_html table {\n",
              "    font-size: 14px !important;\n",
              "}\n",
              "\n",
              "# Change inner background (for code)\n",
              "div.input_area {\n",
              "    background: white !important;\n",
              "    font-size: 14px !important;\n",
              "}\n",
              "\n",
              "body.rise-enabled div.output_subarea.output_text.output_result {\n",
              "    font-size: 75%;\n",
              "}\n",
              "\n",
              "body.rise-enabled div.output_subarea.output_text.output_stream.output_stdout {\n",
              "  font-size: 75%;\n",
              "}\n",
              "\n",
              ".rendered_html table, .rendered_html th, .rendered_html tr, .rendered_html td {\n",
              "    font-size: 14px !important;\n",
              "    font-family: monospace;\n",
              "}\n",
              "\n",
              "</style>\n"
            ],
            "text/plain": [
              "<IPython.core.display.HTML object>"
            ]
          },
          "metadata": {},
          "output_type": "display_data"
        }
      ],
      "source": [
        "%%HTML\n",
        "<style>\n",
        "\n",
        ".CodeMirror {\n",
        "    width: 100vw;\n",
        "    font-size: 16px !important;\n",
        "    font-family: monospace;\n",
        "}\n",
        "\n",
        ".container {\n",
        "    width: 90% !important;\n",
        "}\n",
        "\n",
        ".rendered_html {\n",
        "    font-size: 20px !important;\n",
        "}\n",
        "\n",
        ".rise-enabled .fa-times-circle:before,\n",
        ".rise-enabled .fa-question:before,\n",
        ".rise-enabled aside.controls {\n",
        "    opacity: 0.3;\n",
        "}\n",
        "\n",
        "# Change output font size\n",
        ".rendered_html table {\n",
        "    font-size: 14px !important;\n",
        "}\n",
        "\n",
        "# Change inner background (for code)\n",
        "div.input_area {\n",
        "    background: white !important;\n",
        "    font-size: 14px !important;\n",
        "}\n",
        "\n",
        "body.rise-enabled div.output_subarea.output_text.output_result {\n",
        "    font-size: 75%;\n",
        "}\n",
        "\n",
        "body.rise-enabled div.output_subarea.output_text.output_stream.output_stdout {\n",
        "  font-size: 75%;\n",
        "}\n",
        "\n",
        ".rendered_html table, .rendered_html th, .rendered_html tr, .rendered_html td {\n",
        "    font-size: 14px !important;\n",
        "    font-family: monospace;\n",
        "}\n",
        "\n",
        "</style>"
      ]
    },
    {
      "cell_type": "markdown",
      "metadata": {
        "id": "coUhsrt20sOI"
      },
      "source": [
        "# Google Colab Configuration\n",
        "\n",
        "**Execute this steps to configure the Google Colab environment in order to execute this notebook. It is not required if you are executing it locally and you have properly configured your local environment according to what explained in the Github Repository.**\n",
        "\n",
        "The first step is to clone the repository to have access to all the data and files."
      ]
    },
    {
      "cell_type": "code",
      "execution_count": 1,
      "metadata": {
        "id": "19ecQfLVZGvm"
      },
      "outputs": [],
      "source": [
        "repository_name = \"class_notebooks\"\n",
        "repository_url = 'https://github.com/renero/' + repository_name"
      ]
    },
    {
      "cell_type": "code",
      "execution_count": 2,
      "metadata": {
        "colab": {
          "base_uri": "https://localhost:8080/"
        },
        "collapsed": true,
        "id": "DMgL9W4-0wXE",
        "outputId": "8a002e42-fc2f-4081-aec5-03afe2e9ba9f"
      },
      "outputs": [
        {
          "output_type": "stream",
          "name": "stdout",
          "text": [
            "Cloning into 'class_notebooks'...\n",
            "remote: Enumerating objects: 619, done.\u001b[K\n",
            "remote: Counting objects: 100% (165/165), done.\u001b[K\n",
            "remote: Compressing objects: 100% (109/109), done.\u001b[K\n",
            "remote: Total 619 (delta 70), reused 146 (delta 54), pack-reused 454\u001b[K\n",
            "Receiving objects: 100% (619/619), 13.41 MiB | 18.14 MiB/s, done.\n",
            "Resolving deltas: 100% (330/330), done.\n"
          ]
        }
      ],
      "source": [
        "! git clone $repository_url"
      ]
    },
    {
      "cell_type": "markdown",
      "metadata": {
        "id": "5gAhosq70ypp"
      },
      "source": [
        "Install the requirements"
      ]
    },
    {
      "cell_type": "code",
      "execution_count": 3,
      "metadata": {
        "id": "Dy8O4JuL00hJ",
        "outputId": "fccb7d1f-972d-41f0-c59d-52bbfb471e1d",
        "colab": {
          "base_uri": "https://localhost:8080/"
        }
      },
      "outputs": [
        {
          "output_type": "stream",
          "name": "stdout",
          "text": [
            "\u001b[K     |████████████████████████████████| 69 kB 4.4 MB/s \n",
            "\u001b[K     |████████████████████████████████| 62 kB 1.0 MB/s \n",
            "\u001b[K     |████████████████████████████████| 362 kB 35.5 MB/s \n",
            "\u001b[K     |████████████████████████████████| 47 kB 3.0 MB/s \n",
            "\u001b[K     |████████████████████████████████| 631 kB 11.3 MB/s \n",
            "\u001b[K     |████████████████████████████████| 510 kB 39.3 MB/s \n",
            "\u001b[K     |████████████████████████████████| 793 kB 7.5 MB/s \n",
            "\u001b[K     |████████████████████████████████| 13.1 MB 33.8 MB/s \n",
            "\u001b[K     |████████████████████████████████| 268 kB 53.7 MB/s \n",
            "\u001b[K     |████████████████████████████████| 15.2 MB 43.6 MB/s \n",
            "\u001b[K     |████████████████████████████████| 285 kB 54.0 MB/s \n",
            "\u001b[K     |████████████████████████████████| 1.2 MB 54.0 MB/s \n",
            "\u001b[K     |████████████████████████████████| 9.8 MB 47.3 MB/s \n",
            "\u001b[K     |████████████████████████████████| 255.9 MB 46 kB/s \n",
            "\u001b[K     |████████████████████████████████| 281 kB 81.8 MB/s \n",
            "\u001b[K     |████████████████████████████████| 207 kB 69.6 MB/s \n",
            "\u001b[K     |████████████████████████████████| 508 kB 58.1 MB/s \n",
            "\u001b[K     |████████████████████████████████| 508 kB 55.9 MB/s \n",
            "\u001b[K     |████████████████████████████████| 507 kB 54.3 MB/s \n",
            "\u001b[K     |████████████████████████████████| 1.6 MB 48.8 MB/s \n",
            "\u001b[K     |████████████████████████████████| 690 kB 63.7 MB/s \n",
            "\u001b[K     |████████████████████████████████| 262 kB 62.9 MB/s \n",
            "\u001b[K     |████████████████████████████████| 102 kB 12.6 MB/s \n",
            "\u001b[K     |████████████████████████████████| 261 kB 83.2 MB/s \n",
            "\u001b[K     |████████████████████████████████| 248 kB 66.8 MB/s \n",
            "\u001b[K     |████████████████████████████████| 245 kB 66.2 MB/s \n",
            "\u001b[K     |████████████████████████████████| 4.7 MB 64.6 MB/s \n",
            "\u001b[K     |████████████████████████████████| 102 kB 80.4 MB/s \n",
            "\u001b[K     |████████████████████████████████| 244 kB 61.0 MB/s \n",
            "\u001b[K     |████████████████████████████████| 75 kB 5.5 MB/s \n",
            "\u001b[K     |████████████████████████████████| 243 kB 67.6 MB/s \n",
            "\u001b[K     |████████████████████████████████| 240 kB 68.2 MB/s \n",
            "\u001b[K     |████████████████████████████████| 239 kB 54.8 MB/s \n",
            "\u001b[K     |████████████████████████████████| 258 kB 63.7 MB/s \n",
            "\u001b[K     |████████████████████████████████| 64 kB 4.7 MB/s \n",
            "\u001b[K     |████████████████████████████████| 259 kB 65.1 MB/s \n",
            "\u001b[K     |████████████████████████████████| 252 kB 63.1 MB/s \n",
            "\u001b[K     |████████████████████████████████| 58 kB 8.0 MB/s \n",
            "\u001b[K     |████████████████████████████████| 252 kB 47.1 MB/s \n",
            "\u001b[K     |████████████████████████████████| 102 kB 64.6 MB/s \n",
            "\u001b[K     |████████████████████████████████| 241 kB 81.8 MB/s \n",
            "\u001b[K     |████████████████████████████████| 192 kB 77.1 MB/s \n",
            "\u001b[K     |████████████████████████████████| 150 kB 70.3 MB/s \n",
            "\u001b[?25h  Building wheel for imgaug (setup.py) ... \u001b[?25l\u001b[?25hdone\n",
            "  Building wheel for atlas (setup.py) ... \u001b[?25l\u001b[?25hdone\n",
            "  Building wheel for dtreeviz (setup.py) ... \u001b[?25l\u001b[?25hdone\n",
            "  Building wheel for pandas-profiling (setup.py) ... \u001b[?25l\u001b[?25hdone\n",
            "  Building wheel for htmlmin (setup.py) ... \u001b[?25l\u001b[?25hdone\n",
            "  Building wheel for skrebate (setup.py) ... \u001b[?25l\u001b[?25hdone\n",
            "\u001b[31mERROR: pip's dependency resolver does not currently take into account all the packages that are installed. This behaviour is the source of the following dependency conflicts.\n",
            "numba 0.56.2 requires setuptools<60, but you have setuptools 65.3.0 which is incompatible.\n",
            "google-colab 1.0.0 requires ipython~=7.9.0, but you have ipython 7.34.0 which is incompatible.\u001b[0m\n"
          ]
        }
      ],
      "source": [
        "! pip install -Uqqr $repository_name/requirements.txt"
      ]
    },
    {
      "cell_type": "markdown",
      "metadata": {
        "id": "-49AD1qpk7jH"
      },
      "source": [
        "Everything is set up properly! You can now move on to the practice code.\n",
        "\n",
        "I do recommend you to restart the environment at this point to ensure that Google Colab is aware of the installed packages and their configuration (see image below).\n",
        "\n",
        "![image.png](data:image/png;base64,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)"
      ]
    },
    {
      "cell_type": "markdown",
      "metadata": {
        "id": "I9_rsElsOh1_"
      },
      "source": [
        "# Evaluation Metrics Practice"
      ]
    },
    {
      "cell_type": "markdown",
      "metadata": {
        "id": "T6rPx_b2c43D"
      },
      "source": [
        "Go to the practice directory\n",
        "\n"
      ]
    },
    {
      "cell_type": "code",
      "execution_count": 4,
      "metadata": {
        "id": "IPNxL2Vsch3w",
        "outputId": "69be355f-d5c8-4b5c-8a54-8cbb46270516",
        "colab": {
          "base_uri": "https://localhost:8080/"
        }
      },
      "outputs": [
        {
          "output_type": "stream",
          "name": "stdout",
          "text": [
            "/content/class_notebooks/Evaluation Practice\n"
          ]
        }
      ],
      "source": [
        "%cd \"$repository_name/Evaluation Practice\""
      ]
    },
    {
      "cell_type": "markdown",
      "metadata": {
        "id": "l05n5DfhUPWk"
      },
      "source": [
        "The following code includes some imports and configuration steps for better visualization"
      ]
    },
    {
      "cell_type": "code",
      "execution_count": 5,
      "metadata": {
        "colab": {
          "base_uri": "https://localhost:8080/",
          "height": 17
        },
        "id": "hj-rVLo9Te7t",
        "outputId": "69fedbbe-cc33-4015-cd10-2850aa5f95f5"
      },
      "outputs": [
        {
          "output_type": "display_data",
          "data": {
            "text/plain": [
              "<IPython.core.display.HTML object>"
            ],
            "text/html": [
              "<style>.container { width:100% !important; }</style>"
            ]
          },
          "metadata": {}
        },
        {
          "output_type": "display_data",
          "data": {
            "text/plain": [
              "<IPython.core.display.HTML object>"
            ],
            "text/html": [
              "<style>.rendered_html { font-size: 16px; }</style>"
            ]
          },
          "metadata": {}
        }
      ],
      "source": [
        "import warnings\n",
        "import numpy as np\n",
        "import pandas as pd\n",
        "import matplotlib.pyplot as plt\n",
        "import matplotlib\n",
        "from IPython.core.display import display, HTML\n",
        "\n",
        "# Increase cell width\n",
        "display(HTML(\"<style>.container { width:100% !important; }</style>\"))\n",
        "# Increase font size\n",
        "display(HTML(\"<style>.rendered_html { font-size: 16px; }</style>\"))\n",
        "\n",
        "# Larger figures\n",
        "\n",
        "%matplotlib inline\n",
        "\n",
        "\n",
        "warnings.filterwarnings('ignore')  # Do not print warning messages\n"
      ]
    },
    {
      "cell_type": "markdown",
      "metadata": {
        "id": "8nEPxxLi-Sjc"
      },
      "source": [
        "## Data prep."
      ]
    },
    {
      "cell_type": "code",
      "execution_count": 6,
      "metadata": {
        "id": "BO7TXubeVPSW"
      },
      "outputs": [],
      "source": [
        "df = pd.read_csv(\"data/titanic.csv\", sep=\";\")\n",
        "df['sex'].replace(['female', 'male'], [0, 1], inplace=True)\n",
        "df['embarked'].replace(['Q', 'S', 'C'], [0, 1, 2], inplace=True)\n",
        "# The numbers include commas instead of dots (26,4 instead of 26.4). We have\n",
        "# to change it to allow its conversion to float\n",
        "df['age'] = df.age.apply(lambda x: str(x).replace(',', '.')).astype('float64')\n",
        "# The nummbers include commas instead of dots (26,4 instead of 26.4). We have\n",
        "# to change it to allow its conversion to float\n",
        "df['fare'] = df.fare.apply(lambda x: str(\n",
        "    x).replace(',', '.')).astype('float64')\n",
        "\n",
        "# These tqo fields are incomplete or contain ID numbers\n",
        "del df['cabin']\n",
        "del df['ticket']\n",
        "\n",
        "# Imputation of missing age fields with the mean value\n",
        "df['age'] = df['age'].replace(np.nan, df[\"age\"].mean())\n",
        "\n",
        "# No imputation for the remaining NAs.\n",
        "df.dropna(inplace=True)\n"
      ]
    },
    {
      "cell_type": "markdown",
      "metadata": {
        "id": "BRY-p5kWVPSX"
      },
      "source": [
        "# Training & Model Evaluation\n",
        "\n",
        "Now it's time to train a model.\n",
        "\n",
        "I have created 2 functions, the `split_df` function that we already know and the `model_evaluation` function that takes care of training the Logistic Regression Model, predict the probability of survival, compute the ROC Curve, find the optimal threshold value according to the ROC Curve and compute the model accuracy for this threshold."
      ]
    },
    {
      "cell_type": "code",
      "execution_count": 7,
      "metadata": {
        "code_folding": [],
        "id": "zcsWjQNyVPSc"
      },
      "outputs": [],
      "source": [
        "from sklearn.model_selection import train_test_split\n",
        "from sklearn import linear_model\n",
        "from sklearn.metrics import roc_curve, roc_auc_score, accuracy_score\n",
        "from sklearn.preprocessing import OneHotEncoder\n",
        "from sklearn.model_selection import train_test_split\n",
        "\n",
        "\n",
        "def split_df(dataframe, seed=None, percentage=0.8):\n",
        "    X = dataframe.loc[:, dataframe.columns != 'survived']\n",
        "    y = dataframe['survived']\n",
        "\n",
        "    return train_test_split(X, y, test_size=1-percentage, random_state=seed)"
      ]
    },
    {
      "cell_type": "code",
      "execution_count": 8,
      "metadata": {
        "code_folding": [],
        "id": "N6K6XjCd-Sje"
      },
      "outputs": [],
      "source": [
        "def model_evaluation(X_train, y_train, X_test, y_test):\n",
        "    model = linear_model.LogisticRegression(max_iter=100, solver='liblinear')\n",
        "    model.fit(X_train, y_train)\n",
        "\n",
        "    # The predicted probabilities given to each sample in the test set.\n",
        "    # `predict_proba` gives you the probabilities of both classes, we\n",
        "    # take the probs of class 1 for simplicity.\n",
        "    probs = model.predict_proba(X_test)[:, 1]\n",
        "\n",
        "    # The predictions in the form of a dataset to make manipulation easier.\n",
        "    # We put together here 'labels' and 'probabilities'.\n",
        "    predictions = pd.DataFrame({'survived': y_test, 'pred': probs})\n",
        "\n",
        "    # ROC\n",
        "    fpr, tpr, thresholds = roc_curve(predictions.survived, predictions.pred)\n",
        "\n",
        "    # Find the optimal threshold\n",
        "    optimal_idx = np.argmax(tpr - fpr)\n",
        "    optimal_threshold = thresholds[optimal_idx]\n",
        "\n",
        "    # Accuracy Score\n",
        "    acc = accuracy_score(\n",
        "        y_test, [pred > optimal_threshold for pred in predictions.pred])\n",
        "    return acc"
      ]
    },
    {
      "cell_type": "markdown",
      "metadata": {
        "id": "CGeeTT2GVPSg"
      },
      "source": [
        "# Solution #1\n",
        "\n",
        "*Measure how your model results change when using different test sets. To do that, simply start over the process at least 10 times with different splits of the full dataset into training and test. Result might differ, so illustrate that difference in performance*.\n",
        "\n",
        "Now we only need to iterate _n_ times, so the general process implies to repeat steps 1 to 3, _n_ times:\n",
        "\n",
        "1. Produce a 80-20% split. If we use the `split_df` function without setting any random seed, it will randomly generate a different splitting every time.\n",
        "2. Fit a model, and evaluate its performance by using the `model_evaluation` method, and \n",
        "3. Get the maximum performance achieved among the _n_ different results obtained."
      ]
    },
    {
      "cell_type": "code",
      "execution_count": 9,
      "metadata": {
        "colab": {
          "base_uri": "https://localhost:8080/"
        },
        "id": "8B6qsvkCVPSh",
        "outputId": "40c61186-2847-49db-f9c9-97539a0ee5a3"
      },
      "outputs": [
        {
          "output_type": "stream",
          "name": "stdout",
          "text": [
            "Max perfomance = 0.8626\n"
          ]
        }
      ],
      "source": [
        "perf = []\n",
        "num_iterations = 100\n",
        "\n",
        "for i in range(1, num_iterations):\n",
        "    X_train, X_test, y_train, y_test = split_df(df)\n",
        "    perf.append(model_evaluation(X_train, y_train, X_test, y_test))\n",
        "\n",
        "index_of_max_performance = np.argmax(perf)\n",
        "max_perf = perf[index_of_max_performance]\n",
        "\n",
        "index_of_min_performance = np.argmin(perf)\n",
        "min_perf = perf[index_of_min_performance]\n",
        "\n",
        "print(\"Max perfomance = {0:.4f}\".format(max_perf))\n"
      ]
    },
    {
      "cell_type": "markdown",
      "metadata": {
        "id": "E39eTnjrVPSk"
      },
      "source": [
        "### Compare with single split\n",
        "\n",
        "What would be the performance without iterating over different splits? Lets try:"
      ]
    },
    {
      "cell_type": "code",
      "execution_count": 10,
      "metadata": {
        "colab": {
          "base_uri": "https://localhost:8080/"
        },
        "id": "oKbtSkhqVPSk",
        "outputId": "83a9e107-7693-4daf-e191-c901a9f57c40"
      },
      "outputs": [
        {
          "output_type": "stream",
          "name": "stdout",
          "text": [
            "Single Split Peformance = 0.7863\n"
          ]
        }
      ],
      "source": [
        "X_train, X_test, y_train, y_test = split_df(df, seed=123)\n",
        "single_split_performance = model_evaluation(X_train, y_train, X_test, y_test)\n",
        "print(\"Single Split Peformance = {0:.4f}\".format(single_split_performance))\n"
      ]
    },
    {
      "cell_type": "markdown",
      "metadata": {
        "id": "ccMlD_90VPSk"
      },
      "source": [
        "# Conclusion \n",
        "\n",
        "Plot everything together: the performance of the different splits, the max and min performance achieved (in red color), and the performance of a single split (grey color)."
      ]
    },
    {
      "cell_type": "code",
      "execution_count": 11,
      "metadata": {
        "colab": {
          "base_uri": "https://localhost:8080/",
          "height": 632
        },
        "id": "xX1H-C63VPSl",
        "outputId": "7862f582-1f56-447b-e574-1797a44245e7"
      },
      "outputs": [
        {
          "output_type": "display_data",
          "data": {
            "text/plain": [
              "<Figure size 720x720 with 1 Axes>"
            ],
            "image/png": "[encoded data removed]"
          },
          "metadata": {
            "needs_background": "light"
          }
        }
      ],
      "source": [
        "plt.figure(figsize=(10, 10))\n",
        "plt.plot(perf, 'bo', alpha=0.5)\n",
        "plt.title(\"Performance Variation\", fontsize=20)\n",
        "plt.xlabel(\"Iterations\", fontsize=16)\n",
        "plt.ylabel(\"Performance\", fontsize=16)\n",
        "\n",
        "plt.axhline(y=max_perf, color='r', linestyle='--', linewidth=5)\n",
        "plt.text(perf[index_of_max_performance], max_perf-0.005,\n",
        "         \"{0:.2f}\".format(max_perf), fontsize=16, color='r')\n",
        "\n",
        "plt.axhline(y=min_perf, color='r', linestyle='--', linewidth=5)\n",
        "plt.text(perf[index_of_min_performance], min_perf+0.005,\n",
        "         \"{0:.2f}\".format(min_perf), fontsize=16, color='r')\n",
        "\n",
        "plt.axhline(y=single_split_performance, color='grey', linestyle='--', linewidth=5)\n",
        "plt.text(1, single_split_performance-0.005, \"{0:.3f}\".format(\n",
        "    single_split_performance), fontsize=16, color='black', fontweight='bold')\n",
        "plt.show();"
      ]
    },
    {
      "cell_type": "markdown",
      "metadata": {
        "id": "iPRso-ALVPSl"
      },
      "source": [
        "\n",
        "Obviously, by increasing the number of iterations, we also expose our model to more heterogeneous datasets, increasing the chance to find a dataset that produces the best possible result."
      ]
    },
    {
      "cell_type": "markdown",
      "metadata": {
        "id": "qmfTNB2HVPSm"
      },
      "source": [
        "# Solution #2\n",
        "\n",
        "*Following with the approach of the previous step, let’s go one step further, and apply cross-validation. This is, train your model against 60% of the data. Use another 20% cross-validation set to select the best possible threshold, and finally, measure the performance of that threshold selection against the remaining 20% test set (yet unseen to the model)*.\n",
        "\n",
        "We can reuse most of the code that we've already used in the previous step. The only difference in the portion of the full dataset they represent (60% vs 80% for training, for example), and how do we obtain the final performance of the model."
      ]
    },
    {
      "cell_type": "markdown",
      "metadata": {
        "id": "D4rQBrFvVPSm"
      },
      "source": [
        "## Changes to dataset split\n",
        "\n",
        "We must divide the 100% dataset into 60% and 40% to obtain the 60%-training dataset. We use the same function to split it again into validation and test set.\n"
      ]
    },
    {
      "cell_type": "markdown",
      "metadata": {
        "id": "-entXY1uVPSn"
      },
      "source": [
        "## Changes to model evaluation\n",
        "\n",
        "For the model evaluation part, I decided to modify the previous `model_evaluation` function to receive as input the three datasets (training, validation and test). \n",
        "\n",
        "This new function is called `cv_model_evaluation`. The only difference is that I compute two different sets of predictions: \n",
        "\n",
        "- one is `cv_predictions`, used to determine the optimal threshold, and \n",
        "- the other is `test_predictions` used to compute the performance of the model against the test set, using the optimal threshold computed in the previous step."
      ]
    },
    {
      "cell_type": "code",
      "execution_count": 12,
      "metadata": {
        "id": "C3YwlH9TVPSn"
      },
      "outputs": [],
      "source": [
        "def cv_model_evaluation(X_train, y_train, X_val, y_val, X_test, y_test):\n",
        "\n",
        "    model = linear_model.LogisticRegression(max_iter=100, solver='liblinear')\n",
        "    model.fit(X_train, y_train)\n",
        "\n",
        "    # The predicted probabilities given to each sample in the test set.\n",
        "    # `predict_proba` gives you the probabilities of both classes, we\n",
        "    # take the probs of class 1 for simplicity.\n",
        "    probs = model.predict_proba(X_val)[:, 1]\n",
        "\n",
        "    # Predictions over the validations set to compute the optimal threshold\n",
        "    cv_predictions = pd.DataFrame({'survived': y_val, 'pred': probs})\n",
        "    fpr, tpr, thresholds = roc_curve(\n",
        "        cv_predictions.survived, cv_predictions.pred)\n",
        "\n",
        "    # Find the optimal threshold\n",
        "    optimal_idx = np.argmax(tpr - fpr)\n",
        "    optimal_threshold = thresholds[optimal_idx]\n",
        "\n",
        "    # Accuracy Score computed over the test set\n",
        "    probs = model.predict_proba(X_test)[:, 1]\n",
        "    test_predictions = pd.DataFrame({'survived': y_test, 'pred': probs})\n",
        "\n",
        "    return accuracy_score(y_test, [pred > optimal_threshold for pred in test_predictions.pred])\n"
      ]
    },
    {
      "cell_type": "markdown",
      "metadata": {
        "id": "ypR3V48UVPSn"
      },
      "source": [
        "### Single fold approach\n",
        "\n",
        "The iterative process all in one"
      ]
    },
    {
      "cell_type": "code",
      "execution_count": 13,
      "metadata": {
        "colab": {
          "base_uri": "https://localhost:8080/"
        },
        "id": "3HCrc5VNVPSo",
        "outputId": "a8a78ff8-67d8-4aa7-9252-5250f0b9bb2e"
      },
      "outputs": [
        {
          "output_type": "stream",
          "name": "stdout",
          "text": [
            "Max perfomance = 0.8282\n"
          ]
        }
      ],
      "source": [
        "cv_perf = []\n",
        "num_iterations = 100\n",
        "\n",
        "for i in range(1, num_iterations):\n",
        "    X_train, X_test, y_train, y_test = split_df(df, percentage=0.6)\n",
        "    X_val, X_test, y_val, y_test = split_df(\n",
        "        pd.concat([X_test, y_test], axis=1), percentage=0.5)\n",
        "    cv_perf.append(cv_model_evaluation(\n",
        "        X_train, y_train, X_val, y_val, X_test, y_test))\n",
        "\n",
        "index_of_max_performance = np.argmax(cv_perf)\n",
        "max_perf = cv_perf[index_of_max_performance]\n",
        "\n",
        "index_of_min_performance = np.argmin(cv_perf)\n",
        "min_perf = cv_perf[index_of_min_performance]\n",
        "\n",
        "print(\"Max perfomance = {0:.4f}\".format(max_perf))\n"
      ]
    },
    {
      "cell_type": "markdown",
      "metadata": {
        "id": "QD2IKAvRVPSo"
      },
      "source": [
        "\n",
        "To compare the results obtained with two splits vs. the three splits approach, we can use a simple boxplot, for all the perfomance (accuracy) values obtained."
      ]
    },
    {
      "cell_type": "code",
      "execution_count": 14,
      "metadata": {
        "colab": {
          "base_uri": "https://localhost:8080/",
          "height": 612
        },
        "id": "w3FL-mDUVPSo",
        "outputId": "4d2359a1-9d00-4525-e74b-17821342f501"
      },
      "outputs": [
        {
          "output_type": "display_data",
          "data": {
            "text/plain": [
              "<Figure size 720x720 with 1 Axes>"
            ],
            "image/png": "[encoded data removed]"
          },
          "metadata": {
            "needs_background": "light"
          }
        }
      ],
      "source": [
        "plt.figure(figsize=(10,10))\n",
        "plt.title(\"CV results\", fontsize=20)\n",
        "plt.boxplot(cv_perf);"
      ]
    },
    {
      "cell_type": "markdown",
      "metadata": {
        "id": "TTh8EEiWVPSp"
      },
      "source": [
        "\n",
        "### K-fold Cross Validation approach\n",
        "\n",
        "The previous function applied single cross validation, let's modify the code to perform multifold CV."
      ]
    },
    {
      "cell_type": "code",
      "execution_count": 15,
      "metadata": {
        "colab": {
          "base_uri": "https://localhost:8080/"
        },
        "id": "BaYLoH1hVPSp",
        "outputId": "3c675c13-917f-4f17-e59b-d4cad98091c7"
      },
      "outputs": [
        {
          "output_type": "stream",
          "name": "stdout",
          "text": [
            "Max perfomance = 0.8210\n"
          ]
        }
      ],
      "source": [
        "from sklearn.model_selection import KFold\n",
        "\n",
        "kfold_cv_perf = []\n",
        "num_iterations = 100\n",
        "\n",
        "for i in range(1, num_iterations):\n",
        "    X, X_test, y, y_test = split_df(df, percentage=0.8)\n",
        "\n",
        "    cv = KFold(n_splits=10, random_state=42, shuffle=True)\n",
        "    fold_perf = []\n",
        "    for train_index, val_index in cv.split(X):\n",
        "        X_train, X_val, y_train, y_val = X.iloc[train_index], X.iloc[\n",
        "            val_index], y.iloc[train_index], y.iloc[val_index]\n",
        "        fold_perf.append(cv_model_evaluation(\n",
        "            X_train, y_train, X_val, y_val, X_test, y_test))\n",
        "    kfold_cv_perf.append(np.mean(fold_perf))\n",
        "\n",
        "index_of_max_performance = np.argmax(kfold_cv_perf)\n",
        "max_perf = kfold_cv_perf[index_of_max_performance]\n",
        "\n",
        "index_of_min_performance = np.argmin(kfold_cv_perf)\n",
        "min_perf = kfold_cv_perf[index_of_min_performance]\n",
        "\n",
        "print(\"Max perfomance = {0:.4f}\".format(max_perf))\n"
      ]
    },
    {
      "cell_type": "code",
      "execution_count": 16,
      "metadata": {
        "colab": {
          "base_uri": "https://localhost:8080/",
          "height": 618
        },
        "id": "ri0GbBFYVPSq",
        "outputId": "3de8ba15-e247-417a-b80e-52a73ff19a9b"
      },
      "outputs": [
        {
          "output_type": "display_data",
          "data": {
            "text/plain": [
              "<Figure size 720x720 with 1 Axes>"
            ],
            "image/png": "[encoded data removed]"
          },
          "metadata": {
            "needs_background": "light"
          }
        }
      ],
      "source": [
        "plt.figure(figsize=(10, 10))\n",
        "plt.title(\"Comparison CV vs K-Fold CV\", fontsize=20)\n",
        "plt.boxplot([cv_perf, kfold_cv_perf], positions=[1,2,])\n",
        "plt.xticks([1,2], [\"CV\", \"K-fold CV\"], fontsize=16);"
      ]
    },
    {
      "cell_type": "markdown",
      "metadata": {
        "id": "t6vCdja6VPSq"
      },
      "source": [
        "\n",
        "# Conclusion\n",
        "\n",
        "First and most important, cross validation helps to produce better models, less prone to overfitting.\n",
        "\n",
        "Secondly, CV reduces a bit the max performance if compared with the two splits approach. But the reason is easy to understand as you're forcing your model to be evaluated against completely new data and results are completely unexpected. However, these lower performance is more similar to the performance you might expect when you put you model into production."
      ]
    },
    {
      "cell_type": "markdown",
      "metadata": {
        "id": "0cPQ6EC3VPSq"
      },
      "source": [
        "## sklearn Practicals"
      ]
    },
    {
      "cell_type": "markdown",
      "metadata": {
        "id": "n7WchG_iVPSr"
      },
      "source": [
        "As we have seen in this practice, CV is the only way of making sense of the actual performance of the model. In this practice we have programmed the entire CV process.\n",
        "However, for real applications, sklearn provides a simple way to compute these CV scores."
      ]
    },
    {
      "cell_type": "markdown",
      "metadata": {
        "id": "AfqhfUa1VPSr"
      },
      "source": [
        "By means of the `cross_val_score` (https://scikit-learn.org/stable/modules/generated/sklearn.model_selection.cross_val_score.html) we can train and compute the accuracy of our model via CV.\n",
        "We only need to defined the classifier we want (LogReg in our example), the features and target variable (`X` and `y`) and the number of folds (10 in our example)"
      ]
    },
    {
      "cell_type": "code",
      "execution_count": 17,
      "metadata": {
        "colab": {
          "base_uri": "https://localhost:8080/"
        },
        "id": "6__dK2pOVPSr",
        "outputId": "3d93c2dc-fa4f-4b6e-d7ff-f07230c581cb"
      },
      "outputs": [
        {
          "output_type": "execute_result",
          "data": {
            "text/plain": [
              "array([0.75238095, 0.73333333, 0.74285714, 0.74285714, 0.80769231,\n",
              "       0.72115385, 0.72115385, 0.81730769, 0.82692308, 0.75961538])"
            ]
          },
          "metadata": {},
          "execution_count": 17
        }
      ],
      "source": [
        "from sklearn.model_selection import cross_val_score\n",
        "\n",
        "\n",
        "cross_val_score(linear_model.LogisticRegression(\n",
        "    max_iter=100, solver='liblinear'), X, y, cv=10)"
      ]
    },
    {
      "cell_type": "markdown",
      "metadata": {
        "id": "SHHGCJcyVPSs"
      },
      "source": [
        "As you can see, you get as a result the accuracy of each one of the folds. If we take their avg we can know the performance of our model"
      ]
    },
    {
      "cell_type": "code",
      "execution_count": 18,
      "metadata": {
        "colab": {
          "base_uri": "https://localhost:8080/"
        },
        "id": "ArcjCUM0VPSs",
        "outputId": "23d7b09a-9d8a-45d4-9b99-f51527be69b4"
      },
      "outputs": [
        {
          "output_type": "stream",
          "name": "stdout",
          "text": [
            "AVG Accuracy of the 10 folds = 0.7625274725274724\n"
          ]
        }
      ],
      "source": [
        "print(\"AVG Accuracy of the 10 folds = {}\".format(np.mean(cross_val_score(\n",
        "    linear_model.LogisticRegression(max_iter=100, solver='liblinear'), X, y, cv=10))))"
      ]
    },
    {
      "cell_type": "markdown",
      "metadata": {
        "id": "ZtPdvWL5VPSs"
      },
      "source": [
        "### Other metrics\n",
        "\n",
        "We can compute several metrics (e.g., F1) by means of this function. The only thing I need is to define the metric I want to compute by means of the `scoring` parameter. (Check all the availabe metrics already implemented in sklearn in the following link: https://scikit-learn.org/stable/modules/model_evaluation.html#scoring-parameter). \n",
        "\n",
        "You can even implement your own metrics: https://scikit-learn.org/stable/modules/generated/sklearn.metrics.make_scorer.html#sklearn.metrics.make_scorer"
      ]
    },
    {
      "cell_type": "code",
      "execution_count": 19,
      "metadata": {
        "colab": {
          "base_uri": "https://localhost:8080/"
        },
        "id": "IkBnvFr0VPSt",
        "outputId": "cbd991e4-6d41-49db-f3ed-a1835cd5f667"
      },
      "outputs": [
        {
          "output_type": "stream",
          "name": "stdout",
          "text": [
            "AVG F1 of the 10 folds = 0.7429744241938334\n"
          ]
        }
      ],
      "source": [
        "print(\"AVG F1 of the 10 folds = {}\".format(\n",
        "    np.mean(\n",
        "        cross_val_score(\n",
        "            linear_model.LogisticRegression(max_iter=100, solver='liblinear'),\n",
        "            X, y, cv=10, scoring='f1_macro')\n",
        "        )\n",
        "    )\n",
        ")\n"
      ]
    },
    {
      "cell_type": "markdown",
      "metadata": {
        "id": "eJ6eyltbVPSt"
      },
      "source": [
        "Finally, take a look to the `cross_val_predict` function if you want to make predictions with the model trained via CV: https://scikit-learn.org/stable/modules/generated/sklearn.metrics.make_scorer.html#sklearn.metrics.make_scorer"
      ]
    },
    {
      "cell_type": "markdown",
      "metadata": {
        "id": "F7dZuqFmVPSt"
      },
      "source": [
        "For more details, I recommend you to check the sklearn documentation:\n",
        "\n",
        "https://scikit-learn.org/stable/modules/cross_validation.html#cross-validation"
      ]
    }
  ],
  "metadata": {
    "celltoolbar": "Slideshow",
    "colab": {
      "name": "practice_solution.ipynb",
      "provenance": [],
      "include_colab_link": true
    },
    "kernelspec": {
      "display_name": "Python 3 (ipykernel)",
      "language": "python",
      "name": "python3"
    },
    "language_info": {
      "codemirror_mode": {
        "name": "ipython",
        "version": 3
      },
      "file_extension": ".py",
      "mimetype": "text/x-python",
      "name": "python",
      "nbconvert_exporter": "python",
      "pygments_lexer": "ipython3",
      "version": "3.9.4"
    },
    "rise": {
      "auto_select": "code",
      "scroll": true,
      "theme": "white",
      "transition": "slide"
    },
    "vscode": {
      "interpreter": {
        "hash": "64419c190862ab83652344d292affa6e72731d2df364650f1f7ea9ee57edac09"
      }
    }
  },
  "nbformat": 4,
  "nbformat_minor": 0
}